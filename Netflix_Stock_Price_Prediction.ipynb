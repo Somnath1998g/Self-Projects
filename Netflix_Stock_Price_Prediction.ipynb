{
  "nbformat": 4,
  "nbformat_minor": 0,
  "metadata": {
    "colab": {
      "provenance": [],
      "authorship_tag": "ABX9TyOTNvocMPjyEhZpWsdgLuFO",
      "include_colab_link": true
    },
    "kernelspec": {
      "name": "python3",
      "display_name": "Python 3"
    },
    "language_info": {
      "name": "python"
    }
  },
  "cells": [
    {
      "cell_type": "markdown",
      "metadata": {
        "id": "view-in-github",
        "colab_type": "text"
      },
      "source": [
        "<a href=\"https://colab.research.google.com/github/Somnath1998g/Self-Projects/blob/main/Netflix_Stock_Price_Prediction.ipynb\" target=\"_parent\"><img src=\"https://colab.research.google.com/assets/colab-badge.svg\" alt=\"Open In Colab\"/></a>"
      ]
    },
    {
      "cell_type": "code",
      "execution_count": null,
      "metadata": {
        "id": "V2iokAWJm6iQ"
      },
      "outputs": [],
      "source": [
        "import numpy as np\n",
        "import pandas as pd\n",
        "import matplotlib\n",
        "import plotly.express as px\n",
        "import seaborn as sns\n",
        "import matplotlib.pyplot as plt\n",
        "from sklearn.model_selection import train_test_split\n",
        "from sklearn.linear_model import LinearRegression\n",
        "from sklearn.metrics import mean_squared_error, mean_absolute_error, mean_absolute_percentage_error,r2_score\n",
        "\n",
        "sns.set_style('darkgrid')\n",
        "matplotlib.rcParams['font.size'] = 14\n",
        "matplotlib.rcParams['figure.figsize'] = (10, 6)\n",
        "matplotlib.rcParams['figure.facecolor'] = '#00000000'"
      ]
    },
    {
      "cell_type": "code",
      "source": [
        "!pip install opendatasets --upgrade --quiet"
      ],
      "metadata": {
        "id": "Bx7NChdmnAse"
      },
      "execution_count": null,
      "outputs": []
    },
    {
      "cell_type": "code",
      "source": [
        "import opendatasets as od"
      ],
      "metadata": {
        "id": "RKVhr5Q_nJmT"
      },
      "execution_count": null,
      "outputs": []
    },
    {
      "cell_type": "markdown",
      "source": [
        "## Data Loading"
      ],
      "metadata": {
        "id": "KZlTWCb1SUuH"
      }
    },
    {
      "cell_type": "code",
      "source": [
        "dataset_url=\"https://www.kaggle.com/datasets/jainilcoder/netflix-stock-price-prediction\""
      ],
      "metadata": {
        "id": "JewvNEdhpI-v"
      },
      "execution_count": null,
      "outputs": []
    },
    {
      "cell_type": "code",
      "source": [
        "od.download(dataset_url)"
      ],
      "metadata": {
        "colab": {
          "base_uri": "https://localhost:8080/"
        },
        "id": "kkOX9d3RppyY",
        "outputId": "0084520d-dc6f-407f-c161-260a668e9ee4"
      },
      "execution_count": null,
      "outputs": [
        {
          "output_type": "stream",
          "name": "stdout",
          "text": [
            "Please provide your Kaggle credentials to download this dataset. Learn more: http://bit.ly/kaggle-creds\n",
            "Your Kaggle username: somnathghoshma22m020\n",
            "Your Kaggle Key: ··········\n",
            "Downloading netflix-stock-price-prediction.zip to ./netflix-stock-price-prediction\n"
          ]
        },
        {
          "output_type": "stream",
          "name": "stderr",
          "text": [
            "100%|██████████| 20.9k/20.9k [00:00<00:00, 29.4MB/s]"
          ]
        },
        {
          "output_type": "stream",
          "name": "stdout",
          "text": [
            "\n"
          ]
        },
        {
          "output_type": "stream",
          "name": "stderr",
          "text": [
            "\n"
          ]
        }
      ]
    },
    {
      "cell_type": "code",
      "source": [
        "import os"
      ],
      "metadata": {
        "id": "rdtMpmnypt-J"
      },
      "execution_count": null,
      "outputs": []
    },
    {
      "cell_type": "code",
      "source": [
        "data_dir=\"./netflix-stock-price-prediction\""
      ],
      "metadata": {
        "id": "GZloVQ--q5xj"
      },
      "execution_count": null,
      "outputs": []
    },
    {
      "cell_type": "code",
      "source": [
        "os.listdir(data_dir)"
      ],
      "metadata": {
        "colab": {
          "base_uri": "https://localhost:8080/"
        },
        "id": "Fkqr17_Fq_LT",
        "outputId": "06b65ce9-337d-43d0-8923-3d7fb68ab8c8"
      },
      "execution_count": null,
      "outputs": [
        {
          "output_type": "execute_result",
          "data": {
            "text/plain": [
              "['NFLX.csv']"
            ]
          },
          "metadata": {},
          "execution_count": 8
        }
      ]
    },
    {
      "cell_type": "code",
      "source": [
        "train_csv=data_dir+'/NFLX.csv'"
      ],
      "metadata": {
        "id": "SPbpm9dNrDeu"
      },
      "execution_count": null,
      "outputs": []
    },
    {
      "cell_type": "code",
      "source": [
        "df = pd.read_csv(train_csv)"
      ],
      "metadata": {
        "id": "Tc62ClFSrHde"
      },
      "execution_count": null,
      "outputs": []
    },
    {
      "cell_type": "code",
      "source": [
        "df"
      ],
      "metadata": {
        "colab": {
          "base_uri": "https://localhost:8080/",
          "height": 423
        },
        "id": "qpDqKkQkraIt",
        "outputId": "6592322d-17ed-49e7-f63f-eda64a75581f"
      },
      "execution_count": null,
      "outputs": [
        {
          "output_type": "execute_result",
          "data": {
            "text/plain": [
              "            Date        Open        High         Low       Close   Adj Close  \\\n",
              "0     2018-02-05  262.000000  267.899994  250.029999  254.259995  254.259995   \n",
              "1     2018-02-06  247.699997  266.700012  245.000000  265.720001  265.720001   \n",
              "2     2018-02-07  266.579987  272.450012  264.329987  264.559998  264.559998   \n",
              "3     2018-02-08  267.079987  267.619995  250.000000  250.100006  250.100006   \n",
              "4     2018-02-09  253.850006  255.800003  236.110001  249.470001  249.470001   \n",
              "...          ...         ...         ...         ...         ...         ...   \n",
              "1004  2022-01-31  401.970001  427.700012  398.200012  427.140015  427.140015   \n",
              "1005  2022-02-01  432.959991  458.480011  425.540009  457.130005  457.130005   \n",
              "1006  2022-02-02  448.250000  451.980011  426.480011  429.480011  429.480011   \n",
              "1007  2022-02-03  421.440002  429.260010  404.279999  405.600006  405.600006   \n",
              "1008  2022-02-04  407.309998  412.769989  396.640015  410.170013  410.170013   \n",
              "\n",
              "        Volume  \n",
              "0     11896100  \n",
              "1     12595800  \n",
              "2      8981500  \n",
              "3      9306700  \n",
              "4     16906900  \n",
              "...        ...  \n",
              "1004  20047500  \n",
              "1005  22542300  \n",
              "1006  14346000  \n",
              "1007   9905200  \n",
              "1008   7782400  \n",
              "\n",
              "[1009 rows x 7 columns]"
            ],
            "text/html": [
              "\n",
              "  <div id=\"df-2743b932-02cf-4cdf-91a7-da982148e828\" class=\"colab-df-container\">\n",
              "    <div>\n",
              "<style scoped>\n",
              "    .dataframe tbody tr th:only-of-type {\n",
              "        vertical-align: middle;\n",
              "    }\n",
              "\n",
              "    .dataframe tbody tr th {\n",
              "        vertical-align: top;\n",
              "    }\n",
              "\n",
              "    .dataframe thead th {\n",
              "        text-align: right;\n",
              "    }\n",
              "</style>\n",
              "<table border=\"1\" class=\"dataframe\">\n",
              "  <thead>\n",
              "    <tr style=\"text-align: right;\">\n",
              "      <th></th>\n",
              "      <th>Date</th>\n",
              "      <th>Open</th>\n",
              "      <th>High</th>\n",
              "      <th>Low</th>\n",
              "      <th>Close</th>\n",
              "      <th>Adj Close</th>\n",
              "      <th>Volume</th>\n",
              "    </tr>\n",
              "  </thead>\n",
              "  <tbody>\n",
              "    <tr>\n",
              "      <th>0</th>\n",
              "      <td>2018-02-05</td>\n",
              "      <td>262.000000</td>\n",
              "      <td>267.899994</td>\n",
              "      <td>250.029999</td>\n",
              "      <td>254.259995</td>\n",
              "      <td>254.259995</td>\n",
              "      <td>11896100</td>\n",
              "    </tr>\n",
              "    <tr>\n",
              "      <th>1</th>\n",
              "      <td>2018-02-06</td>\n",
              "      <td>247.699997</td>\n",
              "      <td>266.700012</td>\n",
              "      <td>245.000000</td>\n",
              "      <td>265.720001</td>\n",
              "      <td>265.720001</td>\n",
              "      <td>12595800</td>\n",
              "    </tr>\n",
              "    <tr>\n",
              "      <th>2</th>\n",
              "      <td>2018-02-07</td>\n",
              "      <td>266.579987</td>\n",
              "      <td>272.450012</td>\n",
              "      <td>264.329987</td>\n",
              "      <td>264.559998</td>\n",
              "      <td>264.559998</td>\n",
              "      <td>8981500</td>\n",
              "    </tr>\n",
              "    <tr>\n",
              "      <th>3</th>\n",
              "      <td>2018-02-08</td>\n",
              "      <td>267.079987</td>\n",
              "      <td>267.619995</td>\n",
              "      <td>250.000000</td>\n",
              "      <td>250.100006</td>\n",
              "      <td>250.100006</td>\n",
              "      <td>9306700</td>\n",
              "    </tr>\n",
              "    <tr>\n",
              "      <th>4</th>\n",
              "      <td>2018-02-09</td>\n",
              "      <td>253.850006</td>\n",
              "      <td>255.800003</td>\n",
              "      <td>236.110001</td>\n",
              "      <td>249.470001</td>\n",
              "      <td>249.470001</td>\n",
              "      <td>16906900</td>\n",
              "    </tr>\n",
              "    <tr>\n",
              "      <th>...</th>\n",
              "      <td>...</td>\n",
              "      <td>...</td>\n",
              "      <td>...</td>\n",
              "      <td>...</td>\n",
              "      <td>...</td>\n",
              "      <td>...</td>\n",
              "      <td>...</td>\n",
              "    </tr>\n",
              "    <tr>\n",
              "      <th>1004</th>\n",
              "      <td>2022-01-31</td>\n",
              "      <td>401.970001</td>\n",
              "      <td>427.700012</td>\n",
              "      <td>398.200012</td>\n",
              "      <td>427.140015</td>\n",
              "      <td>427.140015</td>\n",
              "      <td>20047500</td>\n",
              "    </tr>\n",
              "    <tr>\n",
              "      <th>1005</th>\n",
              "      <td>2022-02-01</td>\n",
              "      <td>432.959991</td>\n",
              "      <td>458.480011</td>\n",
              "      <td>425.540009</td>\n",
              "      <td>457.130005</td>\n",
              "      <td>457.130005</td>\n",
              "      <td>22542300</td>\n",
              "    </tr>\n",
              "    <tr>\n",
              "      <th>1006</th>\n",
              "      <td>2022-02-02</td>\n",
              "      <td>448.250000</td>\n",
              "      <td>451.980011</td>\n",
              "      <td>426.480011</td>\n",
              "      <td>429.480011</td>\n",
              "      <td>429.480011</td>\n",
              "      <td>14346000</td>\n",
              "    </tr>\n",
              "    <tr>\n",
              "      <th>1007</th>\n",
              "      <td>2022-02-03</td>\n",
              "      <td>421.440002</td>\n",
              "      <td>429.260010</td>\n",
              "      <td>404.279999</td>\n",
              "      <td>405.600006</td>\n",
              "      <td>405.600006</td>\n",
              "      <td>9905200</td>\n",
              "    </tr>\n",
              "    <tr>\n",
              "      <th>1008</th>\n",
              "      <td>2022-02-04</td>\n",
              "      <td>407.309998</td>\n",
              "      <td>412.769989</td>\n",
              "      <td>396.640015</td>\n",
              "      <td>410.170013</td>\n",
              "      <td>410.170013</td>\n",
              "      <td>7782400</td>\n",
              "    </tr>\n",
              "  </tbody>\n",
              "</table>\n",
              "<p>1009 rows × 7 columns</p>\n",
              "</div>\n",
              "    <div class=\"colab-df-buttons\">\n",
              "\n",
              "  <div class=\"colab-df-container\">\n",
              "    <button class=\"colab-df-convert\" onclick=\"convertToInteractive('df-2743b932-02cf-4cdf-91a7-da982148e828')\"\n",
              "            title=\"Convert this dataframe to an interactive table.\"\n",
              "            style=\"display:none;\">\n",
              "\n",
              "  <svg xmlns=\"http://www.w3.org/2000/svg\" height=\"24px\" viewBox=\"0 -960 960 960\">\n",
              "    <path d=\"M120-120v-720h720v720H120Zm60-500h600v-160H180v160Zm220 220h160v-160H400v160Zm0 220h160v-160H400v160ZM180-400h160v-160H180v160Zm440 0h160v-160H620v160ZM180-180h160v-160H180v160Zm440 0h160v-160H620v160Z\"/>\n",
              "  </svg>\n",
              "    </button>\n",
              "\n",
              "  <style>\n",
              "    .colab-df-container {\n",
              "      display:flex;\n",
              "      gap: 12px;\n",
              "    }\n",
              "\n",
              "    .colab-df-convert {\n",
              "      background-color: #E8F0FE;\n",
              "      border: none;\n",
              "      border-radius: 50%;\n",
              "      cursor: pointer;\n",
              "      display: none;\n",
              "      fill: #1967D2;\n",
              "      height: 32px;\n",
              "      padding: 0 0 0 0;\n",
              "      width: 32px;\n",
              "    }\n",
              "\n",
              "    .colab-df-convert:hover {\n",
              "      background-color: #E2EBFA;\n",
              "      box-shadow: 0px 1px 2px rgba(60, 64, 67, 0.3), 0px 1px 3px 1px rgba(60, 64, 67, 0.15);\n",
              "      fill: #174EA6;\n",
              "    }\n",
              "\n",
              "    .colab-df-buttons div {\n",
              "      margin-bottom: 4px;\n",
              "    }\n",
              "\n",
              "    [theme=dark] .colab-df-convert {\n",
              "      background-color: #3B4455;\n",
              "      fill: #D2E3FC;\n",
              "    }\n",
              "\n",
              "    [theme=dark] .colab-df-convert:hover {\n",
              "      background-color: #434B5C;\n",
              "      box-shadow: 0px 1px 3px 1px rgba(0, 0, 0, 0.15);\n",
              "      filter: drop-shadow(0px 1px 2px rgba(0, 0, 0, 0.3));\n",
              "      fill: #FFFFFF;\n",
              "    }\n",
              "  </style>\n",
              "\n",
              "    <script>\n",
              "      const buttonEl =\n",
              "        document.querySelector('#df-2743b932-02cf-4cdf-91a7-da982148e828 button.colab-df-convert');\n",
              "      buttonEl.style.display =\n",
              "        google.colab.kernel.accessAllowed ? 'block' : 'none';\n",
              "\n",
              "      async function convertToInteractive(key) {\n",
              "        const element = document.querySelector('#df-2743b932-02cf-4cdf-91a7-da982148e828');\n",
              "        const dataTable =\n",
              "          await google.colab.kernel.invokeFunction('convertToInteractive',\n",
              "                                                    [key], {});\n",
              "        if (!dataTable) return;\n",
              "\n",
              "        const docLinkHtml = 'Like what you see? Visit the ' +\n",
              "          '<a target=\"_blank\" href=https://colab.research.google.com/notebooks/data_table.ipynb>data table notebook</a>'\n",
              "          + ' to learn more about interactive tables.';\n",
              "        element.innerHTML = '';\n",
              "        dataTable['output_type'] = 'display_data';\n",
              "        await google.colab.output.renderOutput(dataTable, element);\n",
              "        const docLink = document.createElement('div');\n",
              "        docLink.innerHTML = docLinkHtml;\n",
              "        element.appendChild(docLink);\n",
              "      }\n",
              "    </script>\n",
              "  </div>\n",
              "\n",
              "\n",
              "<div id=\"df-2eba19a9-a01d-43dd-90fc-cd084e357088\">\n",
              "  <button class=\"colab-df-quickchart\" onclick=\"quickchart('df-2eba19a9-a01d-43dd-90fc-cd084e357088')\"\n",
              "            title=\"Suggest charts.\"\n",
              "            style=\"display:none;\">\n",
              "\n",
              "<svg xmlns=\"http://www.w3.org/2000/svg\" height=\"24px\"viewBox=\"0 0 24 24\"\n",
              "     width=\"24px\">\n",
              "    <g>\n",
              "        <path d=\"M19 3H5c-1.1 0-2 .9-2 2v14c0 1.1.9 2 2 2h14c1.1 0 2-.9 2-2V5c0-1.1-.9-2-2-2zM9 17H7v-7h2v7zm4 0h-2V7h2v10zm4 0h-2v-4h2v4z\"/>\n",
              "    </g>\n",
              "</svg>\n",
              "  </button>\n",
              "\n",
              "<style>\n",
              "  .colab-df-quickchart {\n",
              "      --bg-color: #E8F0FE;\n",
              "      --fill-color: #1967D2;\n",
              "      --hover-bg-color: #E2EBFA;\n",
              "      --hover-fill-color: #174EA6;\n",
              "      --disabled-fill-color: #AAA;\n",
              "      --disabled-bg-color: #DDD;\n",
              "  }\n",
              "\n",
              "  [theme=dark] .colab-df-quickchart {\n",
              "      --bg-color: #3B4455;\n",
              "      --fill-color: #D2E3FC;\n",
              "      --hover-bg-color: #434B5C;\n",
              "      --hover-fill-color: #FFFFFF;\n",
              "      --disabled-bg-color: #3B4455;\n",
              "      --disabled-fill-color: #666;\n",
              "  }\n",
              "\n",
              "  .colab-df-quickchart {\n",
              "    background-color: var(--bg-color);\n",
              "    border: none;\n",
              "    border-radius: 50%;\n",
              "    cursor: pointer;\n",
              "    display: none;\n",
              "    fill: var(--fill-color);\n",
              "    height: 32px;\n",
              "    padding: 0;\n",
              "    width: 32px;\n",
              "  }\n",
              "\n",
              "  .colab-df-quickchart:hover {\n",
              "    background-color: var(--hover-bg-color);\n",
              "    box-shadow: 0 1px 2px rgba(60, 64, 67, 0.3), 0 1px 3px 1px rgba(60, 64, 67, 0.15);\n",
              "    fill: var(--button-hover-fill-color);\n",
              "  }\n",
              "\n",
              "  .colab-df-quickchart-complete:disabled,\n",
              "  .colab-df-quickchart-complete:disabled:hover {\n",
              "    background-color: var(--disabled-bg-color);\n",
              "    fill: var(--disabled-fill-color);\n",
              "    box-shadow: none;\n",
              "  }\n",
              "\n",
              "  .colab-df-spinner {\n",
              "    border: 2px solid var(--fill-color);\n",
              "    border-color: transparent;\n",
              "    border-bottom-color: var(--fill-color);\n",
              "    animation:\n",
              "      spin 1s steps(1) infinite;\n",
              "  }\n",
              "\n",
              "  @keyframes spin {\n",
              "    0% {\n",
              "      border-color: transparent;\n",
              "      border-bottom-color: var(--fill-color);\n",
              "      border-left-color: var(--fill-color);\n",
              "    }\n",
              "    20% {\n",
              "      border-color: transparent;\n",
              "      border-left-color: var(--fill-color);\n",
              "      border-top-color: var(--fill-color);\n",
              "    }\n",
              "    30% {\n",
              "      border-color: transparent;\n",
              "      border-left-color: var(--fill-color);\n",
              "      border-top-color: var(--fill-color);\n",
              "      border-right-color: var(--fill-color);\n",
              "    }\n",
              "    40% {\n",
              "      border-color: transparent;\n",
              "      border-right-color: var(--fill-color);\n",
              "      border-top-color: var(--fill-color);\n",
              "    }\n",
              "    60% {\n",
              "      border-color: transparent;\n",
              "      border-right-color: var(--fill-color);\n",
              "    }\n",
              "    80% {\n",
              "      border-color: transparent;\n",
              "      border-right-color: var(--fill-color);\n",
              "      border-bottom-color: var(--fill-color);\n",
              "    }\n",
              "    90% {\n",
              "      border-color: transparent;\n",
              "      border-bottom-color: var(--fill-color);\n",
              "    }\n",
              "  }\n",
              "</style>\n",
              "\n",
              "  <script>\n",
              "    async function quickchart(key) {\n",
              "      const quickchartButtonEl =\n",
              "        document.querySelector('#' + key + ' button');\n",
              "      quickchartButtonEl.disabled = true;  // To prevent multiple clicks.\n",
              "      quickchartButtonEl.classList.add('colab-df-spinner');\n",
              "      try {\n",
              "        const charts = await google.colab.kernel.invokeFunction(\n",
              "            'suggestCharts', [key], {});\n",
              "      } catch (error) {\n",
              "        console.error('Error during call to suggestCharts:', error);\n",
              "      }\n",
              "      quickchartButtonEl.classList.remove('colab-df-spinner');\n",
              "      quickchartButtonEl.classList.add('colab-df-quickchart-complete');\n",
              "    }\n",
              "    (() => {\n",
              "      let quickchartButtonEl =\n",
              "        document.querySelector('#df-2eba19a9-a01d-43dd-90fc-cd084e357088 button');\n",
              "      quickchartButtonEl.style.display =\n",
              "        google.colab.kernel.accessAllowed ? 'block' : 'none';\n",
              "    })();\n",
              "  </script>\n",
              "</div>\n",
              "    </div>\n",
              "  </div>\n"
            ]
          },
          "metadata": {},
          "execution_count": 11
        }
      ]
    },
    {
      "cell_type": "code",
      "source": [
        "viz = df.copy()"
      ],
      "metadata": {
        "id": "uSwRjGG9rtUa"
      },
      "execution_count": null,
      "outputs": []
    },
    {
      "cell_type": "code",
      "source": [
        "plt.title('No. of Rows per Year')\n",
        "sns.countplot(x=pd.to_datetime(df.Date).dt.year);"
      ],
      "metadata": {
        "colab": {
          "base_uri": "https://localhost:8080/",
          "height": 578
        },
        "id": "sNvM2q4-7Aoe",
        "outputId": "d9df3b57-783c-426c-cbea-d7960ba058c9"
      },
      "execution_count": null,
      "outputs": [
        {
          "output_type": "display_data",
          "data": {
            "text/plain": [
              "<Figure size 1000x600 with 1 Axes>"
            ],
            "image/png": "[encoded data removed]"
          },
          "metadata": {
            "needs_background": "light"
          }
        }
      ]
    },
    {
      "cell_type": "code",
      "source": [],
      "metadata": {
        "id": "9_lqmcuB7Asi"
      },
      "execution_count": null,
      "outputs": []
    },
    {
      "cell_type": "markdown",
      "source": [
        "## Data preparation"
      ],
      "metadata": {
        "id": "XtLHZyL7shaN"
      }
    },
    {
      "cell_type": "code",
      "source": [
        "df.isnull().sum()"
      ],
      "metadata": {
        "colab": {
          "base_uri": "https://localhost:8080/"
        },
        "id": "M28ksIF_seC2",
        "outputId": "811ac68d-3249-4916-a8f3-03bba83ccfc0"
      },
      "execution_count": null,
      "outputs": [
        {
          "output_type": "execute_result",
          "data": {
            "text/plain": [
              "Date         0\n",
              "Open         0\n",
              "High         0\n",
              "Low          0\n",
              "Close        0\n",
              "Adj Close    0\n",
              "Volume       0\n",
              "dtype: int64"
            ]
          },
          "metadata": {},
          "execution_count": 14
        }
      ]
    },
    {
      "cell_type": "code",
      "source": [
        "df.shape"
      ],
      "metadata": {
        "colab": {
          "base_uri": "https://localhost:8080/"
        },
        "id": "CelUa_RdsnXT",
        "outputId": "e0c8c45b-774f-40ac-d86b-c99df42d52ab"
      },
      "execution_count": null,
      "outputs": [
        {
          "output_type": "execute_result",
          "data": {
            "text/plain": [
              "(1009, 7)"
            ]
          },
          "metadata": {},
          "execution_count": 15
        }
      ]
    },
    {
      "cell_type": "code",
      "source": [
        "df.info()"
      ],
      "metadata": {
        "colab": {
          "base_uri": "https://localhost:8080/"
        },
        "id": "maUsfm13sqBb",
        "outputId": "3ceb9e61-fce5-4aa2-e224-5156b204a908"
      },
      "execution_count": null,
      "outputs": [
        {
          "output_type": "stream",
          "name": "stdout",
          "text": [
            "<class 'pandas.core.frame.DataFrame'>\n",
            "RangeIndex: 1009 entries, 0 to 1008\n",
            "Data columns (total 7 columns):\n",
            " #   Column     Non-Null Count  Dtype  \n",
            "---  ------     --------------  -----  \n",
            " 0   Date       1009 non-null   object \n",
            " 1   Open       1009 non-null   float64\n",
            " 2   High       1009 non-null   float64\n",
            " 3   Low        1009 non-null   float64\n",
            " 4   Close      1009 non-null   float64\n",
            " 5   Adj Close  1009 non-null   float64\n",
            " 6   Volume     1009 non-null   int64  \n",
            "dtypes: float64(5), int64(1), object(1)\n",
            "memory usage: 55.3+ KB\n"
          ]
        }
      ]
    },
    {
      "cell_type": "code",
      "source": [
        "df[\"Date\"].min()"
      ],
      "metadata": {
        "colab": {
          "base_uri": "https://localhost:8080/",
          "height": 36
        },
        "id": "Va-OqHz3suCZ",
        "outputId": "11730996-34f7-475e-822e-422f4060dc3d"
      },
      "execution_count": null,
      "outputs": [
        {
          "output_type": "execute_result",
          "data": {
            "text/plain": [
              "'2018-02-05'"
            ],
            "application/vnd.google.colaboratory.intrinsic+json": {
              "type": "string"
            }
          },
          "metadata": {},
          "execution_count": 17
        }
      ]
    },
    {
      "cell_type": "code",
      "source": [
        "df[\"Date\"].max()"
      ],
      "metadata": {
        "colab": {
          "base_uri": "https://localhost:8080/",
          "height": 36
        },
        "id": "kHFq-pdhs66x",
        "outputId": "6ea846c0-892c-483f-a9fe-7577d84d1fa4"
      },
      "execution_count": null,
      "outputs": [
        {
          "output_type": "execute_result",
          "data": {
            "text/plain": [
              "'2022-02-04'"
            ],
            "application/vnd.google.colaboratory.intrinsic+json": {
              "type": "string"
            }
          },
          "metadata": {},
          "execution_count": 18
        }
      ]
    },
    {
      "cell_type": "code",
      "source": [
        "df.describe()"
      ],
      "metadata": {
        "colab": {
          "base_uri": "https://localhost:8080/",
          "height": 300
        },
        "id": "sMC2mQfJs9yC",
        "outputId": "e584d53c-3ff2-4c72-8b10-4c445c8dbf39"
      },
      "execution_count": null,
      "outputs": [
        {
          "output_type": "execute_result",
          "data": {
            "text/plain": [
              "              Open         High          Low        Close    Adj Close  \\\n",
              "count  1009.000000  1009.000000  1009.000000  1009.000000  1009.000000   \n",
              "mean    419.059673   425.320703   412.374044   419.000733   419.000733   \n",
              "std     108.537532   109.262960   107.555867   108.289999   108.289999   \n",
              "min     233.919998   250.649994   231.229996   233.880005   233.880005   \n",
              "25%     331.489990   336.299988   326.000000   331.619995   331.619995   \n",
              "50%     377.769989   383.010010   370.880005   378.670013   378.670013   \n",
              "75%     509.130005   515.630005   502.529999   509.079987   509.079987   \n",
              "max     692.349976   700.989990   686.090027   691.690002   691.690002   \n",
              "\n",
              "             Volume  \n",
              "count  1.009000e+03  \n",
              "mean   7.570685e+06  \n",
              "std    5.465535e+06  \n",
              "min    1.144000e+06  \n",
              "25%    4.091900e+06  \n",
              "50%    5.934500e+06  \n",
              "75%    9.322400e+06  \n",
              "max    5.890430e+07  "
            ],
            "text/html": [
              "\n",
              "  <div id=\"df-eeb44683-67fd-4666-8de8-22056f504939\" class=\"colab-df-container\">\n",
              "    <div>\n",
              "<style scoped>\n",
              "    .dataframe tbody tr th:only-of-type {\n",
              "        vertical-align: middle;\n",
              "    }\n",
              "\n",
              "    .dataframe tbody tr th {\n",
              "        vertical-align: top;\n",
              "    }\n",
              "\n",
              "    .dataframe thead th {\n",
              "        text-align: right;\n",
              "    }\n",
              "</style>\n",
              "<table border=\"1\" class=\"dataframe\">\n",
              "  <thead>\n",
              "    <tr style=\"text-align: right;\">\n",
              "      <th></th>\n",
              "      <th>Open</th>\n",
              "      <th>High</th>\n",
              "      <th>Low</th>\n",
              "      <th>Close</th>\n",
              "      <th>Adj Close</th>\n",
              "      <th>Volume</th>\n",
              "    </tr>\n",
              "  </thead>\n",
              "  <tbody>\n",
              "    <tr>\n",
              "      <th>count</th>\n",
              "      <td>1009.000000</td>\n",
              "      <td>1009.000000</td>\n",
              "      <td>1009.000000</td>\n",
              "      <td>1009.000000</td>\n",
              "      <td>1009.000000</td>\n",
              "      <td>1.009000e+03</td>\n",
              "    </tr>\n",
              "    <tr>\n",
              "      <th>mean</th>\n",
              "      <td>419.059673</td>\n",
              "      <td>425.320703</td>\n",
              "      <td>412.374044</td>\n",
              "      <td>419.000733</td>\n",
              "      <td>419.000733</td>\n",
              "      <td>7.570685e+06</td>\n",
              "    </tr>\n",
              "    <tr>\n",
              "      <th>std</th>\n",
              "      <td>108.537532</td>\n",
              "      <td>109.262960</td>\n",
              "      <td>107.555867</td>\n",
              "      <td>108.289999</td>\n",
              "      <td>108.289999</td>\n",
              "      <td>5.465535e+06</td>\n",
              "    </tr>\n",
              "    <tr>\n",
              "      <th>min</th>\n",
              "      <td>233.919998</td>\n",
              "      <td>250.649994</td>\n",
              "      <td>231.229996</td>\n",
              "      <td>233.880005</td>\n",
              "      <td>233.880005</td>\n",
              "      <td>1.144000e+06</td>\n",
              "    </tr>\n",
              "    <tr>\n",
              "      <th>25%</th>\n",
              "      <td>331.489990</td>\n",
              "      <td>336.299988</td>\n",
              "      <td>326.000000</td>\n",
              "      <td>331.619995</td>\n",
              "      <td>331.619995</td>\n",
              "      <td>4.091900e+06</td>\n",
              "    </tr>\n",
              "    <tr>\n",
              "      <th>50%</th>\n",
              "      <td>377.769989</td>\n",
              "      <td>383.010010</td>\n",
              "      <td>370.880005</td>\n",
              "      <td>378.670013</td>\n",
              "      <td>378.670013</td>\n",
              "      <td>5.934500e+06</td>\n",
              "    </tr>\n",
              "    <tr>\n",
              "      <th>75%</th>\n",
              "      <td>509.130005</td>\n",
              "      <td>515.630005</td>\n",
              "      <td>502.529999</td>\n",
              "      <td>509.079987</td>\n",
              "      <td>509.079987</td>\n",
              "      <td>9.322400e+06</td>\n",
              "    </tr>\n",
              "    <tr>\n",
              "      <th>max</th>\n",
              "      <td>692.349976</td>\n",
              "      <td>700.989990</td>\n",
              "      <td>686.090027</td>\n",
              "      <td>691.690002</td>\n",
              "      <td>691.690002</td>\n",
              "      <td>5.890430e+07</td>\n",
              "    </tr>\n",
              "  </tbody>\n",
              "</table>\n",
              "</div>\n",
              "    <div class=\"colab-df-buttons\">\n",
              "\n",
              "  <div class=\"colab-df-container\">\n",
              "    <button class=\"colab-df-convert\" onclick=\"convertToInteractive('df-eeb44683-67fd-4666-8de8-22056f504939')\"\n",
              "            title=\"Convert this dataframe to an interactive table.\"\n",
              "            style=\"display:none;\">\n",
              "\n",
              "  <svg xmlns=\"http://www.w3.org/2000/svg\" height=\"24px\" viewBox=\"0 -960 960 960\">\n",
              "    <path d=\"M120-120v-720h720v720H120Zm60-500h600v-160H180v160Zm220 220h160v-160H400v160Zm0 220h160v-160H400v160ZM180-400h160v-160H180v160Zm440 0h160v-160H620v160ZM180-180h160v-160H180v160Zm440 0h160v-160H620v160Z\"/>\n",
              "  </svg>\n",
              "    </button>\n",
              "\n",
              "  <style>\n",
              "    .colab-df-container {\n",
              "      display:flex;\n",
              "      gap: 12px;\n",
              "    }\n",
              "\n",
              "    .colab-df-convert {\n",
              "      background-color: #E8F0FE;\n",
              "      border: none;\n",
              "      border-radius: 50%;\n",
              "      cursor: pointer;\n",
              "      display: none;\n",
              "      fill: #1967D2;\n",
              "      height: 32px;\n",
              "      padding: 0 0 0 0;\n",
              "      width: 32px;\n",
              "    }\n",
              "\n",
              "    .colab-df-convert:hover {\n",
              "      background-color: #E2EBFA;\n",
              "      box-shadow: 0px 1px 2px rgba(60, 64, 67, 0.3), 0px 1px 3px 1px rgba(60, 64, 67, 0.15);\n",
              "      fill: #174EA6;\n",
              "    }\n",
              "\n",
              "    .colab-df-buttons div {\n",
              "      margin-bottom: 4px;\n",
              "    }\n",
              "\n",
              "    [theme=dark] .colab-df-convert {\n",
              "      background-color: #3B4455;\n",
              "      fill: #D2E3FC;\n",
              "    }\n",
              "\n",
              "    [theme=dark] .colab-df-convert:hover {\n",
              "      background-color: #434B5C;\n",
              "      box-shadow: 0px 1px 3px 1px rgba(0, 0, 0, 0.15);\n",
              "      filter: drop-shadow(0px 1px 2px rgba(0, 0, 0, 0.3));\n",
              "      fill: #FFFFFF;\n",
              "    }\n",
              "  </style>\n",
              "\n",
              "    <script>\n",
              "      const buttonEl =\n",
              "        document.querySelector('#df-eeb44683-67fd-4666-8de8-22056f504939 button.colab-df-convert');\n",
              "      buttonEl.style.display =\n",
              "        google.colab.kernel.accessAllowed ? 'block' : 'none';\n",
              "\n",
              "      async function convertToInteractive(key) {\n",
              "        const element = document.querySelector('#df-eeb44683-67fd-4666-8de8-22056f504939');\n",
              "        const dataTable =\n",
              "          await google.colab.kernel.invokeFunction('convertToInteractive',\n",
              "                                                    [key], {});\n",
              "        if (!dataTable) return;\n",
              "\n",
              "        const docLinkHtml = 'Like what you see? Visit the ' +\n",
              "          '<a target=\"_blank\" href=https://colab.research.google.com/notebooks/data_table.ipynb>data table notebook</a>'\n",
              "          + ' to learn more about interactive tables.';\n",
              "        element.innerHTML = '';\n",
              "        dataTable['output_type'] = 'display_data';\n",
              "        await google.colab.output.renderOutput(dataTable, element);\n",
              "        const docLink = document.createElement('div');\n",
              "        docLink.innerHTML = docLinkHtml;\n",
              "        element.appendChild(docLink);\n",
              "      }\n",
              "    </script>\n",
              "  </div>\n",
              "\n",
              "\n",
              "<div id=\"df-af1530ff-05b9-4357-90cc-adef1d7ea047\">\n",
              "  <button class=\"colab-df-quickchart\" onclick=\"quickchart('df-af1530ff-05b9-4357-90cc-adef1d7ea047')\"\n",
              "            title=\"Suggest charts.\"\n",
              "            style=\"display:none;\">\n",
              "\n",
              "<svg xmlns=\"http://www.w3.org/2000/svg\" height=\"24px\"viewBox=\"0 0 24 24\"\n",
              "     width=\"24px\">\n",
              "    <g>\n",
              "        <path d=\"M19 3H5c-1.1 0-2 .9-2 2v14c0 1.1.9 2 2 2h14c1.1 0 2-.9 2-2V5c0-1.1-.9-2-2-2zM9 17H7v-7h2v7zm4 0h-2V7h2v10zm4 0h-2v-4h2v4z\"/>\n",
              "    </g>\n",
              "</svg>\n",
              "  </button>\n",
              "\n",
              "<style>\n",
              "  .colab-df-quickchart {\n",
              "      --bg-color: #E8F0FE;\n",
              "      --fill-color: #1967D2;\n",
              "      --hover-bg-color: #E2EBFA;\n",
              "      --hover-fill-color: #174EA6;\n",
              "      --disabled-fill-color: #AAA;\n",
              "      --disabled-bg-color: #DDD;\n",
              "  }\n",
              "\n",
              "  [theme=dark] .colab-df-quickchart {\n",
              "      --bg-color: #3B4455;\n",
              "      --fill-color: #D2E3FC;\n",
              "      --hover-bg-color: #434B5C;\n",
              "      --hover-fill-color: #FFFFFF;\n",
              "      --disabled-bg-color: #3B4455;\n",
              "      --disabled-fill-color: #666;\n",
              "  }\n",
              "\n",
              "  .colab-df-quickchart {\n",
              "    background-color: var(--bg-color);\n",
              "    border: none;\n",
              "    border-radius: 50%;\n",
              "    cursor: pointer;\n",
              "    display: none;\n",
              "    fill: var(--fill-color);\n",
              "    height: 32px;\n",
              "    padding: 0;\n",
              "    width: 32px;\n",
              "  }\n",
              "\n",
              "  .colab-df-quickchart:hover {\n",
              "    background-color: var(--hover-bg-color);\n",
              "    box-shadow: 0 1px 2px rgba(60, 64, 67, 0.3), 0 1px 3px 1px rgba(60, 64, 67, 0.15);\n",
              "    fill: var(--button-hover-fill-color);\n",
              "  }\n",
              "\n",
              "  .colab-df-quickchart-complete:disabled,\n",
              "  .colab-df-quickchart-complete:disabled:hover {\n",
              "    background-color: var(--disabled-bg-color);\n",
              "    fill: var(--disabled-fill-color);\n",
              "    box-shadow: none;\n",
              "  }\n",
              "\n",
              "  .colab-df-spinner {\n",
              "    border: 2px solid var(--fill-color);\n",
              "    border-color: transparent;\n",
              "    border-bottom-color: var(--fill-color);\n",
              "    animation:\n",
              "      spin 1s steps(1) infinite;\n",
              "  }\n",
              "\n",
              "  @keyframes spin {\n",
              "    0% {\n",
              "      border-color: transparent;\n",
              "      border-bottom-color: var(--fill-color);\n",
              "      border-left-color: var(--fill-color);\n",
              "    }\n",
              "    20% {\n",
              "      border-color: transparent;\n",
              "      border-left-color: var(--fill-color);\n",
              "      border-top-color: var(--fill-color);\n",
              "    }\n",
              "    30% {\n",
              "      border-color: transparent;\n",
              "      border-left-color: var(--fill-color);\n",
              "      border-top-color: var(--fill-color);\n",
              "      border-right-color: var(--fill-color);\n",
              "    }\n",
              "    40% {\n",
              "      border-color: transparent;\n",
              "      border-right-color: var(--fill-color);\n",
              "      border-top-color: var(--fill-color);\n",
              "    }\n",
              "    60% {\n",
              "      border-color: transparent;\n",
              "      border-right-color: var(--fill-color);\n",
              "    }\n",
              "    80% {\n",
              "      border-color: transparent;\n",
              "      border-right-color: var(--fill-color);\n",
              "      border-bottom-color: var(--fill-color);\n",
              "    }\n",
              "    90% {\n",
              "      border-color: transparent;\n",
              "      border-bottom-color: var(--fill-color);\n",
              "    }\n",
              "  }\n",
              "</style>\n",
              "\n",
              "  <script>\n",
              "    async function quickchart(key) {\n",
              "      const quickchartButtonEl =\n",
              "        document.querySelector('#' + key + ' button');\n",
              "      quickchartButtonEl.disabled = true;  // To prevent multiple clicks.\n",
              "      quickchartButtonEl.classList.add('colab-df-spinner');\n",
              "      try {\n",
              "        const charts = await google.colab.kernel.invokeFunction(\n",
              "            'suggestCharts', [key], {});\n",
              "      } catch (error) {\n",
              "        console.error('Error during call to suggestCharts:', error);\n",
              "      }\n",
              "      quickchartButtonEl.classList.remove('colab-df-spinner');\n",
              "      quickchartButtonEl.classList.add('colab-df-quickchart-complete');\n",
              "    }\n",
              "    (() => {\n",
              "      let quickchartButtonEl =\n",
              "        document.querySelector('#df-af1530ff-05b9-4357-90cc-adef1d7ea047 button');\n",
              "      quickchartButtonEl.style.display =\n",
              "        google.colab.kernel.accessAllowed ? 'block' : 'none';\n",
              "    })();\n",
              "  </script>\n",
              "</div>\n",
              "    </div>\n",
              "  </div>\n"
            ]
          },
          "metadata": {},
          "execution_count": 19
        }
      ]
    },
    {
      "cell_type": "markdown",
      "source": [
        "## Model Visualization"
      ],
      "metadata": {
        "id": "jxvYLsqhy7bf"
      }
    },
    {
      "cell_type": "code",
      "source": [
        "def style():\n",
        "    plt.figure(facecolor='black', figsize=(15,10))\n",
        "    ax = plt.axes()\n",
        "\n",
        "    ax.tick_params(axis='x', colors='white')    #setting up X-axis tick color to white\n",
        "    ax.tick_params(axis='y', colors='white')    #setting up Y-axis tick color to white\n",
        "\n",
        "    ax.spines['left'].set_color('white')        #setting up Y-axis spine color to white\n",
        "    #ax.spines['right'].set_color('white')\n",
        "    #ax.spines['top'].set_color('white')\n",
        "    ax.spines['bottom'].set_color('white')      #setting up X-axis spine color to white\n",
        "\n",
        "    ax.set_facecolor(\"black\")                  # Setting the background color of the plot using set_facecolor() method"
      ],
      "metadata": {
        "id": "23tEvtVKwOf1"
      },
      "execution_count": null,
      "outputs": []
    },
    {
      "cell_type": "code",
      "source": [
        "viz['Date']=pd.to_datetime(viz['Date'],format='%Y-%m-%d')"
      ],
      "metadata": {
        "id": "60ARQsEYQQwR"
      },
      "execution_count": null,
      "outputs": []
    },
    {
      "cell_type": "code",
      "source": [
        "data = pd.DataFrame(viz[[\"Date\",\"Close\"]])\n",
        "data = data.reset_index()\n",
        "data= data.drop('index',axis=1)\n",
        "data.set_index('Date',inplace= True)\n",
        "data = data.asfreq('D')\n",
        "data"
      ],
      "metadata": {
        "colab": {
          "base_uri": "https://localhost:8080/",
          "height": 455
        },
        "id": "r6s7kwePQSB3",
        "outputId": "073efd5a-f7df-464a-ce3a-e1b447201b79"
      },
      "execution_count": null,
      "outputs": [
        {
          "output_type": "execute_result",
          "data": {
            "text/plain": [
              "                 Close\n",
              "Date                  \n",
              "2018-02-05  254.259995\n",
              "2018-02-06  265.720001\n",
              "2018-02-07  264.559998\n",
              "2018-02-08  250.100006\n",
              "2018-02-09  249.470001\n",
              "...                ...\n",
              "2022-01-31  427.140015\n",
              "2022-02-01  457.130005\n",
              "2022-02-02  429.480011\n",
              "2022-02-03  405.600006\n",
              "2022-02-04  410.170013\n",
              "\n",
              "[1461 rows x 1 columns]"
            ],
            "text/html": [
              "\n",
              "  <div id=\"df-1464ab58-a7dc-435d-81c1-43ef64479aaf\" class=\"colab-df-container\">\n",
              "    <div>\n",
              "<style scoped>\n",
              "    .dataframe tbody tr th:only-of-type {\n",
              "        vertical-align: middle;\n",
              "    }\n",
              "\n",
              "    .dataframe tbody tr th {\n",
              "        vertical-align: top;\n",
              "    }\n",
              "\n",
              "    .dataframe thead th {\n",
              "        text-align: right;\n",
              "    }\n",
              "</style>\n",
              "<table border=\"1\" class=\"dataframe\">\n",
              "  <thead>\n",
              "    <tr style=\"text-align: right;\">\n",
              "      <th></th>\n",
              "      <th>Close</th>\n",
              "    </tr>\n",
              "    <tr>\n",
              "      <th>Date</th>\n",
              "      <th></th>\n",
              "    </tr>\n",
              "  </thead>\n",
              "  <tbody>\n",
              "    <tr>\n",
              "      <th>2018-02-05</th>\n",
              "      <td>254.259995</td>\n",
              "    </tr>\n",
              "    <tr>\n",
              "      <th>2018-02-06</th>\n",
              "      <td>265.720001</td>\n",
              "    </tr>\n",
              "    <tr>\n",
              "      <th>2018-02-07</th>\n",
              "      <td>264.559998</td>\n",
              "    </tr>\n",
              "    <tr>\n",
              "      <th>2018-02-08</th>\n",
              "      <td>250.100006</td>\n",
              "    </tr>\n",
              "    <tr>\n",
              "      <th>2018-02-09</th>\n",
              "      <td>249.470001</td>\n",
              "    </tr>\n",
              "    <tr>\n",
              "      <th>...</th>\n",
              "      <td>...</td>\n",
              "    </tr>\n",
              "    <tr>\n",
              "      <th>2022-01-31</th>\n",
              "      <td>427.140015</td>\n",
              "    </tr>\n",
              "    <tr>\n",
              "      <th>2022-02-01</th>\n",
              "      <td>457.130005</td>\n",
              "    </tr>\n",
              "    <tr>\n",
              "      <th>2022-02-02</th>\n",
              "      <td>429.480011</td>\n",
              "    </tr>\n",
              "    <tr>\n",
              "      <th>2022-02-03</th>\n",
              "      <td>405.600006</td>\n",
              "    </tr>\n",
              "    <tr>\n",
              "      <th>2022-02-04</th>\n",
              "      <td>410.170013</td>\n",
              "    </tr>\n",
              "  </tbody>\n",
              "</table>\n",
              "<p>1461 rows × 1 columns</p>\n",
              "</div>\n",
              "    <div class=\"colab-df-buttons\">\n",
              "\n",
              "  <div class=\"colab-df-container\">\n",
              "    <button class=\"colab-df-convert\" onclick=\"convertToInteractive('df-1464ab58-a7dc-435d-81c1-43ef64479aaf')\"\n",
              "            title=\"Convert this dataframe to an interactive table.\"\n",
              "            style=\"display:none;\">\n",
              "\n",
              "  <svg xmlns=\"http://www.w3.org/2000/svg\" height=\"24px\" viewBox=\"0 -960 960 960\">\n",
              "    <path d=\"M120-120v-720h720v720H120Zm60-500h600v-160H180v160Zm220 220h160v-160H400v160Zm0 220h160v-160H400v160ZM180-400h160v-160H180v160Zm440 0h160v-160H620v160ZM180-180h160v-160H180v160Zm440 0h160v-160H620v160Z\"/>\n",
              "  </svg>\n",
              "    </button>\n",
              "\n",
              "  <style>\n",
              "    .colab-df-container {\n",
              "      display:flex;\n",
              "      gap: 12px;\n",
              "    }\n",
              "\n",
              "    .colab-df-convert {\n",
              "      background-color: #E8F0FE;\n",
              "      border: none;\n",
              "      border-radius: 50%;\n",
              "      cursor: pointer;\n",
              "      display: none;\n",
              "      fill: #1967D2;\n",
              "      height: 32px;\n",
              "      padding: 0 0 0 0;\n",
              "      width: 32px;\n",
              "    }\n",
              "\n",
              "    .colab-df-convert:hover {\n",
              "      background-color: #E2EBFA;\n",
              "      box-shadow: 0px 1px 2px rgba(60, 64, 67, 0.3), 0px 1px 3px 1px rgba(60, 64, 67, 0.15);\n",
              "      fill: #174EA6;\n",
              "    }\n",
              "\n",
              "    .colab-df-buttons div {\n",
              "      margin-bottom: 4px;\n",
              "    }\n",
              "\n",
              "    [theme=dark] .colab-df-convert {\n",
              "      background-color: #3B4455;\n",
              "      fill: #D2E3FC;\n",
              "    }\n",
              "\n",
              "    [theme=dark] .colab-df-convert:hover {\n",
              "      background-color: #434B5C;\n",
              "      box-shadow: 0px 1px 3px 1px rgba(0, 0, 0, 0.15);\n",
              "      filter: drop-shadow(0px 1px 2px rgba(0, 0, 0, 0.3));\n",
              "      fill: #FFFFFF;\n",
              "    }\n",
              "  </style>\n",
              "\n",
              "    <script>\n",
              "      const buttonEl =\n",
              "        document.querySelector('#df-1464ab58-a7dc-435d-81c1-43ef64479aaf button.colab-df-convert');\n",
              "      buttonEl.style.display =\n",
              "        google.colab.kernel.accessAllowed ? 'block' : 'none';\n",
              "\n",
              "      async function convertToInteractive(key) {\n",
              "        const element = document.querySelector('#df-1464ab58-a7dc-435d-81c1-43ef64479aaf');\n",
              "        const dataTable =\n",
              "          await google.colab.kernel.invokeFunction('convertToInteractive',\n",
              "                                                    [key], {});\n",
              "        if (!dataTable) return;\n",
              "\n",
              "        const docLinkHtml = 'Like what you see? Visit the ' +\n",
              "          '<a target=\"_blank\" href=https://colab.research.google.com/notebooks/data_table.ipynb>data table notebook</a>'\n",
              "          + ' to learn more about interactive tables.';\n",
              "        element.innerHTML = '';\n",
              "        dataTable['output_type'] = 'display_data';\n",
              "        await google.colab.output.renderOutput(dataTable, element);\n",
              "        const docLink = document.createElement('div');\n",
              "        docLink.innerHTML = docLinkHtml;\n",
              "        element.appendChild(docLink);\n",
              "      }\n",
              "    </script>\n",
              "  </div>\n",
              "\n",
              "\n",
              "<div id=\"df-e5c02a87-a62f-4160-85c9-785baa6c799b\">\n",
              "  <button class=\"colab-df-quickchart\" onclick=\"quickchart('df-e5c02a87-a62f-4160-85c9-785baa6c799b')\"\n",
              "            title=\"Suggest charts.\"\n",
              "            style=\"display:none;\">\n",
              "\n",
              "<svg xmlns=\"http://www.w3.org/2000/svg\" height=\"24px\"viewBox=\"0 0 24 24\"\n",
              "     width=\"24px\">\n",
              "    <g>\n",
              "        <path d=\"M19 3H5c-1.1 0-2 .9-2 2v14c0 1.1.9 2 2 2h14c1.1 0 2-.9 2-2V5c0-1.1-.9-2-2-2zM9 17H7v-7h2v7zm4 0h-2V7h2v10zm4 0h-2v-4h2v4z\"/>\n",
              "    </g>\n",
              "</svg>\n",
              "  </button>\n",
              "\n",
              "<style>\n",
              "  .colab-df-quickchart {\n",
              "      --bg-color: #E8F0FE;\n",
              "      --fill-color: #1967D2;\n",
              "      --hover-bg-color: #E2EBFA;\n",
              "      --hover-fill-color: #174EA6;\n",
              "      --disabled-fill-color: #AAA;\n",
              "      --disabled-bg-color: #DDD;\n",
              "  }\n",
              "\n",
              "  [theme=dark] .colab-df-quickchart {\n",
              "      --bg-color: #3B4455;\n",
              "      --fill-color: #D2E3FC;\n",
              "      --hover-bg-color: #434B5C;\n",
              "      --hover-fill-color: #FFFFFF;\n",
              "      --disabled-bg-color: #3B4455;\n",
              "      --disabled-fill-color: #666;\n",
              "  }\n",
              "\n",
              "  .colab-df-quickchart {\n",
              "    background-color: var(--bg-color);\n",
              "    border: none;\n",
              "    border-radius: 50%;\n",
              "    cursor: pointer;\n",
              "    display: none;\n",
              "    fill: var(--fill-color);\n",
              "    height: 32px;\n",
              "    padding: 0;\n",
              "    width: 32px;\n",
              "  }\n",
              "\n",
              "  .colab-df-quickchart:hover {\n",
              "    background-color: var(--hover-bg-color);\n",
              "    box-shadow: 0 1px 2px rgba(60, 64, 67, 0.3), 0 1px 3px 1px rgba(60, 64, 67, 0.15);\n",
              "    fill: var(--button-hover-fill-color);\n",
              "  }\n",
              "\n",
              "  .colab-df-quickchart-complete:disabled,\n",
              "  .colab-df-quickchart-complete:disabled:hover {\n",
              "    background-color: var(--disabled-bg-color);\n",
              "    fill: var(--disabled-fill-color);\n",
              "    box-shadow: none;\n",
              "  }\n",
              "\n",
              "  .colab-df-spinner {\n",
              "    border: 2px solid var(--fill-color);\n",
              "    border-color: transparent;\n",
              "    border-bottom-color: var(--fill-color);\n",
              "    animation:\n",
              "      spin 1s steps(1) infinite;\n",
              "  }\n",
              "\n",
              "  @keyframes spin {\n",
              "    0% {\n",
              "      border-color: transparent;\n",
              "      border-bottom-color: var(--fill-color);\n",
              "      border-left-color: var(--fill-color);\n",
              "    }\n",
              "    20% {\n",
              "      border-color: transparent;\n",
              "      border-left-color: var(--fill-color);\n",
              "      border-top-color: var(--fill-color);\n",
              "    }\n",
              "    30% {\n",
              "      border-color: transparent;\n",
              "      border-left-color: var(--fill-color);\n",
              "      border-top-color: var(--fill-color);\n",
              "      border-right-color: var(--fill-color);\n",
              "    }\n",
              "    40% {\n",
              "      border-color: transparent;\n",
              "      border-right-color: var(--fill-color);\n",
              "      border-top-color: var(--fill-color);\n",
              "    }\n",
              "    60% {\n",
              "      border-color: transparent;\n",
              "      border-right-color: var(--fill-color);\n",
              "    }\n",
              "    80% {\n",
              "      border-color: transparent;\n",
              "      border-right-color: var(--fill-color);\n",
              "      border-bottom-color: var(--fill-color);\n",
              "    }\n",
              "    90% {\n",
              "      border-color: transparent;\n",
              "      border-bottom-color: var(--fill-color);\n",
              "    }\n",
              "  }\n",
              "</style>\n",
              "\n",
              "  <script>\n",
              "    async function quickchart(key) {\n",
              "      const quickchartButtonEl =\n",
              "        document.querySelector('#' + key + ' button');\n",
              "      quickchartButtonEl.disabled = true;  // To prevent multiple clicks.\n",
              "      quickchartButtonEl.classList.add('colab-df-spinner');\n",
              "      try {\n",
              "        const charts = await google.colab.kernel.invokeFunction(\n",
              "            'suggestCharts', [key], {});\n",
              "      } catch (error) {\n",
              "        console.error('Error during call to suggestCharts:', error);\n",
              "      }\n",
              "      quickchartButtonEl.classList.remove('colab-df-spinner');\n",
              "      quickchartButtonEl.classList.add('colab-df-quickchart-complete');\n",
              "    }\n",
              "    (() => {\n",
              "      let quickchartButtonEl =\n",
              "        document.querySelector('#df-e5c02a87-a62f-4160-85c9-785baa6c799b button');\n",
              "      quickchartButtonEl.style.display =\n",
              "        google.colab.kernel.accessAllowed ? 'block' : 'none';\n",
              "    })();\n",
              "  </script>\n",
              "</div>\n",
              "    </div>\n",
              "  </div>\n"
            ]
          },
          "metadata": {},
          "execution_count": 22
        }
      ]
    },
    {
      "cell_type": "code",
      "source": [
        "style()\n",
        "\n",
        "plt.title('Closing Stock Price', color=\"white\")\n",
        "plt.plot(viz.Date, viz.Close, color=\"#94F008\")\n",
        "plt.legend([\"Close\"], loc =\"lower right\", facecolor='black', labelcolor='white')\n",
        "\n"
      ],
      "metadata": {
        "colab": {
          "base_uri": "https://localhost:8080/",
          "height": 880
        },
        "id": "niJxmVnFQSMg",
        "outputId": "3041d9a1-43fd-4992-f141-2a888bc00356"
      },
      "execution_count": null,
      "outputs": [
        {
          "output_type": "execute_result",
          "data": {
            "text/plain": [
              "<matplotlib.legend.Legend at 0x78080c757640>"
            ]
          },
          "metadata": {},
          "execution_count": 23
        },
        {
          "output_type": "display_data",
          "data": {
            "text/plain": [
              "<Figure size 1500x1000 with 1 Axes>"
            ],
            "image/png": "[encoded data removed]"
          },
          "metadata": {}
        }
      ]
    },
    {
      "cell_type": "code",
      "source": [
        "fig = px.scatter(viz,\n",
        "                 x='Open',\n",
        "                 y='Close',\n",
        "\n",
        "                 opacity=0.8,\n",
        "\n",
        "                 title='Open VS Close')\n",
        "fig.update_traces(marker_size=5)\n",
        "fig.show()"
      ],
      "metadata": {
        "colab": {
          "base_uri": "https://localhost:8080/",
          "height": 542
        },
        "id": "V_yQm-lZQYn9",
        "outputId": "e4fb1807-15c8-4132-9801-62ddac1c7d6f"
      },
      "execution_count": null,
      "outputs": [
        {
          "output_type": "display_data",
          "data": {
            "text/html": [
              "<html>\n",
              "<head><meta charset=\"utf-8\" /></head>\n",
              "<body>\n",
              "    <div>            <script src=\"https://cdnjs.cloudflare.com/ajax/libs/mathjax/2.7.5/MathJax.js?config=TeX-AMS-MML_SVG\"></script><script type=\"text/javascript\">if (window.MathJax && window.MathJax.Hub && window.MathJax.Hub.Config) {window.MathJax.Hub.Config({SVG: {font: \"STIX-Web\"}});}</script>                <script type=\"text/javascript\">window.PlotlyConfig = {MathJaxConfig: 'local'};</script>\n",
              "        <script charset=\"utf-8\" src=\"https://cdn.plot.ly/plotly-2.24.1.min.js\"></script>                <div id=\"73183f1a-ef25-4f24-a26a-3ad177e268e4\" class=\"plotly-graph-div\" style=\"height:525px; width:100%;\"></div>            <script type=\"text/javascript\">                                    window.PLOTLYENV=window.PLOTLYENV || {};                                    if (document.getElementById(\"73183f1a-ef25-4f24-a26a-3ad177e268e4\")) {                    Plotly.newPlot(                        \"73183f1a-ef25-4f24-a26a-3ad177e268e4\",                        [{\"hovertemplate\":\"Open=%{x}\\u003cbr\\u003eClose=%{y}\\u003cextra\\u003e\\u003c\\u002fextra\\u003e\",\"legendgroup\":\"\",\"marker\":{\"color\":\"#636efa\",\"opacity\":0.8,\"symbol\":\"circle\",\"size\":5},\"mode\":\"markers\",\"name\":\"\",\"showlegend\":false,\"x\":[262.0,247.699997,266.579987,267.079987,253.850006,252.139999,257.290009,260.470001,270.029999,278.730011,277.73999,282.070007,283.880005,281.0,288.75,294.769989,293.100006,292.75,284.649994,302.850006,319.880005,320.0,322.200012,321.329987,333.559998,323.869995,318.160004,323.170013,321.420013,315.799988,313.26001,316.350006,313.070007,307.410004,309.359985,322.48999,298.390015,287.0,291.940002,285.450012,273.630005,293.149994,289.100006,291.769989,297.679993,302.880005,309.720001,317.290009,315.98999,329.660004,336.299988,332.880005,332.220001,329.149994,319.220001,306.369995,310.0,316.25,311.070007,310.359985,311.649994,312.589996,308.709991,321.98999,325.899994,328.790009,331.5,329.649994,327.25,325.940002,326.279999,327.529999,324.899994,327.109985,334.049988,329.040009,344.339996,349.899994,351.5,352.369995,353.799988,353.880005,362.679993,363.320007,367.779999,368.540009,358.059998,361.880005,363.600006,367.529999,384.269989,390.709991,387.720001,389.5,415.149994,421.380005,419.980011,404.690002,393.279999,407.559998,395.0,399.190002,385.450012,399.48999,393.799988,397.450012,415.950012,417.23999,411.339996,415.160004,409.190002,398.980011,346.950012,381.23999,371.059998,364.920013,359.149994,366.940002,357.570007,358.190002,366.850006,351.929993,331.51001,335.869995,337.230011,347.75,342.869995,353.230011,352.209991,347.959991,346.910004,339.890015,342.089996,334.029999,329.899994,319.01001,314.640015,331.0,338.48999,348.109985,346.0,367.149994,367.230011,367.200012,365.0,370.660004,366.470001,360.0,347.440002,342.200012,352.269989,344.670013,359.079987,371.910004,368.549988,364.220001,353.670013,373.950012,370.26001,366.589996,359.0,370.230011,373.589996,379.869995,379.23999,375.850006,384.380005,378.529999,375.880005,359.769989,345.179993,348.480011,353.519989,324.940002,339.570007,337.630005,337.23999,378.329987,360.670013,351.0,333.100006,318.0,332.279999,307.119995,300.51001,305.26001,275.570007,297.769989,304.589996,318.0,311.100006,314.76001,312.899994,328.0,311.070007,300.0,295.0,300.399994,285.51001,287.140015,283.790009,254.630005,274.420013,260.109985,260.549988,259.23999,271.980011,282.320007,288.0,293.190002,288.130005,268.329987,282.480011,264.190002,274.079987,267.660004,277.640015,271.809998,266.51001,263.299988,269.959991,264.640015,263.829987,242.0,233.919998,250.110001,257.940002,260.160004,259.279999,270.200012,281.880005,302.100006,319.980011,317.709991,314.570007,330.959991,334.23999,349.600006,354.0,349.5,351.970001,334.890015,328.25,320.600006,328.720001,334.700012,335.869995,332.75,339.679993,337.179993,342.600006,353.200012,357.0,347.899994,338.0,350.0,348.089996,357.299988,351.75,358.470001,355.799988,364.850006,360.029999,360.339996,367.01001,362.980011,363.5,362.470001,362.26001,359.720001,351.459991,353.600006,360.160004,345.75,352.0,359.369995,355.809998,360.5,361.019989,362.470001,366.399994,358.910004,374.0,375.950012,359.0,367.869995,361.0,354.48999,357.160004,359.0,366.25,369.26001,370.070007,369.0,365.109985,360.540009,365.790009,365.0,360.690002,350.709991,355.0,365.049988,355.0,359.700012,375.450012,381.070007,374.48999,368.350006,373.679993,369.559998,374.0,378.0,381.529999,377.690002,377.0,367.920013,360.899994,361.619995,352.290009,348.709991,343.339996,356.369995,356.390015,351.230011,350.950012,358.01001,355.5,355.410004,354.390015,353.600006,350.549988,347.220001,343.559998,345.0,354.380005,354.839996,357.390015,363.649994,355.0,351.820007,347.230011,341.630005,342.690002,355.570007,361.720001,365.910004,365.0,370.269989,370.75,361.600006,363.200012,370.26001,373.5,374.890015,376.690002,378.290009,378.190002,379.059998,382.769989,381.100006,378.679993,372.940002,370.089996,366.25,323.76001,323.399994,312.0,311.440002,310.51001,318.859985,328.790009,335.980011,329.200012,325.160004,324.25,317.48999,310.959991,310.579987,302.559998,311.029999,313.73999,305.459991,309.769989,308.01001,299.5,298.859985,306.25,304.570007,301.609985,298.649994,295.0,295.23999,294.540009,289.470001,295.0,298.779999,290.820007,291.25,285.320007,293.350006,294.809998,291.160004,285.700012,288.100006,290.609985,294.230011,294.5,294.98999,291.559998,280.26001,268.350006,262.5,255.710007,266.420013,266.179993,264.0,267.350006,263.609985,267.779999,268.200012,271.98999,273.029999,270.019989,265.970001,284.799988,283.929993,283.820007,283.119995,304.48999,289.359985,272.890015,271.160004,268.059998,271.809998,270.679993,278.049988,281.869995,284.339996,291.0,288.700012,288.0,289.98999,288.190002,290.700012,288.730011,289.160004,295.320007,291.029999,283.25,290.589996,296.0,304.01001,301.01001,306.0,309.100006,308.829987,315.0,313.929993,315.779999,314.390015,302.220001,308.429993,305.269989,304.700012,307.350006,296.119995,294.48999,295.670013,298.5,300.850006,307.359985,316.26001,324.5,335.0,337.76001,334.01001,334.600006,332.959991,329.079987,322.0,326.100006,326.779999,323.119995,336.470001,331.48999,342.0,337.130005,331.799988,344.399994,338.679993,343.5,341.0,340.0,332.549988,326.040009,348.459991,345.950012,345.880005,349.0,341.100006,347.390015,347.23999,361.0,375.130005,369.600006,365.040009,365.0,373.75,377.179993,376.959991,381.470001,379.299988,388.119995,386.559998,385.329987,364.76001,372.0,366.309998,371.459991,364.209991,373.109985,381.029999,377.769989,381.0,367.700012,343.859985,356.429993,358.920013,326.5,330.51001,306.630005,306.190002,302.399994,324.329987,342.309998,347.890015,369.98999,361.019989,344.0,359.089996,363.0,367.929993,376.049988,364.079987,367.470001,365.220001,380.0,374.01001,371.059998,371.309998,397.5,413.0,437.0,431.0,435.170013,444.769989,429.730011,419.26001,425.0,425.0,419.98999,399.529999,410.309998,415.100006,417.779999,427.559998,429.299988,436.890015,434.140015,436.329987,442.0,435.690002,444.899994,440.700012,451.160004,453.399994,454.25,448.559998,437.0,427.769989,410.380005,417.23999,417.459991,418.829987,425.869995,426.950012,422.390015,407.290009,416.0,421.649994,436.0,428.200012,429.0,421.399994,425.76001,441.820007,448.730011,449.119995,455.01001,466.5,468.540009,458.859985,466.390015,445.230011,450.019989,454.0,485.640015,480.769989,497.309998,498.579987,508.399994,519.72998,567.97998,517.080017,516.299988,526.47998,494.869995,489.140015,506.0,492.190002,491.130005,468.769989,484.51001,496.019989,492.25,480.709991,488.290009,490.859985,498.649994,508.679993,504.109985,505.450012,493.350006,479.75,471.339996,478.399994,482.820007,484.190002,484.350006,493.929993,484.690002,496.459991,495.440002,488.190002,492.5,537.780029,532.0,521.159973,532.599976,553.780029,545.0,520.179993,498.399994,519.210022,503.350006,486.48999,480.619995,484.0,499.98999,475.160004,472.51001,467.690002,489.01001,491.040009,470.529999,474.390015,489.109985,489.5,492.570007,506.029999,516.429993,506.799988,518.719971,518.0,533.47998,537.830017,548.809998,540.559998,562.609985,545.52002,549.5,537.070007,528.140015,501.029999,494.690002,488.109985,487.029999,490.01001,486.359985,488.5,502.01001,478.869995,484.929993,495.359985,506.559998,515.0,485.540009,470.950012,483.0,491.0,486.769989,480.0,480.119995,481.950012,482.0,485.220001,490.459991,478.839996,485.130005,486.579987,490.079987,492.339996,501.619995,502.98999,497.5,500.01001,517.900024,510.529999,494.559998,495.0,505.440002,518.5,520.109985,529.0,533.200012,530.049988,527.690002,524.76001,515.119995,516.429993,519.900024,530.130005,525.530029,539.0,521.549988,511.970001,508.279999,511.309998,507.839996,500.0,495.5,507.350006,500.0,501.0,565.419983,582.450012,582.099976,567.0,554.72998,550.710022,535.880005,538.0,536.789978,542.01001,550.169983,539.809998,552.26001,555.0,546.0,562.5,564.440002,556.940002,557.289978,550.98999,549.0,548.0,534.98999,525.0,539.799988,550.27002,546.51001,545.570007,553.340027,545.929993,521.5,511.980011,514.460022,507.309998,513.5,512.200012,512.5,516.320007,524.469971,522.0,516.400024,504.959991,509.130005,529.869995,533.780029,516.98999,502.820007,505.660004,510.51001,515.669983,529.929993,540.01001,544.809998,543.5,551.130005,552.690002,551.049988,557.0,554.869995,544.169983,550.539978,546.900024,554.419983,508.0,513.820007,509.01001,506.76001,512.619995,505.200012,507.600006,505.0,512.650024,510.779999,504.98999,495.98999,504.619995,502.0,479.75,486.829987,489.130005,487.859985,485.589996,488.399994,481.630005,489.549988,503.119995,501.049988,506.0,502.339996,501.799988,504.399994,504.01001,499.820007,495.190002,492.0,492.920013,497.0,494.5,487.170013,490.0,489.679993,501.230011,495.0,490.25,496.399994,501.640015,498.540009,508.480011,517.960022,528.840027,528.119995,533.549988,534.059998,525.719971,535.5,533.0,544.23999,530.929993,531.0,540.299988,535.76001,541.01001,553.969971,541.809998,526.049988,526.070007,526.130005,510.209991,512.159973,514.380005,518.080017,521.820007,519.960022,512.690002,519.0,514.390015,513.0,517.130005,524.0,521.150024,520.0,517.0,511.859985,512.640015,515.23999,515.469971,520.0,522.73999,545.090027,545.97998,551.47998,550.159973,546.159973,551.599976,557.25,566.119995,569.0,583.679993,585.799988,594.690002,603.840027,606.469971,598.159973,598.570007,584.890015,578.169983,584.299988,587.849976,586.789978,578.309998,579.690002,590.789978,592.5,587.950012,589.0,589.01001,608.049988,604.23999,613.390015,606.940002,628.179993,642.22998,634.169983,633.200012,633.02002,632.179993,632.22998,638.0,632.099976,636.969971,625.570007,628.890015,651.809998,663.73999,673.76001,669.0,670.950012,673.059998,689.059998,683.109985,677.27002,685.890015,663.969971,650.289978,653.700012,653.01001,650.23999,660.01001,681.23999,678.27002,690.0,691.609985,692.349976,676.02002,658.179993,658.01001,675.0,663.200012,668.200012,649.47998,617.099976,622.75,606.01001,619.830017,630.0,627.580017,616.780029,612.0,598.710022,598.179993,597.090027,591.609985,586.429993,597.539978,603.359985,616.400024,615.0,614.950012,610.710022,612.98999,610.01001,605.609985,599.909973,592.0,554.340027,549.460022,538.48999,536.98999,544.27002,537.059998,517.599976,520.080017,515.0,517.75,400.429993,383.910004,379.140015,378.269989,382.059998,386.76001,401.970001,432.959991,448.25,421.440002,407.309998],\"xaxis\":\"x\",\"y\":[254.259995,265.720001,264.559998,250.100006,249.470001,257.950012,258.269989,266.0,280.269989,278.519989,278.549988,281.040009,278.140015,285.929993,294.160004,290.609985,291.380005,290.390015,301.049988,315.0,325.220001,321.160004,317.0,331.440002,321.299988,315.880005,321.549988,321.089996,318.450012,313.480011,317.5,316.480011,306.700012,300.940002,320.350006,300.690002,285.769989,295.350006,280.290009,283.670013,288.940002,293.970001,288.850006,289.929993,298.070007,303.670013,309.25,311.649994,307.779999,336.059998,334.519989,332.700012,327.769989,318.690002,307.019989,305.76001,313.980011,311.76001,312.459991,313.299988,313.359985,311.690002,320.089996,326.26001,326.890015,330.299988,329.600006,326.459991,328.529999,326.130005,328.190002,325.220001,324.179993,331.820007,331.619995,344.720001,349.290009,351.290009,349.730011,353.540009,351.600006,359.929993,361.809998,365.799988,367.450012,361.399994,360.570007,361.450012,363.829987,379.929993,392.869995,391.980011,390.399994,404.980011,416.76001,415.440002,411.089996,384.480011,399.390015,390.390015,395.420013,391.429993,398.179993,390.519989,398.390015,408.25,418.970001,415.630005,418.649994,413.5,395.799988,400.480011,379.480011,375.130005,364.230011,361.049988,362.660004,357.320007,362.869995,363.089996,355.209991,334.959991,337.450012,338.380005,344.5,343.089996,350.920013,351.829987,347.609985,349.359985,345.869995,341.309998,337.48999,326.399994,322.440002,316.779999,327.730011,338.019989,344.440002,339.170013,358.820007,364.579987,368.48999,368.040009,370.980011,367.679993,363.600006,341.179993,346.459991,348.679993,348.410004,355.929993,369.950012,368.149994,364.559998,350.350006,367.649994,366.959991,365.359985,361.190002,369.609985,369.429993,377.880005,380.709991,374.130005,381.429993,377.140015,377.049988,363.649994,351.350006,349.100006,355.709991,325.890015,321.100006,339.559998,333.130005,346.399994,364.700012,346.709991,332.670013,329.540009,333.160004,301.829987,312.869995,299.829987,284.839996,285.809998,301.779999,317.380005,309.100006,315.440002,310.839996,327.5,317.920013,303.470001,294.070007,294.399994,286.730011,290.059998,286.209991,270.600006,266.980011,262.130005,258.820007,261.429993,266.630005,282.649994,288.75,286.130005,290.299988,275.329987,282.880005,265.140015,269.700012,265.320007,274.880005,276.019989,266.839996,262.799988,270.940002,266.769989,260.579987,246.389999,233.880005,253.669998,255.570007,256.079987,267.660004,267.660004,271.200012,297.570007,315.339996,320.269989,319.959991,324.660004,337.589996,332.940002,354.640015,351.390015,353.190002,339.100006,325.160004,321.98999,326.670013,338.049988,335.660004,328.899994,340.660004,339.5,339.850006,351.339996,355.809998,352.190002,344.709991,347.570007,345.730011,359.970001,351.769989,359.070007,356.869995,361.920013,359.910004,356.970001,363.019989,363.910004,364.970001,362.869995,358.100006,357.320007,351.040009,354.299988,359.609985,352.600006,349.600006,358.859985,356.269989,361.209991,358.820007,361.459991,363.440002,358.779999,375.220001,377.869995,361.01001,366.230011,359.970001,353.369995,354.609985,356.559998,366.959991,367.720001,369.75,367.880005,365.48999,361.410004,364.709991,363.920013,367.649994,351.140015,348.869995,359.459991,354.73999,360.350006,377.339996,381.890015,374.230011,368.329987,374.850006,371.829987,370.540009,378.809998,379.059998,385.029999,378.670013,370.459991,364.369995,362.75,361.040009,345.26001,345.609985,354.98999,359.309998,354.450012,348.109985,354.269989,359.730011,352.209991,354.390015,355.059998,349.190002,351.850006,343.279999,336.630005,353.399994,355.730011,357.130005,360.869995,352.01001,351.269989,345.559998,343.429993,339.730011,350.619995,357.119995,363.519989,365.209991,369.209991,371.040009,360.299988,362.200012,370.019989,367.320007,374.600006,375.429993,381.720001,380.549988,376.160004,379.929993,381.0,379.5,373.25,366.600006,365.98999,362.440002,325.209991,315.100006,310.619995,307.299988,317.940002,326.459991,335.779999,332.700012,325.929993,322.98999,319.5,318.829987,307.630005,310.100006,304.290009,315.899994,308.929993,310.829987,312.279999,299.109985,295.76001,302.799988,309.380005,298.98999,297.809998,296.929993,291.440002,294.980011,291.029999,291.769989,296.779999,293.75,289.290009,291.519989,293.25,290.170013,294.339996,287.98999,288.269989,288.859985,294.149994,294.290009,298.600006,291.559998,286.600006,270.75,265.920013,254.589996,264.75,263.309998,263.079987,267.619995,269.579987,268.029999,268.149994,272.790009,274.459991,270.720001,267.529999,280.480011,282.929993,285.529999,284.25,286.279999,293.350006,275.299988,278.049988,266.690002,271.269989,271.5,276.820007,281.859985,281.209991,291.450012,287.410004,286.809998,292.859985,288.029999,288.589996,289.570007,291.570007,294.179993,292.01001,283.109985,289.619995,295.029999,302.570007,302.600006,305.160004,311.690002,310.480011,315.549988,312.48999,315.929993,314.660004,309.98999,306.160004,304.320007,302.859985,307.350006,302.5,293.119995,298.929993,298.440002,298.5,304.209991,315.480011,320.799988,332.220001,336.899994,333.100006,333.200012,332.630005,329.089996,323.309998,323.570007,329.809998,325.899994,335.829987,330.75,339.26001,335.660004,329.049988,338.920013,338.690002,339.070007,338.619995,339.670013,338.109985,326.0,349.600006,353.160004,342.880005,348.519989,343.160004,347.73999,345.089996,358.0,369.01001,369.670013,366.950012,366.769989,371.070007,373.690002,380.01001,381.399994,380.399994,387.779999,386.190002,386.0,380.070007,368.700012,360.089996,379.23999,371.709991,369.029999,381.049988,368.769989,383.790009,372.779999,368.970001,346.48999,364.130005,349.920013,315.25,336.299988,298.839996,319.75,315.470001,332.029999,332.829987,360.269989,357.320007,342.390015,362.98999,357.119995,370.959991,375.5,364.079987,370.079987,361.76001,379.959991,372.279999,371.119995,370.720001,396.720001,413.549988,426.75,439.170013,422.959991,437.48999,433.829987,421.420013,426.700012,424.98999,421.380005,403.829987,411.890015,419.850006,415.269989,428.149994,424.679993,434.26001,436.529999,435.549988,440.519989,431.820007,438.269989,441.950012,454.190002,452.579987,451.040009,447.670013,436.25,429.320007,414.769989,419.890015,413.440002,419.730011,425.920013,427.309998,421.970001,414.329987,419.600006,419.48999,434.049988,434.480011,425.559998,418.070007,425.5,436.130005,447.769989,449.869995,453.720001,468.040009,466.26001,457.850006,465.910004,443.399994,447.23999,455.040009,485.640015,476.890015,493.809998,493.160004,502.779999,507.76001,548.72998,525.5,524.880005,523.26001,527.390015,492.98999,502.410004,490.100006,489.820007,477.579987,480.450012,495.649994,488.51001,484.480011,485.799988,488.880005,498.619995,509.640015,502.109985,509.079987,494.730011,483.380005,466.929993,475.470001,481.329987,482.679993,482.350006,491.869995,484.529999,497.899994,492.309998,488.809998,490.579987,547.530029,526.27002,523.890015,529.559998,556.549988,552.840027,525.75,516.049988,507.019989,500.190002,480.670013,482.029999,476.26001,495.98999,483.859985,470.200012,469.959991,487.350006,491.170013,470.609985,473.079987,482.880005,490.649994,493.480011,500.029999,527.51001,503.059998,520.650024,505.869995,534.659973,531.789978,539.440002,539.809998,554.090027,541.450012,541.940002,530.789978,530.719971,525.419983,489.049988,485.230011,488.279999,488.23999,488.929993,486.23999,504.209991,475.73999,484.119995,487.220001,496.950012,513.76001,514.72998,470.5,480.23999,490.76001,486.769989,482.839996,479.100006,480.630005,481.790009,484.670013,488.23999,476.619995,482.880005,485.0,491.359985,490.700012,504.579987,503.380005,497.519989,498.309998,515.780029,512.659973,493.600006,501.089996,503.220001,522.419983,519.780029,524.830017,532.900024,534.450012,528.909973,527.330017,514.47998,513.969971,519.119995,530.869995,524.590027,540.72998,522.859985,520.799988,500.48999,508.890015,510.399994,499.100006,494.25,507.790009,500.859985,497.980011,501.769989,586.340027,579.840027,565.169983,556.780029,561.929993,523.280029,538.599976,532.390015,539.039978,548.159973,539.450012,552.159973,550.789978,547.919983,559.070007,563.590027,557.590027,556.52002,557.280029,551.340027,548.219971,540.219971,533.780029,546.150024,553.409973,546.700012,538.849976,550.640015,547.820007,520.700012,511.290009,516.390015,493.329987,506.440002,504.540009,523.059998,518.02002,520.25,524.030029,524.440002,504.790009,512.179993,523.109985,535.090027,520.809998,502.859985,508.049988,513.950012,513.390015,521.659973,539.419983,540.669983,544.530029,546.98999,554.580017,555.309998,552.780029,553.72998,540.02002,549.219971,546.539978,554.440002,549.570007,508.899994,508.779999,505.549988,510.299988,505.549988,506.519989,509.0,513.469971,509.109985,503.179993,496.079987,499.549988,503.839996,486.690002,495.079987,484.980011,486.660004,493.369995,488.940002,486.279999,487.700012,501.670013,497.890015,502.899994,501.339996,502.359985,503.859985,502.809998,499.079987,499.23999,489.429993,494.73999,494.660004,492.390015,485.809998,487.269989,488.769989,499.890015,491.899994,492.410004,498.339996,500.769989,497.0,508.820007,512.73999,518.059998,527.070007,533.030029,533.5,528.210022,533.539978,533.97998,541.640015,535.960022,530.76001,535.97998,537.309998,540.679993,547.950012,542.950012,530.309998,532.280029,531.049988,513.630005,511.769989,515.409973,516.48999,518.909973,519.299988,514.25,517.570007,515.150024,510.820007,517.349976,524.890015,520.549988,519.969971,515.840027,512.400024,510.720001,515.919983,517.919983,518.909973,521.869995,543.710022,546.880005,553.330017,553.409973,547.580017,550.119995,558.919983,566.179993,569.190002,582.070007,588.549988,590.530029,606.710022,606.049988,597.539978,598.719971,589.289978,577.76001,582.869995,586.5,589.349976,575.429993,573.140015,590.650024,593.26001,592.390015,592.640015,583.849976,599.059998,610.340027,613.150024,603.349976,634.809998,639.099976,631.849976,632.659973,627.039978,624.940002,629.76001,633.799988,628.289978,637.969971,639.0,625.140015,653.159973,664.780029,671.659973,668.52002,662.919983,674.049988,690.309998,681.169983,677.719971,688.289978,668.400024,645.719971,651.450012,655.98999,646.909973,657.580017,682.609985,679.330017,687.400024,691.690002,682.02002,678.799988,659.200012,654.059998,658.289978,665.640015,663.840027,641.900024,617.77002,616.469971,602.130005,612.690002,625.580017,628.080017,611.0,611.659973,604.559998,597.98999,605.039978,591.059998,586.72998,593.73999,604.919983,614.23999,614.090027,613.119995,610.710022,610.539978,612.090027,602.440002,597.369995,591.150024,567.52002,553.289978,541.059998,539.849976,540.840027,537.219971,519.200012,525.690002,510.799988,515.859985,508.25,397.5,387.149994,366.420013,359.700012,386.700012,384.359985,427.140015,457.130005,429.480011,405.600006,410.170013],\"yaxis\":\"y\",\"type\":\"scattergl\"}],                        {\"template\":{\"data\":{\"histogram2dcontour\":[{\"type\":\"histogram2dcontour\",\"colorbar\":{\"outlinewidth\":0,\"ticks\":\"\"},\"colorscale\":[[0.0,\"#0d0887\"],[0.1111111111111111,\"#46039f\"],[0.2222222222222222,\"#7201a8\"],[0.3333333333333333,\"#9c179e\"],[0.4444444444444444,\"#bd3786\"],[0.5555555555555556,\"#d8576b\"],[0.6666666666666666,\"#ed7953\"],[0.7777777777777778,\"#fb9f3a\"],[0.8888888888888888,\"#fdca26\"],[1.0,\"#f0f921\"]]}],\"choropleth\":[{\"type\":\"choropleth\",\"colorbar\":{\"outlinewidth\":0,\"ticks\":\"\"}}],\"histogram2d\":[{\"type\":\"histogram2d\",\"colorbar\":{\"outlinewidth\":0,\"ticks\":\"\"},\"colorscale\":[[0.0,\"#0d0887\"],[0.1111111111111111,\"#46039f\"],[0.2222222222222222,\"#7201a8\"],[0.3333333333333333,\"#9c179e\"],[0.4444444444444444,\"#bd3786\"],[0.5555555555555556,\"#d8576b\"],[0.6666666666666666,\"#ed7953\"],[0.7777777777777778,\"#fb9f3a\"],[0.8888888888888888,\"#fdca26\"],[1.0,\"#f0f921\"]]}],\"heatmap\":[{\"type\":\"heatmap\",\"colorbar\":{\"outlinewidth\":0,\"ticks\":\"\"},\"colorscale\":[[0.0,\"#0d0887\"],[0.1111111111111111,\"#46039f\"],[0.2222222222222222,\"#7201a8\"],[0.3333333333333333,\"#9c179e\"],[0.4444444444444444,\"#bd3786\"],[0.5555555555555556,\"#d8576b\"],[0.6666666666666666,\"#ed7953\"],[0.7777777777777778,\"#fb9f3a\"],[0.8888888888888888,\"#fdca26\"],[1.0,\"#f0f921\"]]}],\"heatmapgl\":[{\"type\":\"heatmapgl\",\"colorbar\":{\"outlinewidth\":0,\"ticks\":\"\"},\"colorscale\":[[0.0,\"#0d0887\"],[0.1111111111111111,\"#46039f\"],[0.2222222222222222,\"#7201a8\"],[0.3333333333333333,\"#9c179e\"],[0.4444444444444444,\"#bd3786\"],[0.5555555555555556,\"#d8576b\"],[0.6666666666666666,\"#ed7953\"],[0.7777777777777778,\"#fb9f3a\"],[0.8888888888888888,\"#fdca26\"],[1.0,\"#f0f921\"]]}],\"contourcarpet\":[{\"type\":\"contourcarpet\",\"colorbar\":{\"outlinewidth\":0,\"ticks\":\"\"}}],\"contour\":[{\"type\":\"contour\",\"colorbar\":{\"outlinewidth\":0,\"ticks\":\"\"},\"colorscale\":[[0.0,\"#0d0887\"],[0.1111111111111111,\"#46039f\"],[0.2222222222222222,\"#7201a8\"],[0.3333333333333333,\"#9c179e\"],[0.4444444444444444,\"#bd3786\"],[0.5555555555555556,\"#d8576b\"],[0.6666666666666666,\"#ed7953\"],[0.7777777777777778,\"#fb9f3a\"],[0.8888888888888888,\"#fdca26\"],[1.0,\"#f0f921\"]]}],\"surface\":[{\"type\":\"surface\",\"colorbar\":{\"outlinewidth\":0,\"ticks\":\"\"},\"colorscale\":[[0.0,\"#0d0887\"],[0.1111111111111111,\"#46039f\"],[0.2222222222222222,\"#7201a8\"],[0.3333333333333333,\"#9c179e\"],[0.4444444444444444,\"#bd3786\"],[0.5555555555555556,\"#d8576b\"],[0.6666666666666666,\"#ed7953\"],[0.7777777777777778,\"#fb9f3a\"],[0.8888888888888888,\"#fdca26\"],[1.0,\"#f0f921\"]]}],\"mesh3d\":[{\"type\":\"mesh3d\",\"colorbar\":{\"outlinewidth\":0,\"ticks\":\"\"}}],\"scatter\":[{\"fillpattern\":{\"fillmode\":\"overlay\",\"size\":10,\"solidity\":0.2},\"type\":\"scatter\"}],\"parcoords\":[{\"type\":\"parcoords\",\"line\":{\"colorbar\":{\"outlinewidth\":0,\"ticks\":\"\"}}}],\"scatterpolargl\":[{\"type\":\"scatterpolargl\",\"marker\":{\"colorbar\":{\"outlinewidth\":0,\"ticks\":\"\"}}}],\"bar\":[{\"error_x\":{\"color\":\"#2a3f5f\"},\"error_y\":{\"color\":\"#2a3f5f\"},\"marker\":{\"line\":{\"color\":\"#E5ECF6\",\"width\":0.5},\"pattern\":{\"fillmode\":\"overlay\",\"size\":10,\"solidity\":0.2}},\"type\":\"bar\"}],\"scattergeo\":[{\"type\":\"scattergeo\",\"marker\":{\"colorbar\":{\"outlinewidth\":0,\"ticks\":\"\"}}}],\"scatterpolar\":[{\"type\":\"scatterpolar\",\"marker\":{\"colorbar\":{\"outlinewidth\":0,\"ticks\":\"\"}}}],\"histogram\":[{\"marker\":{\"pattern\":{\"fillmode\":\"overlay\",\"size\":10,\"solidity\":0.2}},\"type\":\"histogram\"}],\"scattergl\":[{\"type\":\"scattergl\",\"marker\":{\"colorbar\":{\"outlinewidth\":0,\"ticks\":\"\"}}}],\"scatter3d\":[{\"type\":\"scatter3d\",\"line\":{\"colorbar\":{\"outlinewidth\":0,\"ticks\":\"\"}},\"marker\":{\"colorbar\":{\"outlinewidth\":0,\"ticks\":\"\"}}}],\"scattermapbox\":[{\"type\":\"scattermapbox\",\"marker\":{\"colorbar\":{\"outlinewidth\":0,\"ticks\":\"\"}}}],\"scatterternary\":[{\"type\":\"scatterternary\",\"marker\":{\"colorbar\":{\"outlinewidth\":0,\"ticks\":\"\"}}}],\"scattercarpet\":[{\"type\":\"scattercarpet\",\"marker\":{\"colorbar\":{\"outlinewidth\":0,\"ticks\":\"\"}}}],\"carpet\":[{\"aaxis\":{\"endlinecolor\":\"#2a3f5f\",\"gridcolor\":\"white\",\"linecolor\":\"white\",\"minorgridcolor\":\"white\",\"startlinecolor\":\"#2a3f5f\"},\"baxis\":{\"endlinecolor\":\"#2a3f5f\",\"gridcolor\":\"white\",\"linecolor\":\"white\",\"minorgridcolor\":\"white\",\"startlinecolor\":\"#2a3f5f\"},\"type\":\"carpet\"}],\"table\":[{\"cells\":{\"fill\":{\"color\":\"#EBF0F8\"},\"line\":{\"color\":\"white\"}},\"header\":{\"fill\":{\"color\":\"#C8D4E3\"},\"line\":{\"color\":\"white\"}},\"type\":\"table\"}],\"barpolar\":[{\"marker\":{\"line\":{\"color\":\"#E5ECF6\",\"width\":0.5},\"pattern\":{\"fillmode\":\"overlay\",\"size\":10,\"solidity\":0.2}},\"type\":\"barpolar\"}],\"pie\":[{\"automargin\":true,\"type\":\"pie\"}]},\"layout\":{\"autotypenumbers\":\"strict\",\"colorway\":[\"#636efa\",\"#EF553B\",\"#00cc96\",\"#ab63fa\",\"#FFA15A\",\"#19d3f3\",\"#FF6692\",\"#B6E880\",\"#FF97FF\",\"#FECB52\"],\"font\":{\"color\":\"#2a3f5f\"},\"hovermode\":\"closest\",\"hoverlabel\":{\"align\":\"left\"},\"paper_bgcolor\":\"white\",\"plot_bgcolor\":\"#E5ECF6\",\"polar\":{\"bgcolor\":\"#E5ECF6\",\"angularaxis\":{\"gridcolor\":\"white\",\"linecolor\":\"white\",\"ticks\":\"\"},\"radialaxis\":{\"gridcolor\":\"white\",\"linecolor\":\"white\",\"ticks\":\"\"}},\"ternary\":{\"bgcolor\":\"#E5ECF6\",\"aaxis\":{\"gridcolor\":\"white\",\"linecolor\":\"white\",\"ticks\":\"\"},\"baxis\":{\"gridcolor\":\"white\",\"linecolor\":\"white\",\"ticks\":\"\"},\"caxis\":{\"gridcolor\":\"white\",\"linecolor\":\"white\",\"ticks\":\"\"}},\"coloraxis\":{\"colorbar\":{\"outlinewidth\":0,\"ticks\":\"\"}},\"colorscale\":{\"sequential\":[[0.0,\"#0d0887\"],[0.1111111111111111,\"#46039f\"],[0.2222222222222222,\"#7201a8\"],[0.3333333333333333,\"#9c179e\"],[0.4444444444444444,\"#bd3786\"],[0.5555555555555556,\"#d8576b\"],[0.6666666666666666,\"#ed7953\"],[0.7777777777777778,\"#fb9f3a\"],[0.8888888888888888,\"#fdca26\"],[1.0,\"#f0f921\"]],\"sequentialminus\":[[0.0,\"#0d0887\"],[0.1111111111111111,\"#46039f\"],[0.2222222222222222,\"#7201a8\"],[0.3333333333333333,\"#9c179e\"],[0.4444444444444444,\"#bd3786\"],[0.5555555555555556,\"#d8576b\"],[0.6666666666666666,\"#ed7953\"],[0.7777777777777778,\"#fb9f3a\"],[0.8888888888888888,\"#fdca26\"],[1.0,\"#f0f921\"]],\"diverging\":[[0,\"#8e0152\"],[0.1,\"#c51b7d\"],[0.2,\"#de77ae\"],[0.3,\"#f1b6da\"],[0.4,\"#fde0ef\"],[0.5,\"#f7f7f7\"],[0.6,\"#e6f5d0\"],[0.7,\"#b8e186\"],[0.8,\"#7fbc41\"],[0.9,\"#4d9221\"],[1,\"#276419\"]]},\"xaxis\":{\"gridcolor\":\"white\",\"linecolor\":\"white\",\"ticks\":\"\",\"title\":{\"standoff\":15},\"zerolinecolor\":\"white\",\"automargin\":true,\"zerolinewidth\":2},\"yaxis\":{\"gridcolor\":\"white\",\"linecolor\":\"white\",\"ticks\":\"\",\"title\":{\"standoff\":15},\"zerolinecolor\":\"white\",\"automargin\":true,\"zerolinewidth\":2},\"scene\":{\"xaxis\":{\"backgroundcolor\":\"#E5ECF6\",\"gridcolor\":\"white\",\"linecolor\":\"white\",\"showbackground\":true,\"ticks\":\"\",\"zerolinecolor\":\"white\",\"gridwidth\":2},\"yaxis\":{\"backgroundcolor\":\"#E5ECF6\",\"gridcolor\":\"white\",\"linecolor\":\"white\",\"showbackground\":true,\"ticks\":\"\",\"zerolinecolor\":\"white\",\"gridwidth\":2},\"zaxis\":{\"backgroundcolor\":\"#E5ECF6\",\"gridcolor\":\"white\",\"linecolor\":\"white\",\"showbackground\":true,\"ticks\":\"\",\"zerolinecolor\":\"white\",\"gridwidth\":2}},\"shapedefaults\":{\"line\":{\"color\":\"#2a3f5f\"}},\"annotationdefaults\":{\"arrowcolor\":\"#2a3f5f\",\"arrowhead\":0,\"arrowwidth\":1},\"geo\":{\"bgcolor\":\"white\",\"landcolor\":\"#E5ECF6\",\"subunitcolor\":\"white\",\"showland\":true,\"showlakes\":true,\"lakecolor\":\"white\"},\"title\":{\"x\":0.05},\"mapbox\":{\"style\":\"light\"}}},\"xaxis\":{\"anchor\":\"y\",\"domain\":[0.0,1.0],\"title\":{\"text\":\"Open\"}},\"yaxis\":{\"anchor\":\"x\",\"domain\":[0.0,1.0],\"title\":{\"text\":\"Close\"}},\"legend\":{\"tracegroupgap\":0},\"title\":{\"text\":\"Open VS Close\"}},                        {\"responsive\": true}                    ).then(function(){\n",
              "                            \n",
              "var gd = document.getElementById('73183f1a-ef25-4f24-a26a-3ad177e268e4');\n",
              "var x = new MutationObserver(function (mutations, observer) {{\n",
              "        var display = window.getComputedStyle(gd).display;\n",
              "        if (!display || display === 'none') {{\n",
              "            console.log([gd, 'removed!']);\n",
              "            Plotly.purge(gd);\n",
              "            observer.disconnect();\n",
              "        }}\n",
              "}});\n",
              "\n",
              "// Listen for the removal of the full notebook cells\n",
              "var notebookContainer = gd.closest('#notebook-container');\n",
              "if (notebookContainer) {{\n",
              "    x.observe(notebookContainer, {childList: true});\n",
              "}}\n",
              "\n",
              "// Listen for the clearing of the current output cell\n",
              "var outputEl = gd.closest('.output');\n",
              "if (outputEl) {{\n",
              "    x.observe(outputEl, {childList: true});\n",
              "}}\n",
              "\n",
              "                        })                };                            </script>        </div>\n",
              "</body>\n",
              "</html>"
            ]
          },
          "metadata": {}
        }
      ]
    },
    {
      "cell_type": "code",
      "source": [
        "fig = px.scatter(viz,\n",
        "                 x='High',\n",
        "                 y='Close',\n",
        "                 opacity=0.8,\n",
        "\n",
        "                 title='High VS Close')\n",
        "fig.update_traces(marker_size=5)\n",
        "fig.show()"
      ],
      "metadata": {
        "colab": {
          "base_uri": "https://localhost:8080/",
          "height": 542
        },
        "id": "utnEUuknQgDf",
        "outputId": "c51ce608-a7c4-4534-84dc-e16a0bbff96e"
      },
      "execution_count": null,
      "outputs": [
        {
          "output_type": "display_data",
          "data": {
            "text/html": [
              "<html>\n",
              "<head><meta charset=\"utf-8\" /></head>\n",
              "<body>\n",
              "    <div>            <script src=\"https://cdnjs.cloudflare.com/ajax/libs/mathjax/2.7.5/MathJax.js?config=TeX-AMS-MML_SVG\"></script><script type=\"text/javascript\">if (window.MathJax && window.MathJax.Hub && window.MathJax.Hub.Config) {window.MathJax.Hub.Config({SVG: {font: \"STIX-Web\"}});}</script>                <script type=\"text/javascript\">window.PlotlyConfig = {MathJaxConfig: 'local'};</script>\n",
              "        <script charset=\"utf-8\" src=\"https://cdn.plot.ly/plotly-2.24.1.min.js\"></script>                <div id=\"4cb33cb1-d1f9-4504-9320-080c3ab749cf\" class=\"plotly-graph-div\" style=\"height:525px; width:100%;\"></div>            <script type=\"text/javascript\">                                    window.PLOTLYENV=window.PLOTLYENV || {};                                    if (document.getElementById(\"4cb33cb1-d1f9-4504-9320-080c3ab749cf\")) {                    Plotly.newPlot(                        \"4cb33cb1-d1f9-4504-9320-080c3ab749cf\",                        [{\"hovertemplate\":\"High=%{x}\\u003cbr\\u003eClose=%{y}\\u003cextra\\u003e\\u003c\\u002fextra\\u003e\",\"legendgroup\":\"\",\"marker\":{\"color\":\"#636efa\",\"opacity\":0.8,\"symbol\":\"circle\",\"size\":5},\"mode\":\"markers\",\"name\":\"\",\"showlegend\":false,\"x\":[267.899994,266.700012,272.450012,267.619995,255.800003,259.149994,261.410004,269.880005,280.5,281.959991,285.809998,286.640015,284.5,286.0,295.649994,297.359985,295.75,295.25,301.179993,316.910004,325.790009,323.73999,322.920013,331.440002,333.980011,325.839996,323.880005,323.399994,324.109985,317.0,319.5,319.399994,314.119995,309.369995,321.029999,322.899994,298.799988,295.350006,292.869995,291.25,290.309998,299.160004,298.850006,299.549988,298.950012,311.640015,311.130005,317.48999,316.100006,338.619995,338.820007,335.309998,336.51001,331.220001,320.25,309.980011,316.630005,317.450012,317.880005,313.480011,317.100006,312.589996,320.980011,329.019989,327.350006,331.950012,332.059998,331.26001,330.5,326.940002,329.720001,330.450012,326.420013,331.880005,336.630005,345.0,354.0,354.359985,356.100006,354.0,355.529999,359.98999,363.0,369.829987,369.679993,368.700012,362.390015,365.670013,365.980011,384.25,395.029999,398.859985,393.160004,405.290009,419.470001,423.209991,420.5,405.98999,404.779999,411.589996,396.899994,401.329987,398.380005,399.980011,399.23999,408.649994,419.119995,419.440002,419.769989,416.790009,410.0,403.359985,385.0,383.130005,375.75,370.5,363.899994,367.399994,363.279999,365.540009,367.0,352.029999,342.5,344.410004,345.0,347.859985,351.980011,357.309998,352.290009,352.440002,349.100006,347.190002,342.410004,335.5,331.170013,324.369995,331.600006,341.5,346.209991,350.079987,359.149994,374.48999,369.98999,369.859985,376.809998,376.0,368.880005,363.390015,356.0,355.75,352.5,356.149994,370.429993,374.089996,371.089996,367.329987,368.149994,377.609985,370.26001,372.220001,373.640015,371.339996,382.0,383.200012,380.799988,386.109985,386.799988,380.929993,375.920013,363.5,352.950012,358.720001,355.149994,334.200012,341.299988,339.209991,347.950012,380.0,362.200012,355.799988,335.799988,336.579987,333.0,319.940002,313.98999,307.890015,290.519989,311.5,318.450012,321.880005,317.529999,320.220001,328.559998,332.049988,312.980011,302.48999,303.549988,301.839996,292.5,291.720001,285.089996,276.339996,275.339996,265.5,266.25,269.079987,284.0,290.48999,290.809998,298.720001,295.73999,283.220001,284.209991,271.179993,274.5,281.769989,279.320007,277.670013,272.980011,275.75,280.869995,269.899994,264.5,250.649994,254.5,255.589996,261.910004,270.100006,269.75,275.790009,297.799988,316.799988,320.589996,323.350006,325.369995,341.089996,335.480011,357.220001,358.850006,355.790009,353.0,336.880005,331.75,331.799988,340.0,336.299988,338.220001,341.779999,345.98999,346.839996,352.0,360.0,357.040009,348.75,348.0,352.869995,360.0,359.600006,360.450012,364.399994,365.0,366.709991,362.850006,366.130005,371.48999,365.700012,368.029999,366.390015,362.869995,362.25,356.170013,359.880005,362.859985,349.920013,358.980011,360.130005,362.480011,363.839996,364.0,370.970001,366.959991,375.899994,379.0,376.429993,367.040009,368.380005,362.470001,355.940002,358.25,368.329987,368.420013,373.410004,372.049988,369.799988,365.940002,366.73999,368.850006,370.119995,361.75,352.209991,364.480011,368.76001,360.410004,377.690002,384.799988,381.899994,374.76001,375.140015,374.579987,374.5,385.98999,383.5,385.029999,381.350006,379.910004,369.0,364.200012,365.26001,354.26001,349.950012,356.5,364.0,359.619995,352.420013,356.429993,370.459991,357.420013,359.440002,361.200012,353.850006,354.209991,349.339996,347.660004,353.609985,357.880005,358.209991,365.149994,367.100006,357.579987,353.609985,348.5,343.399994,351.769989,361.5,364.73999,370.119995,371.450012,375.0,371.0,366.790009,370.850006,371.540009,376.660004,376.0,381.98999,381.399994,378.25,384.76001,384.339996,384.540009,379.73999,373.679993,371.339996,366.5,329.850006,325.850006,314.540009,313.5,319.98999,327.690002,336.0,336.399994,329.649994,331.769989,328.579987,319.410004,313.420013,311.880005,305.0,316.359985,316.640015,312.890015,316.429993,308.410004,300.630005,303.549988,311.75,305.0,302.880005,300.329987,299.01001,296.950012,296.769989,292.820007,299.929993,298.940002,293.899994,292.380005,293.970001,293.350006,301.549988,297.170013,292.649994,292.730011,296.619995,297.429993,299.149994,296.049988,293.809998,282.5,273.390015,265.0,266.600006,268.049988,267.440002,268.880005,272.200012,269.350006,268.839996,275.480011,276.679993,275.529999,271.0,280.529999,287.869995,286.929993,285.869995,288.170013,308.75,290.899994,279.940002,275.410004,273.920013,274.019989,277.769989,285.75,284.410004,293.48999,291.450012,289.119995,295.390015,291.190002,290.559998,298.190002,293.98999,296.359985,295.350006,293.410004,290.630005,295.820007,304.98999,305.670013,308.25,312.690002,311.399994,315.730011,316.5,316.820007,316.619995,314.390015,307.359985,308.429993,306.480011,307.850006,311.48999,298.940002,299.429993,299.170013,301.799988,305.709991,316.799988,325.359985,332.829987,338.0,337.950012,335.700012,336.459991,333.820007,329.190002,324.920013,329.980011,329.859985,336.359985,336.700012,342.700012,343.420013,338.5,340.850006,345.380005,343.170013,343.559998,341.570007,341.0,336.299988,349.880005,359.850006,351.899994,352.399994,349.399994,348.200012,347.390015,359.630005,369.570007,375.25,371.549988,371.799988,374.799988,378.109985,380.619995,385.369995,385.149994,389.540009,392.950012,389.700012,387.320007,372.820007,375.649994,382.0,391.559998,376.769989,381.359985,393.519989,384.01001,391.399994,371.309998,357.470001,364.540009,362.980011,335.720001,336.420013,334.350006,322.899994,331.579987,348.51001,350.48999,366.109985,372.929993,362.0,363.839996,368.559998,377.799988,383.01001,380.230011,370.98999,370.899994,380.290009,381.329987,378.390015,372.100006,400.51001,417.820007,434.980011,449.519989,432.0,444.48999,447.0,433.0,438.410004,427.170013,429.0,421.0,415.859985,424.440002,427.970001,428.540009,431.0,439.769989,438.880005,442.0,444.890015,444.170013,447.0,452.380005,455.0,456.359985,458.970001,455.809998,448.959991,439.089996,428.5,420.019989,422.369995,420.299988,426.720001,427.589996,427.100006,428.709991,420.23999,420.799988,434.730011,439.690002,445.570007,434.059998,426.48999,437.959991,450.459991,452.76001,453.970001,468.589996,474.01001,472.359985,467.01001,468.029999,447.670013,457.589996,488.230011,492.279999,499.5,504.820007,505.100006,510.0,555.880005,575.369995,525.5,529.0,535.539978,503.589996,504.5,506.220001,497.200012,491.899994,487.170013,496.920013,497.790009,494.920013,488.350006,494.799988,503.089996,510.440002,510.100006,510.820007,508.290009,497.459991,480.920013,482.48999,484.450012,488.329987,486.23999,495.299988,494.5,498.940002,498.130005,501.0,492.470001,549.039978,541.0,539.0,531.98999,557.390015,556.5,554.0,527.359985,522.0,520.0,506.290009,493.730011,488.98999,497.470001,504.660004,478.399994,479.399994,487.779999,491.820007,491.040009,477.0,484.869995,492.0,496.290009,504.630005,529.549988,526.369995,520.98999,521.820007,536.48999,535.0,544.280029,551.809998,557.650024,572.48999,551.219971,554.330017,541.799988,533.780029,506.850006,495.140015,490.059998,496.820007,490.48999,494.0,513.900024,505.880005,486.299988,495.309998,507.730011,518.72998,515.210022,495.850006,484.600006,491.679993,496.519989,488.940002,485.579987,487.51001,488.609985,487.799988,494.76001,491.149994,484.049988,486.899994,493.25,492.549988,509.470001,506.799988,508.769989,504.5,517.76001,521.48999,514.5,503.769989,503.339996,524.159973,524.700012,527.380005,535.48999,536.369995,532.619995,530.400024,526.320007,519.349976,523.659973,536.549988,533.26001,545.5,540.799988,526.780029,513.099976,516.440002,513.23999,510.730011,501.089996,512.349976,514.5,506.320007,509.25,593.289978,588.75,583.98999,569.75,567.98999,556.419983,553.150024,541.0,545.059998,555.47998,550.47998,559.47998,554.440002,555.0,566.0,566.650024,565.929993,561.25,563.630005,555.25,550.0,548.98999,541.789978,548.539978,556.849976,556.47998,553.090027,552.140015,556.98999,548.01001,531.5,517.76001,518.840027,513.109985,518.969971,530.23999,526.51001,520.72998,533.419983,528.369995,517.900024,513.190002,529.309998,543.119995,534.419983,518.530029,508.720001,518.0,514.409973,528.130005,540.5,542.849976,554.169983,549.640015,556.900024,556.900024,557.97998,559.75,554.869995,553.48999,551.97998,556.440002,563.559998,515.460022,513.960022,509.700012,510.480011,512.98999,508.399994,509.290009,514.549988,518.950012,511.630005,507.779999,499.549988,508.549988,503.149994,497.98999,493.540009,490.779999,494.850006,492.709991,493.480011,488.570007,502.700012,505.399994,504.25,506.369995,504.140015,505.100006,511.76001,505.410004,503.220001,496.660004,501.859985,496.700012,498.820007,496.089996,490.209991,491.410004,503.5,501.230011,496.459991,501.799988,504.48999,502.049988,513.549988,516.630005,520.960022,533.059998,533.940002,536.130005,534.380005,537.039978,538.539978,542.859985,544.640015,535.5,538.26001,540.650024,545.330017,554.099976,557.539978,544.059998,534.909973,536.640015,530.98999,513.679993,517.409973,521.130005,521.950012,524.469971,520.780029,519.789978,519.849976,515.630005,517.97998,525.409973,526.840027,522.669983,520.789978,519.570007,513.0,521.440002,523.380005,520.789978,526.380005,548.390015,551.390015,555.549988,555.309998,552.840027,552.599976,564.169983,567.159973,569.47998,591.0,598.76001,591.880005,613.849976,615.599976,609.440002,609.450012,598.570007,587.280029,584.619995,587.47998,590.280029,591.530029,581.880005,595.650024,599.320007,592.97998,593.580017,599.539978,609.880005,619.0,614.98999,626.130005,640.390015,639.869995,646.840027,643.799988,639.419983,637.659973,632.179993,636.880005,639.419983,638.409973,641.0,637.400024,654.01001,665.460022,675.880005,676.48999,671.409973,676.799988,690.969971,689.969971,687.679993,689.390015,685.940002,665.640015,656.0,660.5,660.330017,665.820007,683.340027,685.26001,688.359985,700.98999,691.73999,694.159973,679.47998,666.429993,661.440002,676.409973,667.98999,675.380005,654.52002,625.359985,625.5,617.289978,628.890015,632.460022,630.23999,617.73999,612.640015,602.289978,605.690002,602.830017,593.25,602.880005,607.820007,614.820007,616.880005,615.0,618.409973,613.97998,620.609985,614.080017,609.98999,600.409973,592.840027,563.359985,553.429993,543.690002,543.909973,544.27002,540.789978,538.369995,521.75,523.210022,526.640015,409.149994,387.26001,387.709991,382.660004,394.799988,387.0,427.700012,458.480011,451.980011,429.26001,412.769989],\"xaxis\":\"x\",\"y\":[254.259995,265.720001,264.559998,250.100006,249.470001,257.950012,258.269989,266.0,280.269989,278.519989,278.549988,281.040009,278.140015,285.929993,294.160004,290.609985,291.380005,290.390015,301.049988,315.0,325.220001,321.160004,317.0,331.440002,321.299988,315.880005,321.549988,321.089996,318.450012,313.480011,317.5,316.480011,306.700012,300.940002,320.350006,300.690002,285.769989,295.350006,280.290009,283.670013,288.940002,293.970001,288.850006,289.929993,298.070007,303.670013,309.25,311.649994,307.779999,336.059998,334.519989,332.700012,327.769989,318.690002,307.019989,305.76001,313.980011,311.76001,312.459991,313.299988,313.359985,311.690002,320.089996,326.26001,326.890015,330.299988,329.600006,326.459991,328.529999,326.130005,328.190002,325.220001,324.179993,331.820007,331.619995,344.720001,349.290009,351.290009,349.730011,353.540009,351.600006,359.929993,361.809998,365.799988,367.450012,361.399994,360.570007,361.450012,363.829987,379.929993,392.869995,391.980011,390.399994,404.980011,416.76001,415.440002,411.089996,384.480011,399.390015,390.390015,395.420013,391.429993,398.179993,390.519989,398.390015,408.25,418.970001,415.630005,418.649994,413.5,395.799988,400.480011,379.480011,375.130005,364.230011,361.049988,362.660004,357.320007,362.869995,363.089996,355.209991,334.959991,337.450012,338.380005,344.5,343.089996,350.920013,351.829987,347.609985,349.359985,345.869995,341.309998,337.48999,326.399994,322.440002,316.779999,327.730011,338.019989,344.440002,339.170013,358.820007,364.579987,368.48999,368.040009,370.980011,367.679993,363.600006,341.179993,346.459991,348.679993,348.410004,355.929993,369.950012,368.149994,364.559998,350.350006,367.649994,366.959991,365.359985,361.190002,369.609985,369.429993,377.880005,380.709991,374.130005,381.429993,377.140015,377.049988,363.649994,351.350006,349.100006,355.709991,325.890015,321.100006,339.559998,333.130005,346.399994,364.700012,346.709991,332.670013,329.540009,333.160004,301.829987,312.869995,299.829987,284.839996,285.809998,301.779999,317.380005,309.100006,315.440002,310.839996,327.5,317.920013,303.470001,294.070007,294.399994,286.730011,290.059998,286.209991,270.600006,266.980011,262.130005,258.820007,261.429993,266.630005,282.649994,288.75,286.130005,290.299988,275.329987,282.880005,265.140015,269.700012,265.320007,274.880005,276.019989,266.839996,262.799988,270.940002,266.769989,260.579987,246.389999,233.880005,253.669998,255.570007,256.079987,267.660004,267.660004,271.200012,297.570007,315.339996,320.269989,319.959991,324.660004,337.589996,332.940002,354.640015,351.390015,353.190002,339.100006,325.160004,321.98999,326.670013,338.049988,335.660004,328.899994,340.660004,339.5,339.850006,351.339996,355.809998,352.190002,344.709991,347.570007,345.730011,359.970001,351.769989,359.070007,356.869995,361.920013,359.910004,356.970001,363.019989,363.910004,364.970001,362.869995,358.100006,357.320007,351.040009,354.299988,359.609985,352.600006,349.600006,358.859985,356.269989,361.209991,358.820007,361.459991,363.440002,358.779999,375.220001,377.869995,361.01001,366.230011,359.970001,353.369995,354.609985,356.559998,366.959991,367.720001,369.75,367.880005,365.48999,361.410004,364.709991,363.920013,367.649994,351.140015,348.869995,359.459991,354.73999,360.350006,377.339996,381.890015,374.230011,368.329987,374.850006,371.829987,370.540009,378.809998,379.059998,385.029999,378.670013,370.459991,364.369995,362.75,361.040009,345.26001,345.609985,354.98999,359.309998,354.450012,348.109985,354.269989,359.730011,352.209991,354.390015,355.059998,349.190002,351.850006,343.279999,336.630005,353.399994,355.730011,357.130005,360.869995,352.01001,351.269989,345.559998,343.429993,339.730011,350.619995,357.119995,363.519989,365.209991,369.209991,371.040009,360.299988,362.200012,370.019989,367.320007,374.600006,375.429993,381.720001,380.549988,376.160004,379.929993,381.0,379.5,373.25,366.600006,365.98999,362.440002,325.209991,315.100006,310.619995,307.299988,317.940002,326.459991,335.779999,332.700012,325.929993,322.98999,319.5,318.829987,307.630005,310.100006,304.290009,315.899994,308.929993,310.829987,312.279999,299.109985,295.76001,302.799988,309.380005,298.98999,297.809998,296.929993,291.440002,294.980011,291.029999,291.769989,296.779999,293.75,289.290009,291.519989,293.25,290.170013,294.339996,287.98999,288.269989,288.859985,294.149994,294.290009,298.600006,291.559998,286.600006,270.75,265.920013,254.589996,264.75,263.309998,263.079987,267.619995,269.579987,268.029999,268.149994,272.790009,274.459991,270.720001,267.529999,280.480011,282.929993,285.529999,284.25,286.279999,293.350006,275.299988,278.049988,266.690002,271.269989,271.5,276.820007,281.859985,281.209991,291.450012,287.410004,286.809998,292.859985,288.029999,288.589996,289.570007,291.570007,294.179993,292.01001,283.109985,289.619995,295.029999,302.570007,302.600006,305.160004,311.690002,310.480011,315.549988,312.48999,315.929993,314.660004,309.98999,306.160004,304.320007,302.859985,307.350006,302.5,293.119995,298.929993,298.440002,298.5,304.209991,315.480011,320.799988,332.220001,336.899994,333.100006,333.200012,332.630005,329.089996,323.309998,323.570007,329.809998,325.899994,335.829987,330.75,339.26001,335.660004,329.049988,338.920013,338.690002,339.070007,338.619995,339.670013,338.109985,326.0,349.600006,353.160004,342.880005,348.519989,343.160004,347.73999,345.089996,358.0,369.01001,369.670013,366.950012,366.769989,371.070007,373.690002,380.01001,381.399994,380.399994,387.779999,386.190002,386.0,380.070007,368.700012,360.089996,379.23999,371.709991,369.029999,381.049988,368.769989,383.790009,372.779999,368.970001,346.48999,364.130005,349.920013,315.25,336.299988,298.839996,319.75,315.470001,332.029999,332.829987,360.269989,357.320007,342.390015,362.98999,357.119995,370.959991,375.5,364.079987,370.079987,361.76001,379.959991,372.279999,371.119995,370.720001,396.720001,413.549988,426.75,439.170013,422.959991,437.48999,433.829987,421.420013,426.700012,424.98999,421.380005,403.829987,411.890015,419.850006,415.269989,428.149994,424.679993,434.26001,436.529999,435.549988,440.519989,431.820007,438.269989,441.950012,454.190002,452.579987,451.040009,447.670013,436.25,429.320007,414.769989,419.890015,413.440002,419.730011,425.920013,427.309998,421.970001,414.329987,419.600006,419.48999,434.049988,434.480011,425.559998,418.070007,425.5,436.130005,447.769989,449.869995,453.720001,468.040009,466.26001,457.850006,465.910004,443.399994,447.23999,455.040009,485.640015,476.890015,493.809998,493.160004,502.779999,507.76001,548.72998,525.5,524.880005,523.26001,527.390015,492.98999,502.410004,490.100006,489.820007,477.579987,480.450012,495.649994,488.51001,484.480011,485.799988,488.880005,498.619995,509.640015,502.109985,509.079987,494.730011,483.380005,466.929993,475.470001,481.329987,482.679993,482.350006,491.869995,484.529999,497.899994,492.309998,488.809998,490.579987,547.530029,526.27002,523.890015,529.559998,556.549988,552.840027,525.75,516.049988,507.019989,500.190002,480.670013,482.029999,476.26001,495.98999,483.859985,470.200012,469.959991,487.350006,491.170013,470.609985,473.079987,482.880005,490.649994,493.480011,500.029999,527.51001,503.059998,520.650024,505.869995,534.659973,531.789978,539.440002,539.809998,554.090027,541.450012,541.940002,530.789978,530.719971,525.419983,489.049988,485.230011,488.279999,488.23999,488.929993,486.23999,504.209991,475.73999,484.119995,487.220001,496.950012,513.76001,514.72998,470.5,480.23999,490.76001,486.769989,482.839996,479.100006,480.630005,481.790009,484.670013,488.23999,476.619995,482.880005,485.0,491.359985,490.700012,504.579987,503.380005,497.519989,498.309998,515.780029,512.659973,493.600006,501.089996,503.220001,522.419983,519.780029,524.830017,532.900024,534.450012,528.909973,527.330017,514.47998,513.969971,519.119995,530.869995,524.590027,540.72998,522.859985,520.799988,500.48999,508.890015,510.399994,499.100006,494.25,507.790009,500.859985,497.980011,501.769989,586.340027,579.840027,565.169983,556.780029,561.929993,523.280029,538.599976,532.390015,539.039978,548.159973,539.450012,552.159973,550.789978,547.919983,559.070007,563.590027,557.590027,556.52002,557.280029,551.340027,548.219971,540.219971,533.780029,546.150024,553.409973,546.700012,538.849976,550.640015,547.820007,520.700012,511.290009,516.390015,493.329987,506.440002,504.540009,523.059998,518.02002,520.25,524.030029,524.440002,504.790009,512.179993,523.109985,535.090027,520.809998,502.859985,508.049988,513.950012,513.390015,521.659973,539.419983,540.669983,544.530029,546.98999,554.580017,555.309998,552.780029,553.72998,540.02002,549.219971,546.539978,554.440002,549.570007,508.899994,508.779999,505.549988,510.299988,505.549988,506.519989,509.0,513.469971,509.109985,503.179993,496.079987,499.549988,503.839996,486.690002,495.079987,484.980011,486.660004,493.369995,488.940002,486.279999,487.700012,501.670013,497.890015,502.899994,501.339996,502.359985,503.859985,502.809998,499.079987,499.23999,489.429993,494.73999,494.660004,492.390015,485.809998,487.269989,488.769989,499.890015,491.899994,492.410004,498.339996,500.769989,497.0,508.820007,512.73999,518.059998,527.070007,533.030029,533.5,528.210022,533.539978,533.97998,541.640015,535.960022,530.76001,535.97998,537.309998,540.679993,547.950012,542.950012,530.309998,532.280029,531.049988,513.630005,511.769989,515.409973,516.48999,518.909973,519.299988,514.25,517.570007,515.150024,510.820007,517.349976,524.890015,520.549988,519.969971,515.840027,512.400024,510.720001,515.919983,517.919983,518.909973,521.869995,543.710022,546.880005,553.330017,553.409973,547.580017,550.119995,558.919983,566.179993,569.190002,582.070007,588.549988,590.530029,606.710022,606.049988,597.539978,598.719971,589.289978,577.76001,582.869995,586.5,589.349976,575.429993,573.140015,590.650024,593.26001,592.390015,592.640015,583.849976,599.059998,610.340027,613.150024,603.349976,634.809998,639.099976,631.849976,632.659973,627.039978,624.940002,629.76001,633.799988,628.289978,637.969971,639.0,625.140015,653.159973,664.780029,671.659973,668.52002,662.919983,674.049988,690.309998,681.169983,677.719971,688.289978,668.400024,645.719971,651.450012,655.98999,646.909973,657.580017,682.609985,679.330017,687.400024,691.690002,682.02002,678.799988,659.200012,654.059998,658.289978,665.640015,663.840027,641.900024,617.77002,616.469971,602.130005,612.690002,625.580017,628.080017,611.0,611.659973,604.559998,597.98999,605.039978,591.059998,586.72998,593.73999,604.919983,614.23999,614.090027,613.119995,610.710022,610.539978,612.090027,602.440002,597.369995,591.150024,567.52002,553.289978,541.059998,539.849976,540.840027,537.219971,519.200012,525.690002,510.799988,515.859985,508.25,397.5,387.149994,366.420013,359.700012,386.700012,384.359985,427.140015,457.130005,429.480011,405.600006,410.170013],\"yaxis\":\"y\",\"type\":\"scattergl\"}],                        {\"template\":{\"data\":{\"histogram2dcontour\":[{\"type\":\"histogram2dcontour\",\"colorbar\":{\"outlinewidth\":0,\"ticks\":\"\"},\"colorscale\":[[0.0,\"#0d0887\"],[0.1111111111111111,\"#46039f\"],[0.2222222222222222,\"#7201a8\"],[0.3333333333333333,\"#9c179e\"],[0.4444444444444444,\"#bd3786\"],[0.5555555555555556,\"#d8576b\"],[0.6666666666666666,\"#ed7953\"],[0.7777777777777778,\"#fb9f3a\"],[0.8888888888888888,\"#fdca26\"],[1.0,\"#f0f921\"]]}],\"choropleth\":[{\"type\":\"choropleth\",\"colorbar\":{\"outlinewidth\":0,\"ticks\":\"\"}}],\"histogram2d\":[{\"type\":\"histogram2d\",\"colorbar\":{\"outlinewidth\":0,\"ticks\":\"\"},\"colorscale\":[[0.0,\"#0d0887\"],[0.1111111111111111,\"#46039f\"],[0.2222222222222222,\"#7201a8\"],[0.3333333333333333,\"#9c179e\"],[0.4444444444444444,\"#bd3786\"],[0.5555555555555556,\"#d8576b\"],[0.6666666666666666,\"#ed7953\"],[0.7777777777777778,\"#fb9f3a\"],[0.8888888888888888,\"#fdca26\"],[1.0,\"#f0f921\"]]}],\"heatmap\":[{\"type\":\"heatmap\",\"colorbar\":{\"outlinewidth\":0,\"ticks\":\"\"},\"colorscale\":[[0.0,\"#0d0887\"],[0.1111111111111111,\"#46039f\"],[0.2222222222222222,\"#7201a8\"],[0.3333333333333333,\"#9c179e\"],[0.4444444444444444,\"#bd3786\"],[0.5555555555555556,\"#d8576b\"],[0.6666666666666666,\"#ed7953\"],[0.7777777777777778,\"#fb9f3a\"],[0.8888888888888888,\"#fdca26\"],[1.0,\"#f0f921\"]]}],\"heatmapgl\":[{\"type\":\"heatmapgl\",\"colorbar\":{\"outlinewidth\":0,\"ticks\":\"\"},\"colorscale\":[[0.0,\"#0d0887\"],[0.1111111111111111,\"#46039f\"],[0.2222222222222222,\"#7201a8\"],[0.3333333333333333,\"#9c179e\"],[0.4444444444444444,\"#bd3786\"],[0.5555555555555556,\"#d8576b\"],[0.6666666666666666,\"#ed7953\"],[0.7777777777777778,\"#fb9f3a\"],[0.8888888888888888,\"#fdca26\"],[1.0,\"#f0f921\"]]}],\"contourcarpet\":[{\"type\":\"contourcarpet\",\"colorbar\":{\"outlinewidth\":0,\"ticks\":\"\"}}],\"contour\":[{\"type\":\"contour\",\"colorbar\":{\"outlinewidth\":0,\"ticks\":\"\"},\"colorscale\":[[0.0,\"#0d0887\"],[0.1111111111111111,\"#46039f\"],[0.2222222222222222,\"#7201a8\"],[0.3333333333333333,\"#9c179e\"],[0.4444444444444444,\"#bd3786\"],[0.5555555555555556,\"#d8576b\"],[0.6666666666666666,\"#ed7953\"],[0.7777777777777778,\"#fb9f3a\"],[0.8888888888888888,\"#fdca26\"],[1.0,\"#f0f921\"]]}],\"surface\":[{\"type\":\"surface\",\"colorbar\":{\"outlinewidth\":0,\"ticks\":\"\"},\"colorscale\":[[0.0,\"#0d0887\"],[0.1111111111111111,\"#46039f\"],[0.2222222222222222,\"#7201a8\"],[0.3333333333333333,\"#9c179e\"],[0.4444444444444444,\"#bd3786\"],[0.5555555555555556,\"#d8576b\"],[0.6666666666666666,\"#ed7953\"],[0.7777777777777778,\"#fb9f3a\"],[0.8888888888888888,\"#fdca26\"],[1.0,\"#f0f921\"]]}],\"mesh3d\":[{\"type\":\"mesh3d\",\"colorbar\":{\"outlinewidth\":0,\"ticks\":\"\"}}],\"scatter\":[{\"fillpattern\":{\"fillmode\":\"overlay\",\"size\":10,\"solidity\":0.2},\"type\":\"scatter\"}],\"parcoords\":[{\"type\":\"parcoords\",\"line\":{\"colorbar\":{\"outlinewidth\":0,\"ticks\":\"\"}}}],\"scatterpolargl\":[{\"type\":\"scatterpolargl\",\"marker\":{\"colorbar\":{\"outlinewidth\":0,\"ticks\":\"\"}}}],\"bar\":[{\"error_x\":{\"color\":\"#2a3f5f\"},\"error_y\":{\"color\":\"#2a3f5f\"},\"marker\":{\"line\":{\"color\":\"#E5ECF6\",\"width\":0.5},\"pattern\":{\"fillmode\":\"overlay\",\"size\":10,\"solidity\":0.2}},\"type\":\"bar\"}],\"scattergeo\":[{\"type\":\"scattergeo\",\"marker\":{\"colorbar\":{\"outlinewidth\":0,\"ticks\":\"\"}}}],\"scatterpolar\":[{\"type\":\"scatterpolar\",\"marker\":{\"colorbar\":{\"outlinewidth\":0,\"ticks\":\"\"}}}],\"histogram\":[{\"marker\":{\"pattern\":{\"fillmode\":\"overlay\",\"size\":10,\"solidity\":0.2}},\"type\":\"histogram\"}],\"scattergl\":[{\"type\":\"scattergl\",\"marker\":{\"colorbar\":{\"outlinewidth\":0,\"ticks\":\"\"}}}],\"scatter3d\":[{\"type\":\"scatter3d\",\"line\":{\"colorbar\":{\"outlinewidth\":0,\"ticks\":\"\"}},\"marker\":{\"colorbar\":{\"outlinewidth\":0,\"ticks\":\"\"}}}],\"scattermapbox\":[{\"type\":\"scattermapbox\",\"marker\":{\"colorbar\":{\"outlinewidth\":0,\"ticks\":\"\"}}}],\"scatterternary\":[{\"type\":\"scatterternary\",\"marker\":{\"colorbar\":{\"outlinewidth\":0,\"ticks\":\"\"}}}],\"scattercarpet\":[{\"type\":\"scattercarpet\",\"marker\":{\"colorbar\":{\"outlinewidth\":0,\"ticks\":\"\"}}}],\"carpet\":[{\"aaxis\":{\"endlinecolor\":\"#2a3f5f\",\"gridcolor\":\"white\",\"linecolor\":\"white\",\"minorgridcolor\":\"white\",\"startlinecolor\":\"#2a3f5f\"},\"baxis\":{\"endlinecolor\":\"#2a3f5f\",\"gridcolor\":\"white\",\"linecolor\":\"white\",\"minorgridcolor\":\"white\",\"startlinecolor\":\"#2a3f5f\"},\"type\":\"carpet\"}],\"table\":[{\"cells\":{\"fill\":{\"color\":\"#EBF0F8\"},\"line\":{\"color\":\"white\"}},\"header\":{\"fill\":{\"color\":\"#C8D4E3\"},\"line\":{\"color\":\"white\"}},\"type\":\"table\"}],\"barpolar\":[{\"marker\":{\"line\":{\"color\":\"#E5ECF6\",\"width\":0.5},\"pattern\":{\"fillmode\":\"overlay\",\"size\":10,\"solidity\":0.2}},\"type\":\"barpolar\"}],\"pie\":[{\"automargin\":true,\"type\":\"pie\"}]},\"layout\":{\"autotypenumbers\":\"strict\",\"colorway\":[\"#636efa\",\"#EF553B\",\"#00cc96\",\"#ab63fa\",\"#FFA15A\",\"#19d3f3\",\"#FF6692\",\"#B6E880\",\"#FF97FF\",\"#FECB52\"],\"font\":{\"color\":\"#2a3f5f\"},\"hovermode\":\"closest\",\"hoverlabel\":{\"align\":\"left\"},\"paper_bgcolor\":\"white\",\"plot_bgcolor\":\"#E5ECF6\",\"polar\":{\"bgcolor\":\"#E5ECF6\",\"angularaxis\":{\"gridcolor\":\"white\",\"linecolor\":\"white\",\"ticks\":\"\"},\"radialaxis\":{\"gridcolor\":\"white\",\"linecolor\":\"white\",\"ticks\":\"\"}},\"ternary\":{\"bgcolor\":\"#E5ECF6\",\"aaxis\":{\"gridcolor\":\"white\",\"linecolor\":\"white\",\"ticks\":\"\"},\"baxis\":{\"gridcolor\":\"white\",\"linecolor\":\"white\",\"ticks\":\"\"},\"caxis\":{\"gridcolor\":\"white\",\"linecolor\":\"white\",\"ticks\":\"\"}},\"coloraxis\":{\"colorbar\":{\"outlinewidth\":0,\"ticks\":\"\"}},\"colorscale\":{\"sequential\":[[0.0,\"#0d0887\"],[0.1111111111111111,\"#46039f\"],[0.2222222222222222,\"#7201a8\"],[0.3333333333333333,\"#9c179e\"],[0.4444444444444444,\"#bd3786\"],[0.5555555555555556,\"#d8576b\"],[0.6666666666666666,\"#ed7953\"],[0.7777777777777778,\"#fb9f3a\"],[0.8888888888888888,\"#fdca26\"],[1.0,\"#f0f921\"]],\"sequentialminus\":[[0.0,\"#0d0887\"],[0.1111111111111111,\"#46039f\"],[0.2222222222222222,\"#7201a8\"],[0.3333333333333333,\"#9c179e\"],[0.4444444444444444,\"#bd3786\"],[0.5555555555555556,\"#d8576b\"],[0.6666666666666666,\"#ed7953\"],[0.7777777777777778,\"#fb9f3a\"],[0.8888888888888888,\"#fdca26\"],[1.0,\"#f0f921\"]],\"diverging\":[[0,\"#8e0152\"],[0.1,\"#c51b7d\"],[0.2,\"#de77ae\"],[0.3,\"#f1b6da\"],[0.4,\"#fde0ef\"],[0.5,\"#f7f7f7\"],[0.6,\"#e6f5d0\"],[0.7,\"#b8e186\"],[0.8,\"#7fbc41\"],[0.9,\"#4d9221\"],[1,\"#276419\"]]},\"xaxis\":{\"gridcolor\":\"white\",\"linecolor\":\"white\",\"ticks\":\"\",\"title\":{\"standoff\":15},\"zerolinecolor\":\"white\",\"automargin\":true,\"zerolinewidth\":2},\"yaxis\":{\"gridcolor\":\"white\",\"linecolor\":\"white\",\"ticks\":\"\",\"title\":{\"standoff\":15},\"zerolinecolor\":\"white\",\"automargin\":true,\"zerolinewidth\":2},\"scene\":{\"xaxis\":{\"backgroundcolor\":\"#E5ECF6\",\"gridcolor\":\"white\",\"linecolor\":\"white\",\"showbackground\":true,\"ticks\":\"\",\"zerolinecolor\":\"white\",\"gridwidth\":2},\"yaxis\":{\"backgroundcolor\":\"#E5ECF6\",\"gridcolor\":\"white\",\"linecolor\":\"white\",\"showbackground\":true,\"ticks\":\"\",\"zerolinecolor\":\"white\",\"gridwidth\":2},\"zaxis\":{\"backgroundcolor\":\"#E5ECF6\",\"gridcolor\":\"white\",\"linecolor\":\"white\",\"showbackground\":true,\"ticks\":\"\",\"zerolinecolor\":\"white\",\"gridwidth\":2}},\"shapedefaults\":{\"line\":{\"color\":\"#2a3f5f\"}},\"annotationdefaults\":{\"arrowcolor\":\"#2a3f5f\",\"arrowhead\":0,\"arrowwidth\":1},\"geo\":{\"bgcolor\":\"white\",\"landcolor\":\"#E5ECF6\",\"subunitcolor\":\"white\",\"showland\":true,\"showlakes\":true,\"lakecolor\":\"white\"},\"title\":{\"x\":0.05},\"mapbox\":{\"style\":\"light\"}}},\"xaxis\":{\"anchor\":\"y\",\"domain\":[0.0,1.0],\"title\":{\"text\":\"High\"}},\"yaxis\":{\"anchor\":\"x\",\"domain\":[0.0,1.0],\"title\":{\"text\":\"Close\"}},\"legend\":{\"tracegroupgap\":0},\"title\":{\"text\":\"High VS Close\"}},                        {\"responsive\": true}                    ).then(function(){\n",
              "                            \n",
              "var gd = document.getElementById('4cb33cb1-d1f9-4504-9320-080c3ab749cf');\n",
              "var x = new MutationObserver(function (mutations, observer) {{\n",
              "        var display = window.getComputedStyle(gd).display;\n",
              "        if (!display || display === 'none') {{\n",
              "            console.log([gd, 'removed!']);\n",
              "            Plotly.purge(gd);\n",
              "            observer.disconnect();\n",
              "        }}\n",
              "}});\n",
              "\n",
              "// Listen for the removal of the full notebook cells\n",
              "var notebookContainer = gd.closest('#notebook-container');\n",
              "if (notebookContainer) {{\n",
              "    x.observe(notebookContainer, {childList: true});\n",
              "}}\n",
              "\n",
              "// Listen for the clearing of the current output cell\n",
              "var outputEl = gd.closest('.output');\n",
              "if (outputEl) {{\n",
              "    x.observe(outputEl, {childList: true});\n",
              "}}\n",
              "\n",
              "                        })                };                            </script>        </div>\n",
              "</body>\n",
              "</html>"
            ]
          },
          "metadata": {}
        }
      ]
    },
    {
      "cell_type": "code",
      "source": [
        "fig = px.scatter(viz,\n",
        "                 x='Low',\n",
        "                 y='Close',\n",
        "                 opacity=0.8,\n",
        "\n",
        "                 title='Low VS Close')\n",
        "fig.update_traces(marker_size=5)\n",
        "fig.show()"
      ],
      "metadata": {
        "colab": {
          "base_uri": "https://localhost:8080/",
          "height": 542
        },
        "id": "VP9d910ZQs-0",
        "outputId": "acf36879-b15d-4793-842c-8f7dd7dc1be9"
      },
      "execution_count": null,
      "outputs": [
        {
          "output_type": "display_data",
          "data": {
            "text/html": [
              "<html>\n",
              "<head><meta charset=\"utf-8\" /></head>\n",
              "<body>\n",
              "    <div>            <script src=\"https://cdnjs.cloudflare.com/ajax/libs/mathjax/2.7.5/MathJax.js?config=TeX-AMS-MML_SVG\"></script><script type=\"text/javascript\">if (window.MathJax && window.MathJax.Hub && window.MathJax.Hub.Config) {window.MathJax.Hub.Config({SVG: {font: \"STIX-Web\"}});}</script>                <script type=\"text/javascript\">window.PlotlyConfig = {MathJaxConfig: 'local'};</script>\n",
              "        <script charset=\"utf-8\" src=\"https://cdn.plot.ly/plotly-2.24.1.min.js\"></script>                <div id=\"dfcd6972-e627-495e-ab63-407c98c9c723\" class=\"plotly-graph-div\" style=\"height:525px; width:100%;\"></div>            <script type=\"text/javascript\">                                    window.PLOTLYENV=window.PLOTLYENV || {};                                    if (document.getElementById(\"dfcd6972-e627-495e-ab63-407c98c9c723\")) {                    Plotly.newPlot(                        \"dfcd6972-e627-495e-ab63-407c98c9c723\",                        [{\"hovertemplate\":\"Low=%{x}\\u003cbr\\u003eClose=%{y}\\u003cextra\\u003e\\u003c\\u002fextra\\u003e\",\"legendgroup\":\"\",\"marker\":{\"color\":\"#636efa\",\"opacity\":0.8,\"symbol\":\"circle\",\"size\":5},\"mode\":\"markers\",\"name\":\"\",\"showlegend\":false,\"x\":[250.029999,245.0,264.329987,250.0,236.110001,249.0,254.699997,260.329987,267.630005,275.690002,276.609985,280.01001,274.450012,277.809998,287.01001,290.589996,290.779999,283.829987,283.230011,297.600006,316.5,314.549988,314.130005,320.230011,318.600006,313.279999,317.700012,318.140015,318.369995,307.339996,312.799988,314.51001,305.660004,300.359985,302.0,297.0,281.609985,275.899994,275.049988,278.01001,271.220001,289.109985,285.649994,289.119995,291.690002,301.820007,306.75,308.230011,304.0,323.769989,331.100006,326.769989,326.0,317.079987,302.309998,292.619995,305.579987,306.5,310.119995,306.690002,310.399994,305.730011,307.670013,319.339996,323.049988,327.51001,327.339996,324.869995,327.040009,322.429993,325.140015,323.170013,322.799988,325.450012,331.149994,328.089996,341.119995,348.829987,346.709991,349.26001,350.209991,352.820007,355.51001,361.410004,363.329987,357.799988,356.25,360.910004,362.0,364.109985,383.25,387.51001,386.5,388.5,409.600006,406.369995,409.649994,378.75,389.049988,390.0,387.100006,390.549988,380.0,389.5,390.859985,395.519989,411.100006,413.079987,410.600006,407.799988,395.079987,391.75,344.0,372.359985,363.0,360.140015,353.600006,354.559998,355.649994,356.630005,351.649994,334.019989,328.0,334.019989,334.709991,338.480011,341.73999,349.01001,346.609985,345.820007,344.420013,339.070007,336.25,321.0,321.209991,312.959991,310.929993,329.700012,337.410004,337.649994,344.540009,360.0,360.380005,362.910004,363.540009,367.079987,361.26001,335.829987,341.98999,341.25,343.079987,343.899994,356.23999,366.839996,363.459991,349.570007,351.559998,359.170013,363.170013,360.73999,354.329987,364.48999,370.880005,376.0,373.730011,375.589996,373.829987,374.880005,360.399994,343.0,338.109985,347.089996,325.390015,315.809998,328.899994,326.929993,330.559998,356.5,346.049988,332.200012,320.339996,316.769989,300.730011,305.25,292.299988,275.399994,271.209991,295.049988,296.670013,308.329987,303.73999,305.299988,311.0,316.609985,298.01001,290.630005,289.100006,278.299988,282.160004,281.0,269.149994,250.0,261.51001,256.839996,253.800003,256.140015,263.339996,275.5,283.059998,284.579987,274.720001,267.140015,263.380005,260.609985,262.76001,266.480011,271.850006,265.0,261.079987,263.290009,263.769989,251.880005,241.289993,233.679993,231.229996,240.100006,249.800003,260.0,256.579987,264.429993,278.540009,301.649994,308.01001,313.5,312.5,328.519989,329.130005,347.0,348.109985,346.410004,336.730011,321.029999,318.600006,319.0,328.51001,328.880005,328.149994,330.799988,338.089996,336.5,341.299988,352.899994,347.190002,339.019989,338.0,344.809998,346.519989,350.279999,348.329987,355.5,355.320007,356.700012,353.880005,360.049988,363.790009,359.329987,359.799988,357.709991,354.690002,348.040009,348.25,351.700012,350.5,342.470001,350.029999,353.799988,352.769989,358.100006,358.890015,361.859985,356.799988,357.01001,370.609985,360.040009,357.440002,358.019989,350.369995,349.200012,353.709991,358.51001,362.220001,366.190002,362.399994,364.660004,359.929993,359.0,362.25,360.809998,349.359985,342.269989,352.720001,350.600006,351.640015,359.0,374.709991,373.269989,365.700012,366.23999,369.119995,368.350006,373.170013,374.51001,378.269989,376.0,365.809998,361.359985,352.75,353.059998,343.100006,342.5,341.390015,353.940002,353.790009,345.399994,349.929993,357.299988,347.700012,353.790009,353.649994,345.899994,348.299988,342.920013,332.649994,343.25,348.709991,352.089996,355.690002,349.290009,348.5,343.230011,339.25,336.160004,342.059998,353.75,356.119995,361.220001,365.0,370.200012,358.290009,361.600006,363.200012,364.869995,372.0,370.309998,375.839996,375.559998,375.359985,377.5,362.679993,378.799988,372.790009,362.299988,364.920013,361.75,320.299988,314.230011,305.809998,306.0,307.25,316.299988,327.5,328.769989,323.230011,318.529999,318.73999,311.799988,304.679993,305.299988,296.809998,306.630005,305.679993,303.23999,308.160004,298.01001,288.0,296.269989,304.75,297.679993,296.200012,293.149994,290.320007,292.5,287.200012,287.75,294.98999,290.850006,288.059998,286.51001,282.790009,287.029999,290.600006,282.660004,284.609985,286.600006,290.040009,289.779999,291.790009,287.450012,283.399994,266.0,261.890015,252.279999,253.699997,260.200012,260.390015,262.779999,264.029999,262.190002,257.01001,266.470001,271.279999,270.640015,264.570007,265.029999,282.339996,282.0,279.399994,280.73999,288.299988,273.359985,269.0,265.799988,266.630005,268.799988,270.179993,277.350006,277.549988,283.0,284.779999,283.019989,287.160004,286.309998,285.839996,288.269989,287.51001,288.5,288.700012,281.140015,283.220001,287.570007,293.279999,298.519989,301.0,304.26001,304.410004,305.25,311.690002,312.75,313.339996,303.75,301.880005,303.269989,298.809998,302.600006,302.440002,292.019989,294.200012,295.059998,297.25,298.630005,306.600006,315.600006,324.179993,330.600006,331.019989,331.600006,332.01001,326.01001,322.859985,321.089996,324.779999,325.529999,321.200012,330.299988,331.049988,334.609985,327.269989,331.51001,335.519989,336.600006,335.850006,337.380005,332.589996,323.600006,325.01001,345.880005,341.019989,342.779999,338.549988,339.25,340.980011,346.279999,356.100006,362.299988,362.51001,363.570007,362.519989,369.720001,375.880005,376.51001,379.429993,379.190002,384.899994,376.679993,377.899994,361.0,357.720001,365.0,370.600006,356.799988,364.5,367.399994,370.51001,368.640015,356.850006,341.720001,347.850006,344.790009,307.320007,307.390015,294.75,290.25,300.0,316.820007,332.0,340.880005,353.029999,339.170013,341.730011,353.0,361.170013,366.440002,361.019989,360.059998,357.51001,361.709991,369.339996,368.309998,363.029999,367.700012,394.850006,412.25,431.609985,414.700012,430.559998,425.600006,413.0,419.26001,415.880005,420.839996,402.910004,393.600006,408.0,411.730011,414.869995,421.559998,426.390015,430.660004,433.640015,435.559998,431.359985,427.269989,432.820007,437.51001,443.350006,450.470001,444.0,430.25,427.179993,413.140015,397.859985,411.5,411.850006,415.980011,419.459991,418.049988,410.029999,404.25,406.5,420.309998,430.549988,424.160004,412.450012,415.420013,425.179993,439.220001,442.799988,445.600006,454.209991,464.5,454.0,454.0,442.23999,432.140015,447.0,454.0,475.529999,479.799988,490.829987,493.809998,495.779999,511.279999,520.960022,490.48999,510.179993,504.359985,484.140015,484.200012,488.609985,487.200012,472.019989,467.540009,482.309998,487.76001,484.130005,477.51001,484.5,490.230011,498.649994,501.200012,498.700012,486.679993,478.630005,466.549988,470.179993,476.450012,480.209991,479.100006,482.799988,483.5,483.890015,490.0,483.160004,485.089996,492.079987,521.25,522.0,517.580017,532.450012,537.369995,521.320007,485.980011,495.0,492.570007,478.839996,476.809998,471.299988,481.630005,483.309998,463.269989,458.600006,466.320007,479.26001,469.0,467.820007,468.029999,477.880005,486.529999,489.269989,503.600006,502.700012,501.700012,504.160004,515.820007,524.150024,535.0,538.23999,537.200012,541.0,535.099976,530.030029,525.380005,522.26001,488.25,482.0,481.350006,478.899994,482.929993,483.279999,479.339996,472.209991,475.0,478.76001,493.980011,503.450012,502.51001,467.26001,463.410004,478.26001,480.429993,477.799988,477.299988,478.850006,477.720001,480.470001,481.570007,475.839996,475.890015,478.920013,481.850006,481.269989,491.980011,493.5,496.040009,493.640015,497.769989,505.549988,491.290009,492.910004,494.850006,501.179993,513.559998,517.690002,526.440002,526.02002,521.150024,520.5,514.200012,512.210022,507.130005,515.47998,523.690002,523.150024,515.090027,515.890015,499.5,506.420013,504.51001,497.950012,485.670013,493.01001,499.579987,495.100006,493.540009,556.859985,570.400024,564.349976,548.650024,554.059998,515.72998,530.73999,530.179993,531.72998,538.929993,538.23999,537.51001,545.47998,543.700012,543.0,553.460022,554.219971,550.849976,552.72998,543.030029,538.22998,538.809998,530.789978,518.280029,539.070007,535.75,538.0,542.0,546.02002,517.809998,507.679993,498.790009,492.850006,503.820007,504.25,510.709991,506.589996,508.029999,523.210022,514.299988,503.850006,501.630005,509.130005,529.400024,520.0,497.0,496.679993,504.399994,506.910004,515.440002,527.030029,529.22998,543.299988,541.450012,547.570007,547.109985,549.580017,550.299988,538.530029,542.659973,539.51001,545.530029,546.299988,503.600006,500.549988,500.700012,503.0,504.579987,503.339996,499.0,505.0,505.200012,496.790009,494.630005,491.369995,501.119995,486.109985,478.630005,482.700012,482.709991,486.589996,482.809998,486.190002,478.540009,488.980011,497.26001,499.51001,499.220001,500.5,498.540009,502.529999,497.73999,495.820007,487.25,490.950012,490.549988,489.369995,484.649994,482.140015,487.779999,486.910004,490.399994,486.279999,490.149994,495.23999,492.279999,495.799988,508.200012,514.400024,525.0,524.559998,528.570007,526.820007,525.719971,529.390015,533.0,531.659973,529.090027,528.580017,532.919983,535.76001,541.01001,538.200012,527.049988,522.23999,520.299988,505.609985,507.0,504.660004,509.01001,512.049988,516.97998,513.789978,510.959991,510.51001,505.369995,510.369995,514.02002,519.390015,517.98999,512.969971,509.769989,507.200012,511.51001,512.299988,514.200012,518.650024,521.869995,539.099976,543.73999,549.27002,545.450012,545.900024,549.25,556.450012,561.609985,569.0,583.679993,583.140015,593.98999,595.710022,596.549988,593.669983,582.780029,575.559998,575.369995,577.719971,580.849976,568.080017,569.369995,579.690002,589.130005,583.640015,576.929993,580.159973,588.01001,608.049988,597.51001,594.679993,606.890015,626.359985,630.450012,630.859985,626.780029,621.98999,622.099976,626.789978,625.159973,620.590027,632.299988,617.150024,628.650024,651.809998,657.070007,662.77002,661.849976,668.030029,671.23999,676.539978,673.820007,677.27002,665.5,645.01001,643.789978,650.52002,642.109985,649.710022,653.820007,671.48999,676.900024,686.090027,679.73999,675.0,656.469971,646.049988,651.099976,660.669983,658.289978,640.01001,617.070007,612.880005,594.0,601.0,611.400024,623.200012,610.440002,605.880005,599.52002,588.130005,584.51001,588.0,581.73999,584.26001,593.859985,602.630005,607.570007,609.25,609.690002,604.679993,611.23999,602.049988,590.559998,581.599976,566.880005,542.01001,538.219971,526.320007,530.070007,532.02002,518.26001,511.880005,508.679993,510.51001,506.929993,379.98999,351.459991,365.130005,356.619995,378.100006,372.079987,398.200012,425.540009,426.480011,404.279999,396.640015],\"xaxis\":\"x\",\"y\":[254.259995,265.720001,264.559998,250.100006,249.470001,257.950012,258.269989,266.0,280.269989,278.519989,278.549988,281.040009,278.140015,285.929993,294.160004,290.609985,291.380005,290.390015,301.049988,315.0,325.220001,321.160004,317.0,331.440002,321.299988,315.880005,321.549988,321.089996,318.450012,313.480011,317.5,316.480011,306.700012,300.940002,320.350006,300.690002,285.769989,295.350006,280.290009,283.670013,288.940002,293.970001,288.850006,289.929993,298.070007,303.670013,309.25,311.649994,307.779999,336.059998,334.519989,332.700012,327.769989,318.690002,307.019989,305.76001,313.980011,311.76001,312.459991,313.299988,313.359985,311.690002,320.089996,326.26001,326.890015,330.299988,329.600006,326.459991,328.529999,326.130005,328.190002,325.220001,324.179993,331.820007,331.619995,344.720001,349.290009,351.290009,349.730011,353.540009,351.600006,359.929993,361.809998,365.799988,367.450012,361.399994,360.570007,361.450012,363.829987,379.929993,392.869995,391.980011,390.399994,404.980011,416.76001,415.440002,411.089996,384.480011,399.390015,390.390015,395.420013,391.429993,398.179993,390.519989,398.390015,408.25,418.970001,415.630005,418.649994,413.5,395.799988,400.480011,379.480011,375.130005,364.230011,361.049988,362.660004,357.320007,362.869995,363.089996,355.209991,334.959991,337.450012,338.380005,344.5,343.089996,350.920013,351.829987,347.609985,349.359985,345.869995,341.309998,337.48999,326.399994,322.440002,316.779999,327.730011,338.019989,344.440002,339.170013,358.820007,364.579987,368.48999,368.040009,370.980011,367.679993,363.600006,341.179993,346.459991,348.679993,348.410004,355.929993,369.950012,368.149994,364.559998,350.350006,367.649994,366.959991,365.359985,361.190002,369.609985,369.429993,377.880005,380.709991,374.130005,381.429993,377.140015,377.049988,363.649994,351.350006,349.100006,355.709991,325.890015,321.100006,339.559998,333.130005,346.399994,364.700012,346.709991,332.670013,329.540009,333.160004,301.829987,312.869995,299.829987,284.839996,285.809998,301.779999,317.380005,309.100006,315.440002,310.839996,327.5,317.920013,303.470001,294.070007,294.399994,286.730011,290.059998,286.209991,270.600006,266.980011,262.130005,258.820007,261.429993,266.630005,282.649994,288.75,286.130005,290.299988,275.329987,282.880005,265.140015,269.700012,265.320007,274.880005,276.019989,266.839996,262.799988,270.940002,266.769989,260.579987,246.389999,233.880005,253.669998,255.570007,256.079987,267.660004,267.660004,271.200012,297.570007,315.339996,320.269989,319.959991,324.660004,337.589996,332.940002,354.640015,351.390015,353.190002,339.100006,325.160004,321.98999,326.670013,338.049988,335.660004,328.899994,340.660004,339.5,339.850006,351.339996,355.809998,352.190002,344.709991,347.570007,345.730011,359.970001,351.769989,359.070007,356.869995,361.920013,359.910004,356.970001,363.019989,363.910004,364.970001,362.869995,358.100006,357.320007,351.040009,354.299988,359.609985,352.600006,349.600006,358.859985,356.269989,361.209991,358.820007,361.459991,363.440002,358.779999,375.220001,377.869995,361.01001,366.230011,359.970001,353.369995,354.609985,356.559998,366.959991,367.720001,369.75,367.880005,365.48999,361.410004,364.709991,363.920013,367.649994,351.140015,348.869995,359.459991,354.73999,360.350006,377.339996,381.890015,374.230011,368.329987,374.850006,371.829987,370.540009,378.809998,379.059998,385.029999,378.670013,370.459991,364.369995,362.75,361.040009,345.26001,345.609985,354.98999,359.309998,354.450012,348.109985,354.269989,359.730011,352.209991,354.390015,355.059998,349.190002,351.850006,343.279999,336.630005,353.399994,355.730011,357.130005,360.869995,352.01001,351.269989,345.559998,343.429993,339.730011,350.619995,357.119995,363.519989,365.209991,369.209991,371.040009,360.299988,362.200012,370.019989,367.320007,374.600006,375.429993,381.720001,380.549988,376.160004,379.929993,381.0,379.5,373.25,366.600006,365.98999,362.440002,325.209991,315.100006,310.619995,307.299988,317.940002,326.459991,335.779999,332.700012,325.929993,322.98999,319.5,318.829987,307.630005,310.100006,304.290009,315.899994,308.929993,310.829987,312.279999,299.109985,295.76001,302.799988,309.380005,298.98999,297.809998,296.929993,291.440002,294.980011,291.029999,291.769989,296.779999,293.75,289.290009,291.519989,293.25,290.170013,294.339996,287.98999,288.269989,288.859985,294.149994,294.290009,298.600006,291.559998,286.600006,270.75,265.920013,254.589996,264.75,263.309998,263.079987,267.619995,269.579987,268.029999,268.149994,272.790009,274.459991,270.720001,267.529999,280.480011,282.929993,285.529999,284.25,286.279999,293.350006,275.299988,278.049988,266.690002,271.269989,271.5,276.820007,281.859985,281.209991,291.450012,287.410004,286.809998,292.859985,288.029999,288.589996,289.570007,291.570007,294.179993,292.01001,283.109985,289.619995,295.029999,302.570007,302.600006,305.160004,311.690002,310.480011,315.549988,312.48999,315.929993,314.660004,309.98999,306.160004,304.320007,302.859985,307.350006,302.5,293.119995,298.929993,298.440002,298.5,304.209991,315.480011,320.799988,332.220001,336.899994,333.100006,333.200012,332.630005,329.089996,323.309998,323.570007,329.809998,325.899994,335.829987,330.75,339.26001,335.660004,329.049988,338.920013,338.690002,339.070007,338.619995,339.670013,338.109985,326.0,349.600006,353.160004,342.880005,348.519989,343.160004,347.73999,345.089996,358.0,369.01001,369.670013,366.950012,366.769989,371.070007,373.690002,380.01001,381.399994,380.399994,387.779999,386.190002,386.0,380.070007,368.700012,360.089996,379.23999,371.709991,369.029999,381.049988,368.769989,383.790009,372.779999,368.970001,346.48999,364.130005,349.920013,315.25,336.299988,298.839996,319.75,315.470001,332.029999,332.829987,360.269989,357.320007,342.390015,362.98999,357.119995,370.959991,375.5,364.079987,370.079987,361.76001,379.959991,372.279999,371.119995,370.720001,396.720001,413.549988,426.75,439.170013,422.959991,437.48999,433.829987,421.420013,426.700012,424.98999,421.380005,403.829987,411.890015,419.850006,415.269989,428.149994,424.679993,434.26001,436.529999,435.549988,440.519989,431.820007,438.269989,441.950012,454.190002,452.579987,451.040009,447.670013,436.25,429.320007,414.769989,419.890015,413.440002,419.730011,425.920013,427.309998,421.970001,414.329987,419.600006,419.48999,434.049988,434.480011,425.559998,418.070007,425.5,436.130005,447.769989,449.869995,453.720001,468.040009,466.26001,457.850006,465.910004,443.399994,447.23999,455.040009,485.640015,476.890015,493.809998,493.160004,502.779999,507.76001,548.72998,525.5,524.880005,523.26001,527.390015,492.98999,502.410004,490.100006,489.820007,477.579987,480.450012,495.649994,488.51001,484.480011,485.799988,488.880005,498.619995,509.640015,502.109985,509.079987,494.730011,483.380005,466.929993,475.470001,481.329987,482.679993,482.350006,491.869995,484.529999,497.899994,492.309998,488.809998,490.579987,547.530029,526.27002,523.890015,529.559998,556.549988,552.840027,525.75,516.049988,507.019989,500.190002,480.670013,482.029999,476.26001,495.98999,483.859985,470.200012,469.959991,487.350006,491.170013,470.609985,473.079987,482.880005,490.649994,493.480011,500.029999,527.51001,503.059998,520.650024,505.869995,534.659973,531.789978,539.440002,539.809998,554.090027,541.450012,541.940002,530.789978,530.719971,525.419983,489.049988,485.230011,488.279999,488.23999,488.929993,486.23999,504.209991,475.73999,484.119995,487.220001,496.950012,513.76001,514.72998,470.5,480.23999,490.76001,486.769989,482.839996,479.100006,480.630005,481.790009,484.670013,488.23999,476.619995,482.880005,485.0,491.359985,490.700012,504.579987,503.380005,497.519989,498.309998,515.780029,512.659973,493.600006,501.089996,503.220001,522.419983,519.780029,524.830017,532.900024,534.450012,528.909973,527.330017,514.47998,513.969971,519.119995,530.869995,524.590027,540.72998,522.859985,520.799988,500.48999,508.890015,510.399994,499.100006,494.25,507.790009,500.859985,497.980011,501.769989,586.340027,579.840027,565.169983,556.780029,561.929993,523.280029,538.599976,532.390015,539.039978,548.159973,539.450012,552.159973,550.789978,547.919983,559.070007,563.590027,557.590027,556.52002,557.280029,551.340027,548.219971,540.219971,533.780029,546.150024,553.409973,546.700012,538.849976,550.640015,547.820007,520.700012,511.290009,516.390015,493.329987,506.440002,504.540009,523.059998,518.02002,520.25,524.030029,524.440002,504.790009,512.179993,523.109985,535.090027,520.809998,502.859985,508.049988,513.950012,513.390015,521.659973,539.419983,540.669983,544.530029,546.98999,554.580017,555.309998,552.780029,553.72998,540.02002,549.219971,546.539978,554.440002,549.570007,508.899994,508.779999,505.549988,510.299988,505.549988,506.519989,509.0,513.469971,509.109985,503.179993,496.079987,499.549988,503.839996,486.690002,495.079987,484.980011,486.660004,493.369995,488.940002,486.279999,487.700012,501.670013,497.890015,502.899994,501.339996,502.359985,503.859985,502.809998,499.079987,499.23999,489.429993,494.73999,494.660004,492.390015,485.809998,487.269989,488.769989,499.890015,491.899994,492.410004,498.339996,500.769989,497.0,508.820007,512.73999,518.059998,527.070007,533.030029,533.5,528.210022,533.539978,533.97998,541.640015,535.960022,530.76001,535.97998,537.309998,540.679993,547.950012,542.950012,530.309998,532.280029,531.049988,513.630005,511.769989,515.409973,516.48999,518.909973,519.299988,514.25,517.570007,515.150024,510.820007,517.349976,524.890015,520.549988,519.969971,515.840027,512.400024,510.720001,515.919983,517.919983,518.909973,521.869995,543.710022,546.880005,553.330017,553.409973,547.580017,550.119995,558.919983,566.179993,569.190002,582.070007,588.549988,590.530029,606.710022,606.049988,597.539978,598.719971,589.289978,577.76001,582.869995,586.5,589.349976,575.429993,573.140015,590.650024,593.26001,592.390015,592.640015,583.849976,599.059998,610.340027,613.150024,603.349976,634.809998,639.099976,631.849976,632.659973,627.039978,624.940002,629.76001,633.799988,628.289978,637.969971,639.0,625.140015,653.159973,664.780029,671.659973,668.52002,662.919983,674.049988,690.309998,681.169983,677.719971,688.289978,668.400024,645.719971,651.450012,655.98999,646.909973,657.580017,682.609985,679.330017,687.400024,691.690002,682.02002,678.799988,659.200012,654.059998,658.289978,665.640015,663.840027,641.900024,617.77002,616.469971,602.130005,612.690002,625.580017,628.080017,611.0,611.659973,604.559998,597.98999,605.039978,591.059998,586.72998,593.73999,604.919983,614.23999,614.090027,613.119995,610.710022,610.539978,612.090027,602.440002,597.369995,591.150024,567.52002,553.289978,541.059998,539.849976,540.840027,537.219971,519.200012,525.690002,510.799988,515.859985,508.25,397.5,387.149994,366.420013,359.700012,386.700012,384.359985,427.140015,457.130005,429.480011,405.600006,410.170013],\"yaxis\":\"y\",\"type\":\"scattergl\"}],                        {\"template\":{\"data\":{\"histogram2dcontour\":[{\"type\":\"histogram2dcontour\",\"colorbar\":{\"outlinewidth\":0,\"ticks\":\"\"},\"colorscale\":[[0.0,\"#0d0887\"],[0.1111111111111111,\"#46039f\"],[0.2222222222222222,\"#7201a8\"],[0.3333333333333333,\"#9c179e\"],[0.4444444444444444,\"#bd3786\"],[0.5555555555555556,\"#d8576b\"],[0.6666666666666666,\"#ed7953\"],[0.7777777777777778,\"#fb9f3a\"],[0.8888888888888888,\"#fdca26\"],[1.0,\"#f0f921\"]]}],\"choropleth\":[{\"type\":\"choropleth\",\"colorbar\":{\"outlinewidth\":0,\"ticks\":\"\"}}],\"histogram2d\":[{\"type\":\"histogram2d\",\"colorbar\":{\"outlinewidth\":0,\"ticks\":\"\"},\"colorscale\":[[0.0,\"#0d0887\"],[0.1111111111111111,\"#46039f\"],[0.2222222222222222,\"#7201a8\"],[0.3333333333333333,\"#9c179e\"],[0.4444444444444444,\"#bd3786\"],[0.5555555555555556,\"#d8576b\"],[0.6666666666666666,\"#ed7953\"],[0.7777777777777778,\"#fb9f3a\"],[0.8888888888888888,\"#fdca26\"],[1.0,\"#f0f921\"]]}],\"heatmap\":[{\"type\":\"heatmap\",\"colorbar\":{\"outlinewidth\":0,\"ticks\":\"\"},\"colorscale\":[[0.0,\"#0d0887\"],[0.1111111111111111,\"#46039f\"],[0.2222222222222222,\"#7201a8\"],[0.3333333333333333,\"#9c179e\"],[0.4444444444444444,\"#bd3786\"],[0.5555555555555556,\"#d8576b\"],[0.6666666666666666,\"#ed7953\"],[0.7777777777777778,\"#fb9f3a\"],[0.8888888888888888,\"#fdca26\"],[1.0,\"#f0f921\"]]}],\"heatmapgl\":[{\"type\":\"heatmapgl\",\"colorbar\":{\"outlinewidth\":0,\"ticks\":\"\"},\"colorscale\":[[0.0,\"#0d0887\"],[0.1111111111111111,\"#46039f\"],[0.2222222222222222,\"#7201a8\"],[0.3333333333333333,\"#9c179e\"],[0.4444444444444444,\"#bd3786\"],[0.5555555555555556,\"#d8576b\"],[0.6666666666666666,\"#ed7953\"],[0.7777777777777778,\"#fb9f3a\"],[0.8888888888888888,\"#fdca26\"],[1.0,\"#f0f921\"]]}],\"contourcarpet\":[{\"type\":\"contourcarpet\",\"colorbar\":{\"outlinewidth\":0,\"ticks\":\"\"}}],\"contour\":[{\"type\":\"contour\",\"colorbar\":{\"outlinewidth\":0,\"ticks\":\"\"},\"colorscale\":[[0.0,\"#0d0887\"],[0.1111111111111111,\"#46039f\"],[0.2222222222222222,\"#7201a8\"],[0.3333333333333333,\"#9c179e\"],[0.4444444444444444,\"#bd3786\"],[0.5555555555555556,\"#d8576b\"],[0.6666666666666666,\"#ed7953\"],[0.7777777777777778,\"#fb9f3a\"],[0.8888888888888888,\"#fdca26\"],[1.0,\"#f0f921\"]]}],\"surface\":[{\"type\":\"surface\",\"colorbar\":{\"outlinewidth\":0,\"ticks\":\"\"},\"colorscale\":[[0.0,\"#0d0887\"],[0.1111111111111111,\"#46039f\"],[0.2222222222222222,\"#7201a8\"],[0.3333333333333333,\"#9c179e\"],[0.4444444444444444,\"#bd3786\"],[0.5555555555555556,\"#d8576b\"],[0.6666666666666666,\"#ed7953\"],[0.7777777777777778,\"#fb9f3a\"],[0.8888888888888888,\"#fdca26\"],[1.0,\"#f0f921\"]]}],\"mesh3d\":[{\"type\":\"mesh3d\",\"colorbar\":{\"outlinewidth\":0,\"ticks\":\"\"}}],\"scatter\":[{\"fillpattern\":{\"fillmode\":\"overlay\",\"size\":10,\"solidity\":0.2},\"type\":\"scatter\"}],\"parcoords\":[{\"type\":\"parcoords\",\"line\":{\"colorbar\":{\"outlinewidth\":0,\"ticks\":\"\"}}}],\"scatterpolargl\":[{\"type\":\"scatterpolargl\",\"marker\":{\"colorbar\":{\"outlinewidth\":0,\"ticks\":\"\"}}}],\"bar\":[{\"error_x\":{\"color\":\"#2a3f5f\"},\"error_y\":{\"color\":\"#2a3f5f\"},\"marker\":{\"line\":{\"color\":\"#E5ECF6\",\"width\":0.5},\"pattern\":{\"fillmode\":\"overlay\",\"size\":10,\"solidity\":0.2}},\"type\":\"bar\"}],\"scattergeo\":[{\"type\":\"scattergeo\",\"marker\":{\"colorbar\":{\"outlinewidth\":0,\"ticks\":\"\"}}}],\"scatterpolar\":[{\"type\":\"scatterpolar\",\"marker\":{\"colorbar\":{\"outlinewidth\":0,\"ticks\":\"\"}}}],\"histogram\":[{\"marker\":{\"pattern\":{\"fillmode\":\"overlay\",\"size\":10,\"solidity\":0.2}},\"type\":\"histogram\"}],\"scattergl\":[{\"type\":\"scattergl\",\"marker\":{\"colorbar\":{\"outlinewidth\":0,\"ticks\":\"\"}}}],\"scatter3d\":[{\"type\":\"scatter3d\",\"line\":{\"colorbar\":{\"outlinewidth\":0,\"ticks\":\"\"}},\"marker\":{\"colorbar\":{\"outlinewidth\":0,\"ticks\":\"\"}}}],\"scattermapbox\":[{\"type\":\"scattermapbox\",\"marker\":{\"colorbar\":{\"outlinewidth\":0,\"ticks\":\"\"}}}],\"scatterternary\":[{\"type\":\"scatterternary\",\"marker\":{\"colorbar\":{\"outlinewidth\":0,\"ticks\":\"\"}}}],\"scattercarpet\":[{\"type\":\"scattercarpet\",\"marker\":{\"colorbar\":{\"outlinewidth\":0,\"ticks\":\"\"}}}],\"carpet\":[{\"aaxis\":{\"endlinecolor\":\"#2a3f5f\",\"gridcolor\":\"white\",\"linecolor\":\"white\",\"minorgridcolor\":\"white\",\"startlinecolor\":\"#2a3f5f\"},\"baxis\":{\"endlinecolor\":\"#2a3f5f\",\"gridcolor\":\"white\",\"linecolor\":\"white\",\"minorgridcolor\":\"white\",\"startlinecolor\":\"#2a3f5f\"},\"type\":\"carpet\"}],\"table\":[{\"cells\":{\"fill\":{\"color\":\"#EBF0F8\"},\"line\":{\"color\":\"white\"}},\"header\":{\"fill\":{\"color\":\"#C8D4E3\"},\"line\":{\"color\":\"white\"}},\"type\":\"table\"}],\"barpolar\":[{\"marker\":{\"line\":{\"color\":\"#E5ECF6\",\"width\":0.5},\"pattern\":{\"fillmode\":\"overlay\",\"size\":10,\"solidity\":0.2}},\"type\":\"barpolar\"}],\"pie\":[{\"automargin\":true,\"type\":\"pie\"}]},\"layout\":{\"autotypenumbers\":\"strict\",\"colorway\":[\"#636efa\",\"#EF553B\",\"#00cc96\",\"#ab63fa\",\"#FFA15A\",\"#19d3f3\",\"#FF6692\",\"#B6E880\",\"#FF97FF\",\"#FECB52\"],\"font\":{\"color\":\"#2a3f5f\"},\"hovermode\":\"closest\",\"hoverlabel\":{\"align\":\"left\"},\"paper_bgcolor\":\"white\",\"plot_bgcolor\":\"#E5ECF6\",\"polar\":{\"bgcolor\":\"#E5ECF6\",\"angularaxis\":{\"gridcolor\":\"white\",\"linecolor\":\"white\",\"ticks\":\"\"},\"radialaxis\":{\"gridcolor\":\"white\",\"linecolor\":\"white\",\"ticks\":\"\"}},\"ternary\":{\"bgcolor\":\"#E5ECF6\",\"aaxis\":{\"gridcolor\":\"white\",\"linecolor\":\"white\",\"ticks\":\"\"},\"baxis\":{\"gridcolor\":\"white\",\"linecolor\":\"white\",\"ticks\":\"\"},\"caxis\":{\"gridcolor\":\"white\",\"linecolor\":\"white\",\"ticks\":\"\"}},\"coloraxis\":{\"colorbar\":{\"outlinewidth\":0,\"ticks\":\"\"}},\"colorscale\":{\"sequential\":[[0.0,\"#0d0887\"],[0.1111111111111111,\"#46039f\"],[0.2222222222222222,\"#7201a8\"],[0.3333333333333333,\"#9c179e\"],[0.4444444444444444,\"#bd3786\"],[0.5555555555555556,\"#d8576b\"],[0.6666666666666666,\"#ed7953\"],[0.7777777777777778,\"#fb9f3a\"],[0.8888888888888888,\"#fdca26\"],[1.0,\"#f0f921\"]],\"sequentialminus\":[[0.0,\"#0d0887\"],[0.1111111111111111,\"#46039f\"],[0.2222222222222222,\"#7201a8\"],[0.3333333333333333,\"#9c179e\"],[0.4444444444444444,\"#bd3786\"],[0.5555555555555556,\"#d8576b\"],[0.6666666666666666,\"#ed7953\"],[0.7777777777777778,\"#fb9f3a\"],[0.8888888888888888,\"#fdca26\"],[1.0,\"#f0f921\"]],\"diverging\":[[0,\"#8e0152\"],[0.1,\"#c51b7d\"],[0.2,\"#de77ae\"],[0.3,\"#f1b6da\"],[0.4,\"#fde0ef\"],[0.5,\"#f7f7f7\"],[0.6,\"#e6f5d0\"],[0.7,\"#b8e186\"],[0.8,\"#7fbc41\"],[0.9,\"#4d9221\"],[1,\"#276419\"]]},\"xaxis\":{\"gridcolor\":\"white\",\"linecolor\":\"white\",\"ticks\":\"\",\"title\":{\"standoff\":15},\"zerolinecolor\":\"white\",\"automargin\":true,\"zerolinewidth\":2},\"yaxis\":{\"gridcolor\":\"white\",\"linecolor\":\"white\",\"ticks\":\"\",\"title\":{\"standoff\":15},\"zerolinecolor\":\"white\",\"automargin\":true,\"zerolinewidth\":2},\"scene\":{\"xaxis\":{\"backgroundcolor\":\"#E5ECF6\",\"gridcolor\":\"white\",\"linecolor\":\"white\",\"showbackground\":true,\"ticks\":\"\",\"zerolinecolor\":\"white\",\"gridwidth\":2},\"yaxis\":{\"backgroundcolor\":\"#E5ECF6\",\"gridcolor\":\"white\",\"linecolor\":\"white\",\"showbackground\":true,\"ticks\":\"\",\"zerolinecolor\":\"white\",\"gridwidth\":2},\"zaxis\":{\"backgroundcolor\":\"#E5ECF6\",\"gridcolor\":\"white\",\"linecolor\":\"white\",\"showbackground\":true,\"ticks\":\"\",\"zerolinecolor\":\"white\",\"gridwidth\":2}},\"shapedefaults\":{\"line\":{\"color\":\"#2a3f5f\"}},\"annotationdefaults\":{\"arrowcolor\":\"#2a3f5f\",\"arrowhead\":0,\"arrowwidth\":1},\"geo\":{\"bgcolor\":\"white\",\"landcolor\":\"#E5ECF6\",\"subunitcolor\":\"white\",\"showland\":true,\"showlakes\":true,\"lakecolor\":\"white\"},\"title\":{\"x\":0.05},\"mapbox\":{\"style\":\"light\"}}},\"xaxis\":{\"anchor\":\"y\",\"domain\":[0.0,1.0],\"title\":{\"text\":\"Low\"}},\"yaxis\":{\"anchor\":\"x\",\"domain\":[0.0,1.0],\"title\":{\"text\":\"Close\"}},\"legend\":{\"tracegroupgap\":0},\"title\":{\"text\":\"Low VS Close\"}},                        {\"responsive\": true}                    ).then(function(){\n",
              "                            \n",
              "var gd = document.getElementById('dfcd6972-e627-495e-ab63-407c98c9c723');\n",
              "var x = new MutationObserver(function (mutations, observer) {{\n",
              "        var display = window.getComputedStyle(gd).display;\n",
              "        if (!display || display === 'none') {{\n",
              "            console.log([gd, 'removed!']);\n",
              "            Plotly.purge(gd);\n",
              "            observer.disconnect();\n",
              "        }}\n",
              "}});\n",
              "\n",
              "// Listen for the removal of the full notebook cells\n",
              "var notebookContainer = gd.closest('#notebook-container');\n",
              "if (notebookContainer) {{\n",
              "    x.observe(notebookContainer, {childList: true});\n",
              "}}\n",
              "\n",
              "// Listen for the clearing of the current output cell\n",
              "var outputEl = gd.closest('.output');\n",
              "if (outputEl) {{\n",
              "    x.observe(outputEl, {childList: true});\n",
              "}}\n",
              "\n",
              "                        })                };                            </script>        </div>\n",
              "</body>\n",
              "</html>"
            ]
          },
          "metadata": {}
        }
      ]
    },
    {
      "cell_type": "code",
      "source": [
        "fig = px.scatter(viz,\n",
        "                 x='Volume',\n",
        "                 y='Close',\n",
        "                 opacity=0.8,\n",
        "\n",
        "                 title='Volume VS Close')\n",
        "fig.update_traces(marker_size=5)\n",
        "fig.show()"
      ],
      "metadata": {
        "colab": {
          "base_uri": "https://localhost:8080/",
          "height": 542
        },
        "id": "2FG1gkVxQtDk",
        "outputId": "b8377503-f54c-409d-a36b-6b71438cd1a5"
      },
      "execution_count": null,
      "outputs": [
        {
          "output_type": "display_data",
          "data": {
            "text/html": [
              "<html>\n",
              "<head><meta charset=\"utf-8\" /></head>\n",
              "<body>\n",
              "    <div>            <script src=\"https://cdnjs.cloudflare.com/ajax/libs/mathjax/2.7.5/MathJax.js?config=TeX-AMS-MML_SVG\"></script><script type=\"text/javascript\">if (window.MathJax && window.MathJax.Hub && window.MathJax.Hub.Config) {window.MathJax.Hub.Config({SVG: {font: \"STIX-Web\"}});}</script>                <script type=\"text/javascript\">window.PlotlyConfig = {MathJaxConfig: 'local'};</script>\n",
              "        <script charset=\"utf-8\" src=\"https://cdn.plot.ly/plotly-2.24.1.min.js\"></script>                <div id=\"51a129a2-e305-41fc-a934-f111b6060c81\" class=\"plotly-graph-div\" style=\"height:525px; width:100%;\"></div>            <script type=\"text/javascript\">                                    window.PLOTLYENV=window.PLOTLYENV || {};                                    if (document.getElementById(\"51a129a2-e305-41fc-a934-f111b6060c81\")) {                    Plotly.newPlot(                        \"51a129a2-e305-41fc-a934-f111b6060c81\",                        [{\"hovertemplate\":\"Volume=%{x}\\u003cbr\\u003eClose=%{y}\\u003cextra\\u003e\\u003c\\u002fextra\\u003e\",\"legendgroup\":\"\",\"marker\":{\"color\":\"#636efa\",\"opacity\":0.8,\"symbol\":\"circle\",\"size\":5},\"mode\":\"markers\",\"name\":\"\",\"showlegend\":false,\"x\":[11896100,12595800,8981500,9306700,16906900,8534900,6855200,10972000,10759700,8312400,7769000,9371100,8891500,7301800,10268600,9416500,7653500,11932100,13345300,18986100,18525800,17132200,11340100,14500200,20369200,12917200,10475100,5642900,7333700,9925200,5991900,5263900,8063300,9529900,11988300,12068600,18972900,19145500,13405800,12694900,12914000,10655200,11444800,9853600,10660500,14877400,10249400,12046600,20307900,33866500,11221100,8438800,9158700,8968000,13893200,14919700,9266700,7074400,6088800,6036600,5697100,6135800,8209500,7117800,4735700,5633400,5302300,4589700,4089800,4746100,3671700,4935700,3577700,6657300,5964400,10049100,14758600,7817400,9717900,5685500,6921700,7112300,7682000,8358000,7712300,8278000,5225700,4432400,4291000,18222800,14598300,13588100,6824800,16697100,16494600,18389900,10428600,22490900,15191200,16541400,12219900,9252500,8142500,5280300,8448900,8629600,11127500,9382900,9713900,12743300,15719000,22960000,58410400,21746300,16878700,15096700,11505200,12851500,8467800,6993700,8949500,18260700,14085400,7790500,7131300,8848400,8198100,7970900,5394700,4820300,4328400,6888900,5805200,11784500,6689700,10407900,13591100,14783200,8930700,11336400,14729100,17427300,9222600,8118700,10981000,7943400,7605200,13092800,13050200,9105800,5752200,6198100,10480800,8366100,4756400,7071900,10414000,11876800,6768100,11930600,9322500,6799800,13799700,7326200,7114900,8376600,8638700,5798600,9074400,13523000,12375500,8755000,17183100,16082100,14870800,11215000,20156400,32610900,18461000,16717200,17097200,14907300,19039300,13346900,19616000,21698800,23685700,20360300,15121500,13404600,10283000,9710400,13328300,11023900,13480800,10924800,12232200,16853600,9967100,9099500,12993800,16693800,11023000,5245100,12498600,11149500,14801300,15431500,11860100,14117400,12800600,13074300,12466700,9605600,9843200,11456700,8379300,9915300,9634700,10350100,13788400,16792900,21397600,9547600,14402700,12235200,10992800,13508900,11679500,14969600,19330100,18620100,15359200,13343200,13472500,19500400,10499600,21181200,15385500,18871200,26621000,17941400,13480100,11131600,11152900,8652100,7655200,9234500,8535500,9827800,9051400,9046600,6717700,7864500,7561400,5454900,10429400,10559100,9295300,9230000,7396600,8110700,6227900,7088200,7569300,4944600,5629900,6186800,5526500,7487000,5937800,6211900,6151300,6898800,5387300,5164600,6444100,5271400,8444500,7194700,7541400,10917200,8544000,8661300,8473800,7666500,7852400,4361000,4705600,7036100,5158700,5368900,4627300,3905500,4653800,5439200,4545600,6526900,15646200,8842300,18740200,18054100,8353200,11980500,10089800,6541900,6255500,5621900,3821700,3870100,9257300,5398200,5130300,5793100,6974900,6572000,5882600,5657100,8026700,5353000,6340100,6441500,4725400,4621500,4026400,6229400,5630400,3831000,4717100,5658900,4008000,5023400,7849600,7891600,5020100,3710000,4777300,7810300,5396700,4584700,6209300,5019000,5358200,5428500,5667200,5899500,7448400,4830200,5750400,3669700,4138600,4592700,4992600,3625000,3799000,3732200,3113400,6932800,5878800,4336300,6636900,7944700,5863200,13639500,31287100,16302500,17718000,9171100,11961800,10798500,10847500,5782800,6029300,6259500,6563200,6280300,8692500,6179100,9322400,5905900,5349100,6531700,5289400,7355800,9629200,6905800,4942200,7349900,5685400,4974200,6324900,4695700,6309400,3955700,4388500,4446400,3682800,4652500,8966800,5166600,8232700,12320200,7405900,5010900,6583100,5307400,4777100,7811100,8461300,23832800,13478600,16338200,11643800,7684000,7328300,6727200,8650300,7659100,8951000,9890400,6525600,6276400,6794400,10809100,8786100,5513200,7685600,16175900,38258900,23429900,12599200,11802400,7133500,4827400,4747800,6248400,4356200,9345600,5090000,5594300,5566200,4062400,3438300,5928500,4509000,3944300,5772800,9158900,6529000,6333800,8616600,5918000,5111800,7488400,5970100,7873900,5321000,4096900,2411700,6218800,4992800,3512100,4615500,4457800,5748400,10476100,5589800,4766600,3879700,4658900,10427100,11207400,9822300,9914900,5765300,2019300,3589900,5036100,4311500,3713300,4485800,3806900,5663100,4703200,7104500,4709300,4718300,6290000,7199400,5158000,5016000,6066500,14350300,21730000,18200300,17939700,7709500,6821600,7643500,5328100,5230000,6670600,7161500,6437000,3920400,4385200,5294100,4772900,4624800,4485400,3736300,5173900,4896400,4079400,3930100,6936400,6481200,8934100,10967700,11168600,6997900,8364600,5487300,8747000,8147200,7405500,7604400,6036000,12071600,9458200,10559900,10013900,12593600,10616000,10853800,13449400,11638700,8767200,7229600,7948800,8622000,9366500,6672500,4592500,4860800,8183900,7046400,6908900,7711300,11692900,11581000,13561200,16128700,12616300,12655800,23177600,21084800,13952300,8658900,6277500,10101200,9693100,7954000,8299900,7799100,6286300,6660700,5641900,5049300,5486000,4598200,7014600,9007500,7244000,7773500,4810500,5607300,9117300,5422300,7881100,10446300,5655100,5254900,3743700,3494800,4316000,5410500,5099600,5851500,6797000,4896900,7462900,6461100,4467900,5507900,6529600,4277600,5934500,6272100,5948400,4826200,4134500,6804700,4844000,4198500,9705900,6351500,7839000,5669900,5691700,5840500,21605600,18399000,15083300,10066700,24499000,24991400,11940300,9113700,6954100,7722000,7746200,7863100,5986700,6611800,6608600,5916300,5873100,5608000,4308200,3725900,5910300,4691200,7329200,5439200,3008900,2943500,2423500,3505500,3156200,5132500,3921300,4762200,5727700,20373700,9062900,4417500,4941400,9572700,5886900,9071100,8270100,5572700,6848100,6240200,5035200,7359100,5337000,4394900,5379300,6717700,5457500,3482300,3726400,3727200,3769400,4773500,3541500,4634100,8153700,6071200,4088100,4199000,7988700,5386500,4781300,5391100,5602500,9499000,5113100,6347400,7567500,10047200,17405700,6997900,4927900,6186100,3627200,5992700,11120700,7807900,4408200,3690200,5137300,5372800,4236300,10419700,8306100,5460500,5063700,3002700,3953600,3698100,3629200,2254700,4253400,5416600,3550500,3598600,2805800,3530900,5052700,3028400,2826100,3666200,4289300,4229000,4178800,3018200,3210900,5770400,3394900,3682400,3193400,4502700,3894000,1906600,2393200,1144000,2891900,4022400,1876300,5392300,4444400,3133900,5346200,3686400,2973900,3806200,5990400,5032100,4177400,5895800,12315800,32637500,11802100,7550800,7207300,5023800,8670300,5969000,4325300,3547500,3767600,3172300,5164500,2376200,2791700,3703500,3991300,2730600,2197100,2624100,2069600,2456200,2841500,3078600,4136500,3245000,4252900,3755600,3041400,3042200,5362400,5034800,5070000,3981800,3470000,3771500,4714500,3981700,3484300,3238900,2817400,4094500,4386400,3360600,5583500,4102200,4926800,3467800,3330000,2418100,3503100,3938600,3355900,3474200,2151300,4309800,2894000,2944100,2720300,3740300,3139100,3209100,4288700,11257600,22897400,9061100,7307700,4388800,3761300,3193000,5127800,4413200,4091900,4349500,3129400,3783700,3132800,5131600,4401000,4121500,2712500,2882500,2705200,2350500,3349900,3721200,3322900,2412600,2699500,2465300,3253800,2910300,2482600,2269000,3887400,3160500,2791900,2374000,3055000,4382900,3124000,4400200,3104100,3533200,3198300,5197600,5277300,5809300,3944800,3361200,5299100,2820200,2314600,2773400,2805400,1975500,2775100,2722500,3269000,2777200,1780700,2751600,4659500,5713900,3442100,3885800,6930400,11906800,4328100,3820500,2254500,2759000,2390500,1736000,2534900,2096600,2579400,2039400,2556700,1919400,1367800,1960500,1673900,1685700,2176300,2032800,2309800,2582000,7497300,3774300,2602000,2109500,2065600,1595500,3251100,2434800,2431900,5626200,6179900,2681200,5821400,5424500,2954200,3948000,3062900,3457000,2755600,1832000,4145100,3732200,2250900,4021800,2526200,2126200,2504700,4431100,6221000,6612600,4090800,4995900,9534300,4580400,3556900,3271100,2862500,3227300,2420300,2671700,4114400,4669100,7633100,10622000,8437100,6186000,3833500,2904800,2276900,2859400,3817500,3110900,3888600,2334900,4865000,5277400,2887500,2415600,2405800,2868300,4192700,2872200,2077400,2732800,2012900,2613700,2764400,2320200,1867300,2872500,2529400,5608900,3882800,3331100,4825200,3075700,3125200,2220300,2376300,2747900,2517900,2984500,2866200,3143200,4386900,3358400,2319400,2335700,1621100,2061500,1882800,1287200,1625100,1995900,3067500,4393100,4148700,5711800,3381700,4486100,3077800,3787400,4475100,7849400,4839100,4353500,12659000,58904300,32346000,15145800,12684000,24324700,11966600,20047500,22542300,14346000,9905200,7782400],\"xaxis\":\"x\",\"y\":[254.259995,265.720001,264.559998,250.100006,249.470001,257.950012,258.269989,266.0,280.269989,278.519989,278.549988,281.040009,278.140015,285.929993,294.160004,290.609985,291.380005,290.390015,301.049988,315.0,325.220001,321.160004,317.0,331.440002,321.299988,315.880005,321.549988,321.089996,318.450012,313.480011,317.5,316.480011,306.700012,300.940002,320.350006,300.690002,285.769989,295.350006,280.290009,283.670013,288.940002,293.970001,288.850006,289.929993,298.070007,303.670013,309.25,311.649994,307.779999,336.059998,334.519989,332.700012,327.769989,318.690002,307.019989,305.76001,313.980011,311.76001,312.459991,313.299988,313.359985,311.690002,320.089996,326.26001,326.890015,330.299988,329.600006,326.459991,328.529999,326.130005,328.190002,325.220001,324.179993,331.820007,331.619995,344.720001,349.290009,351.290009,349.730011,353.540009,351.600006,359.929993,361.809998,365.799988,367.450012,361.399994,360.570007,361.450012,363.829987,379.929993,392.869995,391.980011,390.399994,404.980011,416.76001,415.440002,411.089996,384.480011,399.390015,390.390015,395.420013,391.429993,398.179993,390.519989,398.390015,408.25,418.970001,415.630005,418.649994,413.5,395.799988,400.480011,379.480011,375.130005,364.230011,361.049988,362.660004,357.320007,362.869995,363.089996,355.209991,334.959991,337.450012,338.380005,344.5,343.089996,350.920013,351.829987,347.609985,349.359985,345.869995,341.309998,337.48999,326.399994,322.440002,316.779999,327.730011,338.019989,344.440002,339.170013,358.820007,364.579987,368.48999,368.040009,370.980011,367.679993,363.600006,341.179993,346.459991,348.679993,348.410004,355.929993,369.950012,368.149994,364.559998,350.350006,367.649994,366.959991,365.359985,361.190002,369.609985,369.429993,377.880005,380.709991,374.130005,381.429993,377.140015,377.049988,363.649994,351.350006,349.100006,355.709991,325.890015,321.100006,339.559998,333.130005,346.399994,364.700012,346.709991,332.670013,329.540009,333.160004,301.829987,312.869995,299.829987,284.839996,285.809998,301.779999,317.380005,309.100006,315.440002,310.839996,327.5,317.920013,303.470001,294.070007,294.399994,286.730011,290.059998,286.209991,270.600006,266.980011,262.130005,258.820007,261.429993,266.630005,282.649994,288.75,286.130005,290.299988,275.329987,282.880005,265.140015,269.700012,265.320007,274.880005,276.019989,266.839996,262.799988,270.940002,266.769989,260.579987,246.389999,233.880005,253.669998,255.570007,256.079987,267.660004,267.660004,271.200012,297.570007,315.339996,320.269989,319.959991,324.660004,337.589996,332.940002,354.640015,351.390015,353.190002,339.100006,325.160004,321.98999,326.670013,338.049988,335.660004,328.899994,340.660004,339.5,339.850006,351.339996,355.809998,352.190002,344.709991,347.570007,345.730011,359.970001,351.769989,359.070007,356.869995,361.920013,359.910004,356.970001,363.019989,363.910004,364.970001,362.869995,358.100006,357.320007,351.040009,354.299988,359.609985,352.600006,349.600006,358.859985,356.269989,361.209991,358.820007,361.459991,363.440002,358.779999,375.220001,377.869995,361.01001,366.230011,359.970001,353.369995,354.609985,356.559998,366.959991,367.720001,369.75,367.880005,365.48999,361.410004,364.709991,363.920013,367.649994,351.140015,348.869995,359.459991,354.73999,360.350006,377.339996,381.890015,374.230011,368.329987,374.850006,371.829987,370.540009,378.809998,379.059998,385.029999,378.670013,370.459991,364.369995,362.75,361.040009,345.26001,345.609985,354.98999,359.309998,354.450012,348.109985,354.269989,359.730011,352.209991,354.390015,355.059998,349.190002,351.850006,343.279999,336.630005,353.399994,355.730011,357.130005,360.869995,352.01001,351.269989,345.559998,343.429993,339.730011,350.619995,357.119995,363.519989,365.209991,369.209991,371.040009,360.299988,362.200012,370.019989,367.320007,374.600006,375.429993,381.720001,380.549988,376.160004,379.929993,381.0,379.5,373.25,366.600006,365.98999,362.440002,325.209991,315.100006,310.619995,307.299988,317.940002,326.459991,335.779999,332.700012,325.929993,322.98999,319.5,318.829987,307.630005,310.100006,304.290009,315.899994,308.929993,310.829987,312.279999,299.109985,295.76001,302.799988,309.380005,298.98999,297.809998,296.929993,291.440002,294.980011,291.029999,291.769989,296.779999,293.75,289.290009,291.519989,293.25,290.170013,294.339996,287.98999,288.269989,288.859985,294.149994,294.290009,298.600006,291.559998,286.600006,270.75,265.920013,254.589996,264.75,263.309998,263.079987,267.619995,269.579987,268.029999,268.149994,272.790009,274.459991,270.720001,267.529999,280.480011,282.929993,285.529999,284.25,286.279999,293.350006,275.299988,278.049988,266.690002,271.269989,271.5,276.820007,281.859985,281.209991,291.450012,287.410004,286.809998,292.859985,288.029999,288.589996,289.570007,291.570007,294.179993,292.01001,283.109985,289.619995,295.029999,302.570007,302.600006,305.160004,311.690002,310.480011,315.549988,312.48999,315.929993,314.660004,309.98999,306.160004,304.320007,302.859985,307.350006,302.5,293.119995,298.929993,298.440002,298.5,304.209991,315.480011,320.799988,332.220001,336.899994,333.100006,333.200012,332.630005,329.089996,323.309998,323.570007,329.809998,325.899994,335.829987,330.75,339.26001,335.660004,329.049988,338.920013,338.690002,339.070007,338.619995,339.670013,338.109985,326.0,349.600006,353.160004,342.880005,348.519989,343.160004,347.73999,345.089996,358.0,369.01001,369.670013,366.950012,366.769989,371.070007,373.690002,380.01001,381.399994,380.399994,387.779999,386.190002,386.0,380.070007,368.700012,360.089996,379.23999,371.709991,369.029999,381.049988,368.769989,383.790009,372.779999,368.970001,346.48999,364.130005,349.920013,315.25,336.299988,298.839996,319.75,315.470001,332.029999,332.829987,360.269989,357.320007,342.390015,362.98999,357.119995,370.959991,375.5,364.079987,370.079987,361.76001,379.959991,372.279999,371.119995,370.720001,396.720001,413.549988,426.75,439.170013,422.959991,437.48999,433.829987,421.420013,426.700012,424.98999,421.380005,403.829987,411.890015,419.850006,415.269989,428.149994,424.679993,434.26001,436.529999,435.549988,440.519989,431.820007,438.269989,441.950012,454.190002,452.579987,451.040009,447.670013,436.25,429.320007,414.769989,419.890015,413.440002,419.730011,425.920013,427.309998,421.970001,414.329987,419.600006,419.48999,434.049988,434.480011,425.559998,418.070007,425.5,436.130005,447.769989,449.869995,453.720001,468.040009,466.26001,457.850006,465.910004,443.399994,447.23999,455.040009,485.640015,476.890015,493.809998,493.160004,502.779999,507.76001,548.72998,525.5,524.880005,523.26001,527.390015,492.98999,502.410004,490.100006,489.820007,477.579987,480.450012,495.649994,488.51001,484.480011,485.799988,488.880005,498.619995,509.640015,502.109985,509.079987,494.730011,483.380005,466.929993,475.470001,481.329987,482.679993,482.350006,491.869995,484.529999,497.899994,492.309998,488.809998,490.579987,547.530029,526.27002,523.890015,529.559998,556.549988,552.840027,525.75,516.049988,507.019989,500.190002,480.670013,482.029999,476.26001,495.98999,483.859985,470.200012,469.959991,487.350006,491.170013,470.609985,473.079987,482.880005,490.649994,493.480011,500.029999,527.51001,503.059998,520.650024,505.869995,534.659973,531.789978,539.440002,539.809998,554.090027,541.450012,541.940002,530.789978,530.719971,525.419983,489.049988,485.230011,488.279999,488.23999,488.929993,486.23999,504.209991,475.73999,484.119995,487.220001,496.950012,513.76001,514.72998,470.5,480.23999,490.76001,486.769989,482.839996,479.100006,480.630005,481.790009,484.670013,488.23999,476.619995,482.880005,485.0,491.359985,490.700012,504.579987,503.380005,497.519989,498.309998,515.780029,512.659973,493.600006,501.089996,503.220001,522.419983,519.780029,524.830017,532.900024,534.450012,528.909973,527.330017,514.47998,513.969971,519.119995,530.869995,524.590027,540.72998,522.859985,520.799988,500.48999,508.890015,510.399994,499.100006,494.25,507.790009,500.859985,497.980011,501.769989,586.340027,579.840027,565.169983,556.780029,561.929993,523.280029,538.599976,532.390015,539.039978,548.159973,539.450012,552.159973,550.789978,547.919983,559.070007,563.590027,557.590027,556.52002,557.280029,551.340027,548.219971,540.219971,533.780029,546.150024,553.409973,546.700012,538.849976,550.640015,547.820007,520.700012,511.290009,516.390015,493.329987,506.440002,504.540009,523.059998,518.02002,520.25,524.030029,524.440002,504.790009,512.179993,523.109985,535.090027,520.809998,502.859985,508.049988,513.950012,513.390015,521.659973,539.419983,540.669983,544.530029,546.98999,554.580017,555.309998,552.780029,553.72998,540.02002,549.219971,546.539978,554.440002,549.570007,508.899994,508.779999,505.549988,510.299988,505.549988,506.519989,509.0,513.469971,509.109985,503.179993,496.079987,499.549988,503.839996,486.690002,495.079987,484.980011,486.660004,493.369995,488.940002,486.279999,487.700012,501.670013,497.890015,502.899994,501.339996,502.359985,503.859985,502.809998,499.079987,499.23999,489.429993,494.73999,494.660004,492.390015,485.809998,487.269989,488.769989,499.890015,491.899994,492.410004,498.339996,500.769989,497.0,508.820007,512.73999,518.059998,527.070007,533.030029,533.5,528.210022,533.539978,533.97998,541.640015,535.960022,530.76001,535.97998,537.309998,540.679993,547.950012,542.950012,530.309998,532.280029,531.049988,513.630005,511.769989,515.409973,516.48999,518.909973,519.299988,514.25,517.570007,515.150024,510.820007,517.349976,524.890015,520.549988,519.969971,515.840027,512.400024,510.720001,515.919983,517.919983,518.909973,521.869995,543.710022,546.880005,553.330017,553.409973,547.580017,550.119995,558.919983,566.179993,569.190002,582.070007,588.549988,590.530029,606.710022,606.049988,597.539978,598.719971,589.289978,577.76001,582.869995,586.5,589.349976,575.429993,573.140015,590.650024,593.26001,592.390015,592.640015,583.849976,599.059998,610.340027,613.150024,603.349976,634.809998,639.099976,631.849976,632.659973,627.039978,624.940002,629.76001,633.799988,628.289978,637.969971,639.0,625.140015,653.159973,664.780029,671.659973,668.52002,662.919983,674.049988,690.309998,681.169983,677.719971,688.289978,668.400024,645.719971,651.450012,655.98999,646.909973,657.580017,682.609985,679.330017,687.400024,691.690002,682.02002,678.799988,659.200012,654.059998,658.289978,665.640015,663.840027,641.900024,617.77002,616.469971,602.130005,612.690002,625.580017,628.080017,611.0,611.659973,604.559998,597.98999,605.039978,591.059998,586.72998,593.73999,604.919983,614.23999,614.090027,613.119995,610.710022,610.539978,612.090027,602.440002,597.369995,591.150024,567.52002,553.289978,541.059998,539.849976,540.840027,537.219971,519.200012,525.690002,510.799988,515.859985,508.25,397.5,387.149994,366.420013,359.700012,386.700012,384.359985,427.140015,457.130005,429.480011,405.600006,410.170013],\"yaxis\":\"y\",\"type\":\"scattergl\"}],                        {\"template\":{\"data\":{\"histogram2dcontour\":[{\"type\":\"histogram2dcontour\",\"colorbar\":{\"outlinewidth\":0,\"ticks\":\"\"},\"colorscale\":[[0.0,\"#0d0887\"],[0.1111111111111111,\"#46039f\"],[0.2222222222222222,\"#7201a8\"],[0.3333333333333333,\"#9c179e\"],[0.4444444444444444,\"#bd3786\"],[0.5555555555555556,\"#d8576b\"],[0.6666666666666666,\"#ed7953\"],[0.7777777777777778,\"#fb9f3a\"],[0.8888888888888888,\"#fdca26\"],[1.0,\"#f0f921\"]]}],\"choropleth\":[{\"type\":\"choropleth\",\"colorbar\":{\"outlinewidth\":0,\"ticks\":\"\"}}],\"histogram2d\":[{\"type\":\"histogram2d\",\"colorbar\":{\"outlinewidth\":0,\"ticks\":\"\"},\"colorscale\":[[0.0,\"#0d0887\"],[0.1111111111111111,\"#46039f\"],[0.2222222222222222,\"#7201a8\"],[0.3333333333333333,\"#9c179e\"],[0.4444444444444444,\"#bd3786\"],[0.5555555555555556,\"#d8576b\"],[0.6666666666666666,\"#ed7953\"],[0.7777777777777778,\"#fb9f3a\"],[0.8888888888888888,\"#fdca26\"],[1.0,\"#f0f921\"]]}],\"heatmap\":[{\"type\":\"heatmap\",\"colorbar\":{\"outlinewidth\":0,\"ticks\":\"\"},\"colorscale\":[[0.0,\"#0d0887\"],[0.1111111111111111,\"#46039f\"],[0.2222222222222222,\"#7201a8\"],[0.3333333333333333,\"#9c179e\"],[0.4444444444444444,\"#bd3786\"],[0.5555555555555556,\"#d8576b\"],[0.6666666666666666,\"#ed7953\"],[0.7777777777777778,\"#fb9f3a\"],[0.8888888888888888,\"#fdca26\"],[1.0,\"#f0f921\"]]}],\"heatmapgl\":[{\"type\":\"heatmapgl\",\"colorbar\":{\"outlinewidth\":0,\"ticks\":\"\"},\"colorscale\":[[0.0,\"#0d0887\"],[0.1111111111111111,\"#46039f\"],[0.2222222222222222,\"#7201a8\"],[0.3333333333333333,\"#9c179e\"],[0.4444444444444444,\"#bd3786\"],[0.5555555555555556,\"#d8576b\"],[0.6666666666666666,\"#ed7953\"],[0.7777777777777778,\"#fb9f3a\"],[0.8888888888888888,\"#fdca26\"],[1.0,\"#f0f921\"]]}],\"contourcarpet\":[{\"type\":\"contourcarpet\",\"colorbar\":{\"outlinewidth\":0,\"ticks\":\"\"}}],\"contour\":[{\"type\":\"contour\",\"colorbar\":{\"outlinewidth\":0,\"ticks\":\"\"},\"colorscale\":[[0.0,\"#0d0887\"],[0.1111111111111111,\"#46039f\"],[0.2222222222222222,\"#7201a8\"],[0.3333333333333333,\"#9c179e\"],[0.4444444444444444,\"#bd3786\"],[0.5555555555555556,\"#d8576b\"],[0.6666666666666666,\"#ed7953\"],[0.7777777777777778,\"#fb9f3a\"],[0.8888888888888888,\"#fdca26\"],[1.0,\"#f0f921\"]]}],\"surface\":[{\"type\":\"surface\",\"colorbar\":{\"outlinewidth\":0,\"ticks\":\"\"},\"colorscale\":[[0.0,\"#0d0887\"],[0.1111111111111111,\"#46039f\"],[0.2222222222222222,\"#7201a8\"],[0.3333333333333333,\"#9c179e\"],[0.4444444444444444,\"#bd3786\"],[0.5555555555555556,\"#d8576b\"],[0.6666666666666666,\"#ed7953\"],[0.7777777777777778,\"#fb9f3a\"],[0.8888888888888888,\"#fdca26\"],[1.0,\"#f0f921\"]]}],\"mesh3d\":[{\"type\":\"mesh3d\",\"colorbar\":{\"outlinewidth\":0,\"ticks\":\"\"}}],\"scatter\":[{\"fillpattern\":{\"fillmode\":\"overlay\",\"size\":10,\"solidity\":0.2},\"type\":\"scatter\"}],\"parcoords\":[{\"type\":\"parcoords\",\"line\":{\"colorbar\":{\"outlinewidth\":0,\"ticks\":\"\"}}}],\"scatterpolargl\":[{\"type\":\"scatterpolargl\",\"marker\":{\"colorbar\":{\"outlinewidth\":0,\"ticks\":\"\"}}}],\"bar\":[{\"error_x\":{\"color\":\"#2a3f5f\"},\"error_y\":{\"color\":\"#2a3f5f\"},\"marker\":{\"line\":{\"color\":\"#E5ECF6\",\"width\":0.5},\"pattern\":{\"fillmode\":\"overlay\",\"size\":10,\"solidity\":0.2}},\"type\":\"bar\"}],\"scattergeo\":[{\"type\":\"scattergeo\",\"marker\":{\"colorbar\":{\"outlinewidth\":0,\"ticks\":\"\"}}}],\"scatterpolar\":[{\"type\":\"scatterpolar\",\"marker\":{\"colorbar\":{\"outlinewidth\":0,\"ticks\":\"\"}}}],\"histogram\":[{\"marker\":{\"pattern\":{\"fillmode\":\"overlay\",\"size\":10,\"solidity\":0.2}},\"type\":\"histogram\"}],\"scattergl\":[{\"type\":\"scattergl\",\"marker\":{\"colorbar\":{\"outlinewidth\":0,\"ticks\":\"\"}}}],\"scatter3d\":[{\"type\":\"scatter3d\",\"line\":{\"colorbar\":{\"outlinewidth\":0,\"ticks\":\"\"}},\"marker\":{\"colorbar\":{\"outlinewidth\":0,\"ticks\":\"\"}}}],\"scattermapbox\":[{\"type\":\"scattermapbox\",\"marker\":{\"colorbar\":{\"outlinewidth\":0,\"ticks\":\"\"}}}],\"scatterternary\":[{\"type\":\"scatterternary\",\"marker\":{\"colorbar\":{\"outlinewidth\":0,\"ticks\":\"\"}}}],\"scattercarpet\":[{\"type\":\"scattercarpet\",\"marker\":{\"colorbar\":{\"outlinewidth\":0,\"ticks\":\"\"}}}],\"carpet\":[{\"aaxis\":{\"endlinecolor\":\"#2a3f5f\",\"gridcolor\":\"white\",\"linecolor\":\"white\",\"minorgridcolor\":\"white\",\"startlinecolor\":\"#2a3f5f\"},\"baxis\":{\"endlinecolor\":\"#2a3f5f\",\"gridcolor\":\"white\",\"linecolor\":\"white\",\"minorgridcolor\":\"white\",\"startlinecolor\":\"#2a3f5f\"},\"type\":\"carpet\"}],\"table\":[{\"cells\":{\"fill\":{\"color\":\"#EBF0F8\"},\"line\":{\"color\":\"white\"}},\"header\":{\"fill\":{\"color\":\"#C8D4E3\"},\"line\":{\"color\":\"white\"}},\"type\":\"table\"}],\"barpolar\":[{\"marker\":{\"line\":{\"color\":\"#E5ECF6\",\"width\":0.5},\"pattern\":{\"fillmode\":\"overlay\",\"size\":10,\"solidity\":0.2}},\"type\":\"barpolar\"}],\"pie\":[{\"automargin\":true,\"type\":\"pie\"}]},\"layout\":{\"autotypenumbers\":\"strict\",\"colorway\":[\"#636efa\",\"#EF553B\",\"#00cc96\",\"#ab63fa\",\"#FFA15A\",\"#19d3f3\",\"#FF6692\",\"#B6E880\",\"#FF97FF\",\"#FECB52\"],\"font\":{\"color\":\"#2a3f5f\"},\"hovermode\":\"closest\",\"hoverlabel\":{\"align\":\"left\"},\"paper_bgcolor\":\"white\",\"plot_bgcolor\":\"#E5ECF6\",\"polar\":{\"bgcolor\":\"#E5ECF6\",\"angularaxis\":{\"gridcolor\":\"white\",\"linecolor\":\"white\",\"ticks\":\"\"},\"radialaxis\":{\"gridcolor\":\"white\",\"linecolor\":\"white\",\"ticks\":\"\"}},\"ternary\":{\"bgcolor\":\"#E5ECF6\",\"aaxis\":{\"gridcolor\":\"white\",\"linecolor\":\"white\",\"ticks\":\"\"},\"baxis\":{\"gridcolor\":\"white\",\"linecolor\":\"white\",\"ticks\":\"\"},\"caxis\":{\"gridcolor\":\"white\",\"linecolor\":\"white\",\"ticks\":\"\"}},\"coloraxis\":{\"colorbar\":{\"outlinewidth\":0,\"ticks\":\"\"}},\"colorscale\":{\"sequential\":[[0.0,\"#0d0887\"],[0.1111111111111111,\"#46039f\"],[0.2222222222222222,\"#7201a8\"],[0.3333333333333333,\"#9c179e\"],[0.4444444444444444,\"#bd3786\"],[0.5555555555555556,\"#d8576b\"],[0.6666666666666666,\"#ed7953\"],[0.7777777777777778,\"#fb9f3a\"],[0.8888888888888888,\"#fdca26\"],[1.0,\"#f0f921\"]],\"sequentialminus\":[[0.0,\"#0d0887\"],[0.1111111111111111,\"#46039f\"],[0.2222222222222222,\"#7201a8\"],[0.3333333333333333,\"#9c179e\"],[0.4444444444444444,\"#bd3786\"],[0.5555555555555556,\"#d8576b\"],[0.6666666666666666,\"#ed7953\"],[0.7777777777777778,\"#fb9f3a\"],[0.8888888888888888,\"#fdca26\"],[1.0,\"#f0f921\"]],\"diverging\":[[0,\"#8e0152\"],[0.1,\"#c51b7d\"],[0.2,\"#de77ae\"],[0.3,\"#f1b6da\"],[0.4,\"#fde0ef\"],[0.5,\"#f7f7f7\"],[0.6,\"#e6f5d0\"],[0.7,\"#b8e186\"],[0.8,\"#7fbc41\"],[0.9,\"#4d9221\"],[1,\"#276419\"]]},\"xaxis\":{\"gridcolor\":\"white\",\"linecolor\":\"white\",\"ticks\":\"\",\"title\":{\"standoff\":15},\"zerolinecolor\":\"white\",\"automargin\":true,\"zerolinewidth\":2},\"yaxis\":{\"gridcolor\":\"white\",\"linecolor\":\"white\",\"ticks\":\"\",\"title\":{\"standoff\":15},\"zerolinecolor\":\"white\",\"automargin\":true,\"zerolinewidth\":2},\"scene\":{\"xaxis\":{\"backgroundcolor\":\"#E5ECF6\",\"gridcolor\":\"white\",\"linecolor\":\"white\",\"showbackground\":true,\"ticks\":\"\",\"zerolinecolor\":\"white\",\"gridwidth\":2},\"yaxis\":{\"backgroundcolor\":\"#E5ECF6\",\"gridcolor\":\"white\",\"linecolor\":\"white\",\"showbackground\":true,\"ticks\":\"\",\"zerolinecolor\":\"white\",\"gridwidth\":2},\"zaxis\":{\"backgroundcolor\":\"#E5ECF6\",\"gridcolor\":\"white\",\"linecolor\":\"white\",\"showbackground\":true,\"ticks\":\"\",\"zerolinecolor\":\"white\",\"gridwidth\":2}},\"shapedefaults\":{\"line\":{\"color\":\"#2a3f5f\"}},\"annotationdefaults\":{\"arrowcolor\":\"#2a3f5f\",\"arrowhead\":0,\"arrowwidth\":1},\"geo\":{\"bgcolor\":\"white\",\"landcolor\":\"#E5ECF6\",\"subunitcolor\":\"white\",\"showland\":true,\"showlakes\":true,\"lakecolor\":\"white\"},\"title\":{\"x\":0.05},\"mapbox\":{\"style\":\"light\"}}},\"xaxis\":{\"anchor\":\"y\",\"domain\":[0.0,1.0],\"title\":{\"text\":\"Volume\"}},\"yaxis\":{\"anchor\":\"x\",\"domain\":[0.0,1.0],\"title\":{\"text\":\"Close\"}},\"legend\":{\"tracegroupgap\":0},\"title\":{\"text\":\"Volume VS Close\"}},                        {\"responsive\": true}                    ).then(function(){\n",
              "                            \n",
              "var gd = document.getElementById('51a129a2-e305-41fc-a934-f111b6060c81');\n",
              "var x = new MutationObserver(function (mutations, observer) {{\n",
              "        var display = window.getComputedStyle(gd).display;\n",
              "        if (!display || display === 'none') {{\n",
              "            console.log([gd, 'removed!']);\n",
              "            Plotly.purge(gd);\n",
              "            observer.disconnect();\n",
              "        }}\n",
              "}});\n",
              "\n",
              "// Listen for the removal of the full notebook cells\n",
              "var notebookContainer = gd.closest('#notebook-container');\n",
              "if (notebookContainer) {{\n",
              "    x.observe(notebookContainer, {childList: true});\n",
              "}}\n",
              "\n",
              "// Listen for the clearing of the current output cell\n",
              "var outputEl = gd.closest('.output');\n",
              "if (outputEl) {{\n",
              "    x.observe(outputEl, {childList: true});\n",
              "}}\n",
              "\n",
              "                        })                };                            </script>        </div>\n",
              "</body>\n",
              "</html>"
            ]
          },
          "metadata": {}
        }
      ]
    },
    {
      "cell_type": "markdown",
      "source": [
        "## Taking Train and Test data"
      ],
      "metadata": {
        "id": "VxEuJgOTBKHH"
      }
    },
    {
      "cell_type": "code",
      "source": [
        "year=pd.to_datetime(df.Date).dt.year"
      ],
      "metadata": {
        "id": "_QEM0i5i8pmX"
      },
      "execution_count": null,
      "outputs": []
    },
    {
      "cell_type": "code",
      "source": [
        "train = df[year<=2021]\n",
        "test = df[year>2021]"
      ],
      "metadata": {
        "id": "t80auryb8pjc"
      },
      "execution_count": null,
      "outputs": []
    },
    {
      "cell_type": "code",
      "source": [
        "train.head()"
      ],
      "metadata": {
        "colab": {
          "base_uri": "https://localhost:8080/",
          "height": 206
        },
        "id": "yQiAXE1rtw_N",
        "outputId": "2c51bd4a-71b3-4040-fe00-408c56a002a1"
      },
      "execution_count": null,
      "outputs": [
        {
          "output_type": "execute_result",
          "data": {
            "text/plain": [
              "         Date        Open        High         Low       Close   Adj Close  \\\n",
              "0  2018-02-05  262.000000  267.899994  250.029999  254.259995  254.259995   \n",
              "1  2018-02-06  247.699997  266.700012  245.000000  265.720001  265.720001   \n",
              "2  2018-02-07  266.579987  272.450012  264.329987  264.559998  264.559998   \n",
              "3  2018-02-08  267.079987  267.619995  250.000000  250.100006  250.100006   \n",
              "4  2018-02-09  253.850006  255.800003  236.110001  249.470001  249.470001   \n",
              "\n",
              "     Volume  \n",
              "0  11896100  \n",
              "1  12595800  \n",
              "2   8981500  \n",
              "3   9306700  \n",
              "4  16906900  "
            ],
            "text/html": [
              "\n",
              "  <div id=\"df-086333a3-757d-4bf3-8550-ad9d637caea7\" class=\"colab-df-container\">\n",
              "    <div>\n",
              "<style scoped>\n",
              "    .dataframe tbody tr th:only-of-type {\n",
              "        vertical-align: middle;\n",
              "    }\n",
              "\n",
              "    .dataframe tbody tr th {\n",
              "        vertical-align: top;\n",
              "    }\n",
              "\n",
              "    .dataframe thead th {\n",
              "        text-align: right;\n",
              "    }\n",
              "</style>\n",
              "<table border=\"1\" class=\"dataframe\">\n",
              "  <thead>\n",
              "    <tr style=\"text-align: right;\">\n",
              "      <th></th>\n",
              "      <th>Date</th>\n",
              "      <th>Open</th>\n",
              "      <th>High</th>\n",
              "      <th>Low</th>\n",
              "      <th>Close</th>\n",
              "      <th>Adj Close</th>\n",
              "      <th>Volume</th>\n",
              "    </tr>\n",
              "  </thead>\n",
              "  <tbody>\n",
              "    <tr>\n",
              "      <th>0</th>\n",
              "      <td>2018-02-05</td>\n",
              "      <td>262.000000</td>\n",
              "      <td>267.899994</td>\n",
              "      <td>250.029999</td>\n",
              "      <td>254.259995</td>\n",
              "      <td>254.259995</td>\n",
              "      <td>11896100</td>\n",
              "    </tr>\n",
              "    <tr>\n",
              "      <th>1</th>\n",
              "      <td>2018-02-06</td>\n",
              "      <td>247.699997</td>\n",
              "      <td>266.700012</td>\n",
              "      <td>245.000000</td>\n",
              "      <td>265.720001</td>\n",
              "      <td>265.720001</td>\n",
              "      <td>12595800</td>\n",
              "    </tr>\n",
              "    <tr>\n",
              "      <th>2</th>\n",
              "      <td>2018-02-07</td>\n",
              "      <td>266.579987</td>\n",
              "      <td>272.450012</td>\n",
              "      <td>264.329987</td>\n",
              "      <td>264.559998</td>\n",
              "      <td>264.559998</td>\n",
              "      <td>8981500</td>\n",
              "    </tr>\n",
              "    <tr>\n",
              "      <th>3</th>\n",
              "      <td>2018-02-08</td>\n",
              "      <td>267.079987</td>\n",
              "      <td>267.619995</td>\n",
              "      <td>250.000000</td>\n",
              "      <td>250.100006</td>\n",
              "      <td>250.100006</td>\n",
              "      <td>9306700</td>\n",
              "    </tr>\n",
              "    <tr>\n",
              "      <th>4</th>\n",
              "      <td>2018-02-09</td>\n",
              "      <td>253.850006</td>\n",
              "      <td>255.800003</td>\n",
              "      <td>236.110001</td>\n",
              "      <td>249.470001</td>\n",
              "      <td>249.470001</td>\n",
              "      <td>16906900</td>\n",
              "    </tr>\n",
              "  </tbody>\n",
              "</table>\n",
              "</div>\n",
              "    <div class=\"colab-df-buttons\">\n",
              "\n",
              "  <div class=\"colab-df-container\">\n",
              "    <button class=\"colab-df-convert\" onclick=\"convertToInteractive('df-086333a3-757d-4bf3-8550-ad9d637caea7')\"\n",
              "            title=\"Convert this dataframe to an interactive table.\"\n",
              "            style=\"display:none;\">\n",
              "\n",
              "  <svg xmlns=\"http://www.w3.org/2000/svg\" height=\"24px\" viewBox=\"0 -960 960 960\">\n",
              "    <path d=\"M120-120v-720h720v720H120Zm60-500h600v-160H180v160Zm220 220h160v-160H400v160Zm0 220h160v-160H400v160ZM180-400h160v-160H180v160Zm440 0h160v-160H620v160ZM180-180h160v-160H180v160Zm440 0h160v-160H620v160Z\"/>\n",
              "  </svg>\n",
              "    </button>\n",
              "\n",
              "  <style>\n",
              "    .colab-df-container {\n",
              "      display:flex;\n",
              "      gap: 12px;\n",
              "    }\n",
              "\n",
              "    .colab-df-convert {\n",
              "      background-color: #E8F0FE;\n",
              "      border: none;\n",
              "      border-radius: 50%;\n",
              "      cursor: pointer;\n",
              "      display: none;\n",
              "      fill: #1967D2;\n",
              "      height: 32px;\n",
              "      padding: 0 0 0 0;\n",
              "      width: 32px;\n",
              "    }\n",
              "\n",
              "    .colab-df-convert:hover {\n",
              "      background-color: #E2EBFA;\n",
              "      box-shadow: 0px 1px 2px rgba(60, 64, 67, 0.3), 0px 1px 3px 1px rgba(60, 64, 67, 0.15);\n",
              "      fill: #174EA6;\n",
              "    }\n",
              "\n",
              "    .colab-df-buttons div {\n",
              "      margin-bottom: 4px;\n",
              "    }\n",
              "\n",
              "    [theme=dark] .colab-df-convert {\n",
              "      background-color: #3B4455;\n",
              "      fill: #D2E3FC;\n",
              "    }\n",
              "\n",
              "    [theme=dark] .colab-df-convert:hover {\n",
              "      background-color: #434B5C;\n",
              "      box-shadow: 0px 1px 3px 1px rgba(0, 0, 0, 0.15);\n",
              "      filter: drop-shadow(0px 1px 2px rgba(0, 0, 0, 0.3));\n",
              "      fill: #FFFFFF;\n",
              "    }\n",
              "  </style>\n",
              "\n",
              "    <script>\n",
              "      const buttonEl =\n",
              "        document.querySelector('#df-086333a3-757d-4bf3-8550-ad9d637caea7 button.colab-df-convert');\n",
              "      buttonEl.style.display =\n",
              "        google.colab.kernel.accessAllowed ? 'block' : 'none';\n",
              "\n",
              "      async function convertToInteractive(key) {\n",
              "        const element = document.querySelector('#df-086333a3-757d-4bf3-8550-ad9d637caea7');\n",
              "        const dataTable =\n",
              "          await google.colab.kernel.invokeFunction('convertToInteractive',\n",
              "                                                    [key], {});\n",
              "        if (!dataTable) return;\n",
              "\n",
              "        const docLinkHtml = 'Like what you see? Visit the ' +\n",
              "          '<a target=\"_blank\" href=https://colab.research.google.com/notebooks/data_table.ipynb>data table notebook</a>'\n",
              "          + ' to learn more about interactive tables.';\n",
              "        element.innerHTML = '';\n",
              "        dataTable['output_type'] = 'display_data';\n",
              "        await google.colab.output.renderOutput(dataTable, element);\n",
              "        const docLink = document.createElement('div');\n",
              "        docLink.innerHTML = docLinkHtml;\n",
              "        element.appendChild(docLink);\n",
              "      }\n",
              "    </script>\n",
              "  </div>\n",
              "\n",
              "\n",
              "<div id=\"df-1df3ca12-7090-448b-a2f3-e744ca505d5b\">\n",
              "  <button class=\"colab-df-quickchart\" onclick=\"quickchart('df-1df3ca12-7090-448b-a2f3-e744ca505d5b')\"\n",
              "            title=\"Suggest charts.\"\n",
              "            style=\"display:none;\">\n",
              "\n",
              "<svg xmlns=\"http://www.w3.org/2000/svg\" height=\"24px\"viewBox=\"0 0 24 24\"\n",
              "     width=\"24px\">\n",
              "    <g>\n",
              "        <path d=\"M19 3H5c-1.1 0-2 .9-2 2v14c0 1.1.9 2 2 2h14c1.1 0 2-.9 2-2V5c0-1.1-.9-2-2-2zM9 17H7v-7h2v7zm4 0h-2V7h2v10zm4 0h-2v-4h2v4z\"/>\n",
              "    </g>\n",
              "</svg>\n",
              "  </button>\n",
              "\n",
              "<style>\n",
              "  .colab-df-quickchart {\n",
              "      --bg-color: #E8F0FE;\n",
              "      --fill-color: #1967D2;\n",
              "      --hover-bg-color: #E2EBFA;\n",
              "      --hover-fill-color: #174EA6;\n",
              "      --disabled-fill-color: #AAA;\n",
              "      --disabled-bg-color: #DDD;\n",
              "  }\n",
              "\n",
              "  [theme=dark] .colab-df-quickchart {\n",
              "      --bg-color: #3B4455;\n",
              "      --fill-color: #D2E3FC;\n",
              "      --hover-bg-color: #434B5C;\n",
              "      --hover-fill-color: #FFFFFF;\n",
              "      --disabled-bg-color: #3B4455;\n",
              "      --disabled-fill-color: #666;\n",
              "  }\n",
              "\n",
              "  .colab-df-quickchart {\n",
              "    background-color: var(--bg-color);\n",
              "    border: none;\n",
              "    border-radius: 50%;\n",
              "    cursor: pointer;\n",
              "    display: none;\n",
              "    fill: var(--fill-color);\n",
              "    height: 32px;\n",
              "    padding: 0;\n",
              "    width: 32px;\n",
              "  }\n",
              "\n",
              "  .colab-df-quickchart:hover {\n",
              "    background-color: var(--hover-bg-color);\n",
              "    box-shadow: 0 1px 2px rgba(60, 64, 67, 0.3), 0 1px 3px 1px rgba(60, 64, 67, 0.15);\n",
              "    fill: var(--button-hover-fill-color);\n",
              "  }\n",
              "\n",
              "  .colab-df-quickchart-complete:disabled,\n",
              "  .colab-df-quickchart-complete:disabled:hover {\n",
              "    background-color: var(--disabled-bg-color);\n",
              "    fill: var(--disabled-fill-color);\n",
              "    box-shadow: none;\n",
              "  }\n",
              "\n",
              "  .colab-df-spinner {\n",
              "    border: 2px solid var(--fill-color);\n",
              "    border-color: transparent;\n",
              "    border-bottom-color: var(--fill-color);\n",
              "    animation:\n",
              "      spin 1s steps(1) infinite;\n",
              "  }\n",
              "\n",
              "  @keyframes spin {\n",
              "    0% {\n",
              "      border-color: transparent;\n",
              "      border-bottom-color: var(--fill-color);\n",
              "      border-left-color: var(--fill-color);\n",
              "    }\n",
              "    20% {\n",
              "      border-color: transparent;\n",
              "      border-left-color: var(--fill-color);\n",
              "      border-top-color: var(--fill-color);\n",
              "    }\n",
              "    30% {\n",
              "      border-color: transparent;\n",
              "      border-left-color: var(--fill-color);\n",
              "      border-top-color: var(--fill-color);\n",
              "      border-right-color: var(--fill-color);\n",
              "    }\n",
              "    40% {\n",
              "      border-color: transparent;\n",
              "      border-right-color: var(--fill-color);\n",
              "      border-top-color: var(--fill-color);\n",
              "    }\n",
              "    60% {\n",
              "      border-color: transparent;\n",
              "      border-right-color: var(--fill-color);\n",
              "    }\n",
              "    80% {\n",
              "      border-color: transparent;\n",
              "      border-right-color: var(--fill-color);\n",
              "      border-bottom-color: var(--fill-color);\n",
              "    }\n",
              "    90% {\n",
              "      border-color: transparent;\n",
              "      border-bottom-color: var(--fill-color);\n",
              "    }\n",
              "  }\n",
              "</style>\n",
              "\n",
              "  <script>\n",
              "    async function quickchart(key) {\n",
              "      const quickchartButtonEl =\n",
              "        document.querySelector('#' + key + ' button');\n",
              "      quickchartButtonEl.disabled = true;  // To prevent multiple clicks.\n",
              "      quickchartButtonEl.classList.add('colab-df-spinner');\n",
              "      try {\n",
              "        const charts = await google.colab.kernel.invokeFunction(\n",
              "            'suggestCharts', [key], {});\n",
              "      } catch (error) {\n",
              "        console.error('Error during call to suggestCharts:', error);\n",
              "      }\n",
              "      quickchartButtonEl.classList.remove('colab-df-spinner');\n",
              "      quickchartButtonEl.classList.add('colab-df-quickchart-complete');\n",
              "    }\n",
              "    (() => {\n",
              "      let quickchartButtonEl =\n",
              "        document.querySelector('#df-1df3ca12-7090-448b-a2f3-e744ca505d5b button');\n",
              "      quickchartButtonEl.style.display =\n",
              "        google.colab.kernel.accessAllowed ? 'block' : 'none';\n",
              "    })();\n",
              "  </script>\n",
              "</div>\n",
              "    </div>\n",
              "  </div>\n"
            ]
          },
          "metadata": {},
          "execution_count": 30
        }
      ]
    },
    {
      "cell_type": "code",
      "source": [
        "test.head()"
      ],
      "metadata": {
        "colab": {
          "base_uri": "https://localhost:8080/",
          "height": 206
        },
        "id": "bADzAh6Xt0dZ",
        "outputId": "e56d4477-3911-401d-8926-dbe986bb0bd2"
      },
      "execution_count": null,
      "outputs": [
        {
          "output_type": "execute_result",
          "data": {
            "text/plain": [
              "           Date        Open        High         Low       Close   Adj Close  \\\n",
              "985  2022-01-03  605.609985  609.989990  590.559998  597.369995  597.369995   \n",
              "986  2022-01-04  599.909973  600.409973  581.599976  591.150024  591.150024   \n",
              "987  2022-01-05  592.000000  592.840027  566.880005  567.520020  567.520020   \n",
              "988  2022-01-06  554.340027  563.359985  542.010010  553.289978  553.289978   \n",
              "989  2022-01-07  549.460022  553.429993  538.219971  541.059998  541.059998   \n",
              "\n",
              "      Volume  \n",
              "985  3067500  \n",
              "986  4393100  \n",
              "987  4148700  \n",
              "988  5711800  \n",
              "989  3381700  "
            ],
            "text/html": [
              "\n",
              "  <div id=\"df-f7542012-a15c-48ff-bc63-51a8c2736ed6\" class=\"colab-df-container\">\n",
              "    <div>\n",
              "<style scoped>\n",
              "    .dataframe tbody tr th:only-of-type {\n",
              "        vertical-align: middle;\n",
              "    }\n",
              "\n",
              "    .dataframe tbody tr th {\n",
              "        vertical-align: top;\n",
              "    }\n",
              "\n",
              "    .dataframe thead th {\n",
              "        text-align: right;\n",
              "    }\n",
              "</style>\n",
              "<table border=\"1\" class=\"dataframe\">\n",
              "  <thead>\n",
              "    <tr style=\"text-align: right;\">\n",
              "      <th></th>\n",
              "      <th>Date</th>\n",
              "      <th>Open</th>\n",
              "      <th>High</th>\n",
              "      <th>Low</th>\n",
              "      <th>Close</th>\n",
              "      <th>Adj Close</th>\n",
              "      <th>Volume</th>\n",
              "    </tr>\n",
              "  </thead>\n",
              "  <tbody>\n",
              "    <tr>\n",
              "      <th>985</th>\n",
              "      <td>2022-01-03</td>\n",
              "      <td>605.609985</td>\n",
              "      <td>609.989990</td>\n",
              "      <td>590.559998</td>\n",
              "      <td>597.369995</td>\n",
              "      <td>597.369995</td>\n",
              "      <td>3067500</td>\n",
              "    </tr>\n",
              "    <tr>\n",
              "      <th>986</th>\n",
              "      <td>2022-01-04</td>\n",
              "      <td>599.909973</td>\n",
              "      <td>600.409973</td>\n",
              "      <td>581.599976</td>\n",
              "      <td>591.150024</td>\n",
              "      <td>591.150024</td>\n",
              "      <td>4393100</td>\n",
              "    </tr>\n",
              "    <tr>\n",
              "      <th>987</th>\n",
              "      <td>2022-01-05</td>\n",
              "      <td>592.000000</td>\n",
              "      <td>592.840027</td>\n",
              "      <td>566.880005</td>\n",
              "      <td>567.520020</td>\n",
              "      <td>567.520020</td>\n",
              "      <td>4148700</td>\n",
              "    </tr>\n",
              "    <tr>\n",
              "      <th>988</th>\n",
              "      <td>2022-01-06</td>\n",
              "      <td>554.340027</td>\n",
              "      <td>563.359985</td>\n",
              "      <td>542.010010</td>\n",
              "      <td>553.289978</td>\n",
              "      <td>553.289978</td>\n",
              "      <td>5711800</td>\n",
              "    </tr>\n",
              "    <tr>\n",
              "      <th>989</th>\n",
              "      <td>2022-01-07</td>\n",
              "      <td>549.460022</td>\n",
              "      <td>553.429993</td>\n",
              "      <td>538.219971</td>\n",
              "      <td>541.059998</td>\n",
              "      <td>541.059998</td>\n",
              "      <td>3381700</td>\n",
              "    </tr>\n",
              "  </tbody>\n",
              "</table>\n",
              "</div>\n",
              "    <div class=\"colab-df-buttons\">\n",
              "\n",
              "  <div class=\"colab-df-container\">\n",
              "    <button class=\"colab-df-convert\" onclick=\"convertToInteractive('df-f7542012-a15c-48ff-bc63-51a8c2736ed6')\"\n",
              "            title=\"Convert this dataframe to an interactive table.\"\n",
              "            style=\"display:none;\">\n",
              "\n",
              "  <svg xmlns=\"http://www.w3.org/2000/svg\" height=\"24px\" viewBox=\"0 -960 960 960\">\n",
              "    <path d=\"M120-120v-720h720v720H120Zm60-500h600v-160H180v160Zm220 220h160v-160H400v160Zm0 220h160v-160H400v160ZM180-400h160v-160H180v160Zm440 0h160v-160H620v160ZM180-180h160v-160H180v160Zm440 0h160v-160H620v160Z\"/>\n",
              "  </svg>\n",
              "    </button>\n",
              "\n",
              "  <style>\n",
              "    .colab-df-container {\n",
              "      display:flex;\n",
              "      gap: 12px;\n",
              "    }\n",
              "\n",
              "    .colab-df-convert {\n",
              "      background-color: #E8F0FE;\n",
              "      border: none;\n",
              "      border-radius: 50%;\n",
              "      cursor: pointer;\n",
              "      display: none;\n",
              "      fill: #1967D2;\n",
              "      height: 32px;\n",
              "      padding: 0 0 0 0;\n",
              "      width: 32px;\n",
              "    }\n",
              "\n",
              "    .colab-df-convert:hover {\n",
              "      background-color: #E2EBFA;\n",
              "      box-shadow: 0px 1px 2px rgba(60, 64, 67, 0.3), 0px 1px 3px 1px rgba(60, 64, 67, 0.15);\n",
              "      fill: #174EA6;\n",
              "    }\n",
              "\n",
              "    .colab-df-buttons div {\n",
              "      margin-bottom: 4px;\n",
              "    }\n",
              "\n",
              "    [theme=dark] .colab-df-convert {\n",
              "      background-color: #3B4455;\n",
              "      fill: #D2E3FC;\n",
              "    }\n",
              "\n",
              "    [theme=dark] .colab-df-convert:hover {\n",
              "      background-color: #434B5C;\n",
              "      box-shadow: 0px 1px 3px 1px rgba(0, 0, 0, 0.15);\n",
              "      filter: drop-shadow(0px 1px 2px rgba(0, 0, 0, 0.3));\n",
              "      fill: #FFFFFF;\n",
              "    }\n",
              "  </style>\n",
              "\n",
              "    <script>\n",
              "      const buttonEl =\n",
              "        document.querySelector('#df-f7542012-a15c-48ff-bc63-51a8c2736ed6 button.colab-df-convert');\n",
              "      buttonEl.style.display =\n",
              "        google.colab.kernel.accessAllowed ? 'block' : 'none';\n",
              "\n",
              "      async function convertToInteractive(key) {\n",
              "        const element = document.querySelector('#df-f7542012-a15c-48ff-bc63-51a8c2736ed6');\n",
              "        const dataTable =\n",
              "          await google.colab.kernel.invokeFunction('convertToInteractive',\n",
              "                                                    [key], {});\n",
              "        if (!dataTable) return;\n",
              "\n",
              "        const docLinkHtml = 'Like what you see? Visit the ' +\n",
              "          '<a target=\"_blank\" href=https://colab.research.google.com/notebooks/data_table.ipynb>data table notebook</a>'\n",
              "          + ' to learn more about interactive tables.';\n",
              "        element.innerHTML = '';\n",
              "        dataTable['output_type'] = 'display_data';\n",
              "        await google.colab.output.renderOutput(dataTable, element);\n",
              "        const docLink = document.createElement('div');\n",
              "        docLink.innerHTML = docLinkHtml;\n",
              "        element.appendChild(docLink);\n",
              "      }\n",
              "    </script>\n",
              "  </div>\n",
              "\n",
              "\n",
              "<div id=\"df-d7b9384f-3059-4ed8-be69-5ba7c1952dc2\">\n",
              "  <button class=\"colab-df-quickchart\" onclick=\"quickchart('df-d7b9384f-3059-4ed8-be69-5ba7c1952dc2')\"\n",
              "            title=\"Suggest charts.\"\n",
              "            style=\"display:none;\">\n",
              "\n",
              "<svg xmlns=\"http://www.w3.org/2000/svg\" height=\"24px\"viewBox=\"0 0 24 24\"\n",
              "     width=\"24px\">\n",
              "    <g>\n",
              "        <path d=\"M19 3H5c-1.1 0-2 .9-2 2v14c0 1.1.9 2 2 2h14c1.1 0 2-.9 2-2V5c0-1.1-.9-2-2-2zM9 17H7v-7h2v7zm4 0h-2V7h2v10zm4 0h-2v-4h2v4z\"/>\n",
              "    </g>\n",
              "</svg>\n",
              "  </button>\n",
              "\n",
              "<style>\n",
              "  .colab-df-quickchart {\n",
              "      --bg-color: #E8F0FE;\n",
              "      --fill-color: #1967D2;\n",
              "      --hover-bg-color: #E2EBFA;\n",
              "      --hover-fill-color: #174EA6;\n",
              "      --disabled-fill-color: #AAA;\n",
              "      --disabled-bg-color: #DDD;\n",
              "  }\n",
              "\n",
              "  [theme=dark] .colab-df-quickchart {\n",
              "      --bg-color: #3B4455;\n",
              "      --fill-color: #D2E3FC;\n",
              "      --hover-bg-color: #434B5C;\n",
              "      --hover-fill-color: #FFFFFF;\n",
              "      --disabled-bg-color: #3B4455;\n",
              "      --disabled-fill-color: #666;\n",
              "  }\n",
              "\n",
              "  .colab-df-quickchart {\n",
              "    background-color: var(--bg-color);\n",
              "    border: none;\n",
              "    border-radius: 50%;\n",
              "    cursor: pointer;\n",
              "    display: none;\n",
              "    fill: var(--fill-color);\n",
              "    height: 32px;\n",
              "    padding: 0;\n",
              "    width: 32px;\n",
              "  }\n",
              "\n",
              "  .colab-df-quickchart:hover {\n",
              "    background-color: var(--hover-bg-color);\n",
              "    box-shadow: 0 1px 2px rgba(60, 64, 67, 0.3), 0 1px 3px 1px rgba(60, 64, 67, 0.15);\n",
              "    fill: var(--button-hover-fill-color);\n",
              "  }\n",
              "\n",
              "  .colab-df-quickchart-complete:disabled,\n",
              "  .colab-df-quickchart-complete:disabled:hover {\n",
              "    background-color: var(--disabled-bg-color);\n",
              "    fill: var(--disabled-fill-color);\n",
              "    box-shadow: none;\n",
              "  }\n",
              "\n",
              "  .colab-df-spinner {\n",
              "    border: 2px solid var(--fill-color);\n",
              "    border-color: transparent;\n",
              "    border-bottom-color: var(--fill-color);\n",
              "    animation:\n",
              "      spin 1s steps(1) infinite;\n",
              "  }\n",
              "\n",
              "  @keyframes spin {\n",
              "    0% {\n",
              "      border-color: transparent;\n",
              "      border-bottom-color: var(--fill-color);\n",
              "      border-left-color: var(--fill-color);\n",
              "    }\n",
              "    20% {\n",
              "      border-color: transparent;\n",
              "      border-left-color: var(--fill-color);\n",
              "      border-top-color: var(--fill-color);\n",
              "    }\n",
              "    30% {\n",
              "      border-color: transparent;\n",
              "      border-left-color: var(--fill-color);\n",
              "      border-top-color: var(--fill-color);\n",
              "      border-right-color: var(--fill-color);\n",
              "    }\n",
              "    40% {\n",
              "      border-color: transparent;\n",
              "      border-right-color: var(--fill-color);\n",
              "      border-top-color: var(--fill-color);\n",
              "    }\n",
              "    60% {\n",
              "      border-color: transparent;\n",
              "      border-right-color: var(--fill-color);\n",
              "    }\n",
              "    80% {\n",
              "      border-color: transparent;\n",
              "      border-right-color: var(--fill-color);\n",
              "      border-bottom-color: var(--fill-color);\n",
              "    }\n",
              "    90% {\n",
              "      border-color: transparent;\n",
              "      border-bottom-color: var(--fill-color);\n",
              "    }\n",
              "  }\n",
              "</style>\n",
              "\n",
              "  <script>\n",
              "    async function quickchart(key) {\n",
              "      const quickchartButtonEl =\n",
              "        document.querySelector('#' + key + ' button');\n",
              "      quickchartButtonEl.disabled = true;  // To prevent multiple clicks.\n",
              "      quickchartButtonEl.classList.add('colab-df-spinner');\n",
              "      try {\n",
              "        const charts = await google.colab.kernel.invokeFunction(\n",
              "            'suggestCharts', [key], {});\n",
              "      } catch (error) {\n",
              "        console.error('Error during call to suggestCharts:', error);\n",
              "      }\n",
              "      quickchartButtonEl.classList.remove('colab-df-spinner');\n",
              "      quickchartButtonEl.classList.add('colab-df-quickchart-complete');\n",
              "    }\n",
              "    (() => {\n",
              "      let quickchartButtonEl =\n",
              "        document.querySelector('#df-d7b9384f-3059-4ed8-be69-5ba7c1952dc2 button');\n",
              "      quickchartButtonEl.style.display =\n",
              "        google.colab.kernel.accessAllowed ? 'block' : 'none';\n",
              "    })();\n",
              "  </script>\n",
              "</div>\n",
              "    </div>\n",
              "  </div>\n"
            ]
          },
          "metadata": {},
          "execution_count": 31
        }
      ]
    },
    {
      "cell_type": "code",
      "source": [
        "test_pred = test.copy()"
      ],
      "metadata": {
        "id": "udvSIDdjt1L4"
      },
      "execution_count": null,
      "outputs": []
    },
    {
      "cell_type": "code",
      "source": [
        "train_df=df[['Open', 'High', 'Low', 'Volume']]"
      ],
      "metadata": {
        "id": "877A0I1HyHye"
      },
      "execution_count": null,
      "outputs": []
    },
    {
      "cell_type": "code",
      "source": [
        "train_df.info()"
      ],
      "metadata": {
        "colab": {
          "base_uri": "https://localhost:8080/"
        },
        "id": "pMCcRIoByZXB",
        "outputId": "0338b012-0bb0-439f-e8cb-5690bffa7b8c"
      },
      "execution_count": null,
      "outputs": [
        {
          "output_type": "stream",
          "name": "stdout",
          "text": [
            "<class 'pandas.core.frame.DataFrame'>\n",
            "RangeIndex: 1009 entries, 0 to 1008\n",
            "Data columns (total 4 columns):\n",
            " #   Column  Non-Null Count  Dtype  \n",
            "---  ------  --------------  -----  \n",
            " 0   Open    1009 non-null   float64\n",
            " 1   High    1009 non-null   float64\n",
            " 2   Low     1009 non-null   float64\n",
            " 3   Volume  1009 non-null   int64  \n",
            "dtypes: float64(3), int64(1)\n",
            "memory usage: 31.7 KB\n"
          ]
        }
      ]
    },
    {
      "cell_type": "code",
      "source": [
        "corrmat = train_df.corr()\n",
        "cmap = sns.diverging_palette(260,-10,s=50, l=75, n=6, as_cmap=True)\n",
        "plt.subplots(figsize=(9,9))\n",
        "sns.heatmap(corrmat,cmap= cmap,annot=True, square=True);"
      ],
      "metadata": {
        "colab": {
          "base_uri": "https://localhost:8080/",
          "height": 737
        },
        "id": "qbTqOTKOyTQ8",
        "outputId": "a0a13d79-c460-46f1-d38e-aa760fafd0f5"
      },
      "execution_count": null,
      "outputs": [
        {
          "output_type": "display_data",
          "data": {
            "text/plain": [
              "<Figure size 900x900 with 2 Axes>"
            ],
            "image/png": "[encoded data removed]"
          },
          "metadata": {
            "needs_background": "light"
          }
        }
      ]
    },
    {
      "cell_type": "code",
      "source": [
        "x_train = train[['Open', 'High', 'Low', 'Volume']].values\n",
        "x_test = test[['Open', 'High', 'Low', 'Volume']].values"
      ],
      "metadata": {
        "id": "VdY0qFQ3uNVy"
      },
      "execution_count": null,
      "outputs": []
    },
    {
      "cell_type": "code",
      "source": [
        "y_train = train['Close'].values\n",
        "y_test = test[\"Close\"].values"
      ],
      "metadata": {
        "id": "cdUrCxx1ubpY"
      },
      "execution_count": null,
      "outputs": []
    },
    {
      "cell_type": "markdown",
      "source": [
        "## Linear Regression"
      ],
      "metadata": {
        "id": "AGLD99leu5dW"
      }
    },
    {
      "cell_type": "code",
      "source": [
        "model_lnr = LinearRegression()\n",
        "model_lnr.fit(x_train, y_train)"
      ],
      "metadata": {
        "colab": {
          "base_uri": "https://localhost:8080/",
          "height": 74
        },
        "id": "DH7MCfi3u2d_",
        "outputId": "f391d525-7b5f-431d-bc21-1501b310bae8"
      },
      "execution_count": null,
      "outputs": [
        {
          "output_type": "execute_result",
          "data": {
            "text/plain": [
              "LinearRegression()"
            ],
            "text/html": [
              "<style>#sk-container-id-1 {color: black;background-color: white;}#sk-container-id-1 pre{padding: 0;}#sk-container-id-1 div.sk-toggleable {background-color: white;}#sk-container-id-1 label.sk-toggleable__label {cursor: pointer;display: block;width: 100%;margin-bottom: 0;padding: 0.3em;box-sizing: border-box;text-align: center;}#sk-container-id-1 label.sk-toggleable__label-arrow:before {content: \"▸\";float: left;margin-right: 0.25em;color: #696969;}#sk-container-id-1 label.sk-toggleable__label-arrow:hover:before {color: black;}#sk-container-id-1 div.sk-estimator:hover label.sk-toggleable__label-arrow:before {color: black;}#sk-container-id-1 div.sk-toggleable__content {max-height: 0;max-width: 0;overflow: hidden;text-align: left;background-color: #f0f8ff;}#sk-container-id-1 div.sk-toggleable__content pre {margin: 0.2em;color: black;border-radius: 0.25em;background-color: #f0f8ff;}#sk-container-id-1 input.sk-toggleable__control:checked~div.sk-toggleable__content {max-height: 200px;max-width: 100%;overflow: auto;}#sk-container-id-1 input.sk-toggleable__control:checked~label.sk-toggleable__label-arrow:before {content: \"▾\";}#sk-container-id-1 div.sk-estimator input.sk-toggleable__control:checked~label.sk-toggleable__label {background-color: #d4ebff;}#sk-container-id-1 div.sk-label input.sk-toggleable__control:checked~label.sk-toggleable__label {background-color: #d4ebff;}#sk-container-id-1 input.sk-hidden--visually {border: 0;clip: rect(1px 1px 1px 1px);clip: rect(1px, 1px, 1px, 1px);height: 1px;margin: -1px;overflow: hidden;padding: 0;position: absolute;width: 1px;}#sk-container-id-1 div.sk-estimator {font-family: monospace;background-color: #f0f8ff;border: 1px dotted black;border-radius: 0.25em;box-sizing: border-box;margin-bottom: 0.5em;}#sk-container-id-1 div.sk-estimator:hover {background-color: #d4ebff;}#sk-container-id-1 div.sk-parallel-item::after {content: \"\";width: 100%;border-bottom: 1px solid gray;flex-grow: 1;}#sk-container-id-1 div.sk-label:hover label.sk-toggleable__label {background-color: #d4ebff;}#sk-container-id-1 div.sk-serial::before {content: \"\";position: absolute;border-left: 1px solid gray;box-sizing: border-box;top: 0;bottom: 0;left: 50%;z-index: 0;}#sk-container-id-1 div.sk-serial {display: flex;flex-direction: column;align-items: center;background-color: white;padding-right: 0.2em;padding-left: 0.2em;position: relative;}#sk-container-id-1 div.sk-item {position: relative;z-index: 1;}#sk-container-id-1 div.sk-parallel {display: flex;align-items: stretch;justify-content: center;background-color: white;position: relative;}#sk-container-id-1 div.sk-item::before, #sk-container-id-1 div.sk-parallel-item::before {content: \"\";position: absolute;border-left: 1px solid gray;box-sizing: border-box;top: 0;bottom: 0;left: 50%;z-index: -1;}#sk-container-id-1 div.sk-parallel-item {display: flex;flex-direction: column;z-index: 1;position: relative;background-color: white;}#sk-container-id-1 div.sk-parallel-item:first-child::after {align-self: flex-end;width: 50%;}#sk-container-id-1 div.sk-parallel-item:last-child::after {align-self: flex-start;width: 50%;}#sk-container-id-1 div.sk-parallel-item:only-child::after {width: 0;}#sk-container-id-1 div.sk-dashed-wrapped {border: 1px dashed gray;margin: 0 0.4em 0.5em 0.4em;box-sizing: border-box;padding-bottom: 0.4em;background-color: white;}#sk-container-id-1 div.sk-label label {font-family: monospace;font-weight: bold;display: inline-block;line-height: 1.2em;}#sk-container-id-1 div.sk-label-container {text-align: center;}#sk-container-id-1 div.sk-container {/* jupyter's `normalize.less` sets `[hidden] { display: none; }` but bootstrap.min.css set `[hidden] { display: none !important; }` so we also need the `!important` here to be able to override the default hidden behavior on the sphinx rendered scikit-learn.org. See: https://github.com/scikit-learn/scikit-learn/issues/21755 */display: inline-block !important;position: relative;}#sk-container-id-1 div.sk-text-repr-fallback {display: none;}</style><div id=\"sk-container-id-1\" class=\"sk-top-container\"><div class=\"sk-text-repr-fallback\"><pre>LinearRegression()</pre><b>In a Jupyter environment, please rerun this cell to show the HTML representation or trust the notebook. <br />On GitHub, the HTML representation is unable to render, please try loading this page with nbviewer.org.</b></div><div class=\"sk-container\" hidden><div class=\"sk-item\"><div class=\"sk-estimator sk-toggleable\"><input class=\"sk-toggleable__control sk-hidden--visually\" id=\"sk-estimator-id-1\" type=\"checkbox\" checked><label for=\"sk-estimator-id-1\" class=\"sk-toggleable__label sk-toggleable__label-arrow\">LinearRegression</label><div class=\"sk-toggleable__content\"><pre>LinearRegression()</pre></div></div></div></div></div>"
            ]
          },
          "metadata": {},
          "execution_count": 38
        }
      ]
    },
    {
      "cell_type": "code",
      "source": [
        "y_pred=model_lnr.predict(x_test)"
      ],
      "metadata": {
        "id": "cN67v86Gu_LT"
      },
      "execution_count": null,
      "outputs": []
    },
    {
      "cell_type": "code",
      "source": [],
      "metadata": {
        "id": "TSpdkviOA6cs"
      },
      "execution_count": null,
      "outputs": []
    },
    {
      "cell_type": "code",
      "source": [
        "result = model_lnr.predict([[262.000000, 267.899994, 250.029999, 11896100]])\n",
        "print(result)"
      ],
      "metadata": {
        "colab": {
          "base_uri": "https://localhost:8080/"
        },
        "id": "bDBZgHnMvR4X",
        "outputId": "3821bc91-00cb-43e0-a061-8bf6fc438070"
      },
      "execution_count": null,
      "outputs": [
        {
          "output_type": "stream",
          "name": "stdout",
          "text": [
            "[257.44113198]\n"
          ]
        }
      ]
    },
    {
      "cell_type": "markdown",
      "source": [
        "## Model Evaluation"
      ],
      "metadata": {
        "id": "naoxtH4nwEm0"
      }
    },
    {
      "cell_type": "code",
      "source": [
        "print(\"MSE\",round(mean_squared_error(y_test,y_pred), 3))\n",
        "print(\"RMSE\",round(np.sqrt(mean_squared_error(y_test,y_pred)), 3))\n",
        "print(\"MAE\",round(mean_absolute_error(y_test,y_pred), 3))\n",
        "print(\"MAPE\",round(mean_absolute_percentage_error(y_test,y_pred), 3))\n",
        "print(\"R2 Score : \", round(r2_score(y_test,y_pred), 3))"
      ],
      "metadata": {
        "colab": {
          "base_uri": "https://localhost:8080/"
        },
        "id": "aZcRmsiHve95",
        "outputId": "dd8f47c4-7fc5-4411-9016-2a48ae104c0c"
      },
      "execution_count": null,
      "outputs": [
        {
          "output_type": "stream",
          "name": "stdout",
          "text": [
            "MSE 57.829\n",
            "RMSE 7.605\n",
            "MAE 5.897\n",
            "MAPE 0.013\n",
            "R2 Score :  0.99\n"
          ]
        }
      ]
    },
    {
      "cell_type": "code",
      "source": [
        "style()\n",
        "\n",
        "plt.scatter(y_pred, y_test, color='red', marker='o')\n",
        "plt.scatter(y_test, y_test, color='blue')\n",
        "plt.plot(y_test, y_test, color='lime')"
      ],
      "metadata": {
        "id": "Qi2m01Z_3VgZ",
        "colab": {
          "base_uri": "https://localhost:8080/",
          "height": 853
        },
        "outputId": "9dabe1e4-ba40-43c5-f1d4-9d05a72cbf84"
      },
      "execution_count": null,
      "outputs": [
        {
          "output_type": "execute_result",
          "data": {
            "text/plain": [
              "[<matplotlib.lines.Line2D at 0x7807fc487460>]"
            ]
          },
          "metadata": {},
          "execution_count": 42
        },
        {
          "output_type": "display_data",
          "data": {
            "text/plain": [
              "<Figure size 1500x1000 with 1 Axes>"
            ],
            "image/png": "[encoded data removed]"
          },
          "metadata": {}
        }
      ]
    },
    {
      "cell_type": "code",
      "source": [],
      "metadata": {
        "id": "bIhbUzP7ChsR"
      },
      "execution_count": null,
      "outputs": []
    }
  ]
}